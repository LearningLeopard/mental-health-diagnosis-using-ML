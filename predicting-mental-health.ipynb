{
 "cells": [
  {
   "cell_type": "markdown",
   "id": "2Cztrv_g1H0w",
   "metadata": {
    "id": "2Cztrv_g1H0w"
   },
   "source": [
    "## Initial Setup for importing the dataset"
   ]
  },
  {
   "cell_type": "code",
   "execution_count": 1,
   "id": "142c46bc",
   "metadata": {},
   "outputs": [],
   "source": [
    "import warnings\n",
    "warnings.filterwarnings('ignore')"
   ]
  },
  {
   "cell_type": "code",
   "execution_count": 2,
   "id": "sRx_qRaWU8ii",
   "metadata": {
    "id": "sRx_qRaWU8ii"
   },
   "outputs": [],
   "source": [
    "# !pip install PyDrive\n",
    "\n",
    "# from pydrive.auth import GoogleAuth\n",
    "# from pydrive.drive import GoogleDrive\n",
    "# from google.colab import auth\n",
    "# from oauth2client.client import GoogleCredentials\n",
    "\n",
    "# auth.authenticate_user()\n",
    "# gauth = GoogleAuth()\n",
    "# gauth.credentials = GoogleCredentials.get_application_default()\n",
    "# drive = GoogleDrive(gauth)\n",
    "\n",
    "# downloaded_train = drive.CreateFile({'id':'1ueyp9R3jOkbYtvMjVZ_Cx770CsN_JHsw'})\n",
    "# downloaded_train.GetContentFile('train.csv')\n",
    "\n",
    "# downloaded_test = drive.CreateFile({'id':'1X0b1qfYlkvLTe1XD8QVhProb-NpMSInK'})\n",
    "# downloaded_test.GetContentFile('test.csv')"
   ]
  },
  {
   "cell_type": "code",
   "execution_count": 3,
   "id": "LYqX5pagbhu7",
   "metadata": {
    "colab": {
     "base_uri": "https://localhost:8080/"
    },
    "id": "LYqX5pagbhu7",
    "outputId": "f6a27d11-ade3-4119-de8c-54a24fc231aa"
   },
   "outputs": [],
   "source": [
    "# !gdown --id 1ueyp9R3jOkbYtvMjVZ_Cx770CsN_JHsw\n",
    "# !gdown --id 1X0b1qfYlkvLTe1XD8QVhProb-NpMSInK"
   ]
  },
  {
   "cell_type": "markdown",
   "id": "30fa7991",
   "metadata": {
    "id": "30fa7991"
   },
   "source": [
    "## Importing required libraries"
   ]
  },
  {
   "cell_type": "code",
   "execution_count": 4,
   "id": "53059f67",
   "metadata": {
    "id": "53059f67"
   },
   "outputs": [],
   "source": [
    "from sklearn.model_selection import train_test_split\n",
    "from sklearn.feature_selection import SelectFromModel\n",
    "\n",
    "from sklearn.ensemble import RandomForestClassifier\n",
    "from sklearn.model_selection import GridSearchCV\n",
    "from sklearn.linear_model import LogisticRegression\n",
    "from sklearn.tree import DecisionTreeClassifier\n",
    "from sklearn.svm import SVC\n",
    "from sklearn.svm import LinearSVC\n",
    "from sklearn.ensemble import GradientBoostingClassifier\n",
    "from sklearn.ensemble import VotingClassifier\n",
    "\n",
    "from sklearn.metrics import classification_report\n",
    "from sklearn.metrics import confusion_matrix\n",
    "from sklearn.metrics import accuracy_score\n",
    "from sklearn.metrics import f1_score\n",
    "from sklearn.base import ClassifierMixin\n",
    "\n",
    "import numpy as np\n",
    "import pandas as pd\n",
    "import seaborn as sn\n",
    "import matplotlib.pyplot as plt"
   ]
  },
  {
   "cell_type": "markdown",
   "id": "5306b8ad",
   "metadata": {
    "id": "5306b8ad"
   },
   "source": [
    "## Importing the dataset"
   ]
  },
  {
   "cell_type": "code",
   "execution_count": 5,
   "id": "b9971b53",
   "metadata": {
    "colab": {
     "base_uri": "https://localhost:8080/"
    },
    "id": "b9971b53",
    "outputId": "839edd12-4da7-4fb6-bb31-b831aa4346d5"
   },
   "outputs": [
    {
     "data": {
      "text/plain": [
       "(1143, 286)"
      ]
     },
     "execution_count": 5,
     "metadata": {},
     "output_type": "execute_result"
    }
   ],
   "source": [
    "dataset_train = pd.read_csv(\"./Dataset/train.csv\")\n",
    "dataset_test = pd.read_csv(\"./Dataset/test.csv\")\n",
    "len(dataset_train), len(dataset_test)"
   ]
  },
  {
   "cell_type": "markdown",
   "id": "c7f381b1",
   "metadata": {
    "id": "c7f381b1"
   },
   "source": [
    "## Dividing between features and target attributes"
   ]
  },
  {
   "cell_type": "code",
   "execution_count": 6,
   "id": "6d2bbfd7",
   "metadata": {
    "id": "6d2bbfd7"
   },
   "outputs": [],
   "source": [
    "X_train = dataset_train.drop('depressed', axis=1)\n",
    "X_train = X_train.drop('survey_date', axis=1)\n",
    "\n",
    "X_test = dataset_test.drop('depressed', axis=1)\n",
    "X_test = X_test.drop('survey_date', axis=1)"
   ]
  },
  {
   "cell_type": "code",
   "execution_count": 7,
   "id": "577ab616",
   "metadata": {
    "id": "577ab616"
   },
   "outputs": [],
   "source": [
    "Y_train = dataset_train['depressed'].copy()\n",
    "Y_test = dataset_test['depressed'].copy()"
   ]
  },
  {
   "cell_type": "markdown",
   "id": "505cd929",
   "metadata": {
    "id": "505cd929"
   },
   "source": [
    "## For filling missing data values"
   ]
  },
  {
   "cell_type": "code",
   "execution_count": 8,
   "id": "cbf8b298",
   "metadata": {
    "colab": {
     "base_uri": "https://localhost:8080/"
    },
    "id": "cbf8b298",
    "outputId": "d3df2f2e-26c8-473c-8649-fa0a7d7c33f2"
   },
   "outputs": [
    {
     "name": "stdout",
     "output_type": "stream",
     "text": [
      "surveyid -- Null values = 0\n",
      "village -- Null values = 0\n",
      "femaleres -- Null values = 0\n",
      "age -- Null values = 0\n",
      "married -- Null values = 0\n",
      "children -- Null values = 0\n",
      "hhsize -- Null values = 0\n",
      "edu -- Null values = 0\n",
      "hh_children -- Null values = 0\n",
      "hh_totalmembers -- Null values = 334\n",
      "cons_nondurable -- Null values = 0\n",
      "asset_livestock -- Null values = 0\n",
      "asset_durable -- Null values = 0\n",
      "asset_phone -- Null values = 0\n",
      "asset_savings -- Null values = 0\n",
      "asset_land_owned_total -- Null values = 0\n",
      "asset_niceroof -- Null values = 0\n",
      "cons_allfood -- Null values = 0\n",
      "cons_ownfood -- Null values = 0\n",
      "cons_alcohol -- Null values = 43\n",
      "cons_tobacco -- Null values = 20\n",
      "cons_med_total -- Null values = 0\n",
      "cons_med_children -- Null values = 419\n",
      "cons_ed -- Null values = 0\n",
      "cons_social -- Null values = 0\n",
      "cons_other -- Null values = 0\n",
      "ent_wagelabor -- Null values = 0\n",
      "ent_ownfarm -- Null values = 0\n",
      "ent_business -- Null values = 0\n",
      "ent_nonagbusiness -- Null values = 0\n",
      "ent_employees -- Null values = 0\n",
      "ent_nonag_revenue -- Null values = 0\n",
      "ent_nonag_flowcost -- Null values = 0\n",
      "ent_farmrevenue -- Null values = 0\n",
      "ent_farmexpenses -- Null values = 0\n",
      "ent_animalstockrev -- Null values = 0\n",
      "ent_total_cost -- Null values = 0\n",
      "fs_adskipm_often -- Null values = 0\n",
      "fs_adwholed_often -- Null values = 0\n",
      "fs_chskipm_often -- Null values = 416\n",
      "fs_chwholed_often -- Null values = 416\n",
      "fs_meat -- Null values = 334\n",
      "fs_enoughtom -- Null values = 334\n",
      "fs_sleephun -- Null values = 334\n",
      "med_expenses_hh_ep -- Null values = 693\n",
      "med_expenses_sp_ep -- Null values = 878\n",
      "med_expenses_child_ep -- Null values = 600\n",
      "med_portion_sickinjured -- Null values = 334\n",
      "med_port_sick_child -- Null values = 416\n",
      "med_afford_port -- Null values = 423\n",
      "med_sickdays_hhave -- Null values = 334\n",
      "med_healthconsult -- Null values = 423\n",
      "med_vacc_newborns -- Null values = 0\n",
      "med_child_check -- Null values = 0\n",
      "med_u5_deaths -- Null values = 1084\n",
      "ed_expenses -- Null values = 463\n",
      "ed_expenses_perkid -- Null values = 463\n",
      "ed_schoolattend -- Null values = 463\n",
      "ed_sch_missedpc -- Null values = 467\n",
      "ed_work_act_pc -- Null values = 571\n",
      "labor_primary -- Null values = 0\n",
      "wage_expenditures -- Null values = 0\n",
      "durable_investment -- Null values = 0\n",
      "nondurable_investment -- Null values = 0\n",
      "given_mpesa -- Null values = 0\n",
      "amount_given_mpesa -- Null values = 0\n",
      "received_mpesa -- Null values = 0\n",
      "amount_received_mpesa -- Null values = 0\n",
      "net_mpesa -- Null values = 0\n",
      "saved_mpesa -- Null values = 0\n",
      "amount_saved_mpesa -- Null values = 0\n",
      "early_survey -- Null values = 0\n",
      "day_of_week -- Null values = 0\n"
     ]
    }
   ],
   "source": [
    "for column in X_train.columns:\n",
    "    print(f\"{column} -- Null values = {X_train[column].isnull().sum().sum()}\")"
   ]
  },
  {
   "cell_type": "code",
   "execution_count": 9,
   "id": "8d5039d3",
   "metadata": {
    "id": "8d5039d3",
    "scrolled": false
   },
   "outputs": [],
   "source": [
    "# Training data filling\n",
    "for column in X_train.columns:\n",
    "    count = X_train[column].isnull().sum().sum()\n",
    "    if count != 0:\n",
    "        mean_of_column = X_train[column].mean()\n",
    "        X_train[column].replace(to_replace = np.nan, value=mean_of_column, inplace=True)"
   ]
  },
  {
   "cell_type": "code",
   "execution_count": 10,
   "id": "12f6043a",
   "metadata": {
    "id": "12f6043a"
   },
   "outputs": [],
   "source": [
    "# Testing data filling\n",
    "# Possible Error: Not mentioned in the paper\n",
    "X_test = X_test.replace('.d', np.nan)\n",
    "X_test = X_test.astype({'age': 'float'})\n",
    "for column in X_test.columns:\n",
    "  count = X_test[column].isnull().sum().sum()\n",
    "  if count != 0:\n",
    "    mean = X_test[column].mean()\n",
    "    X_test[column].replace(to_replace = np.nan, value= mean, inplace=True)"
   ]
  },
  {
   "cell_type": "markdown",
   "id": "d94f9911",
   "metadata": {
    "id": "d94f9911"
   },
   "source": [
    "## Implementing the Random forest classifier for feature selection"
   ]
  },
  {
   "cell_type": "code",
   "execution_count": 11,
   "id": "f94ebe07",
   "metadata": {
    "colab": {
     "base_uri": "https://localhost:8080/"
    },
    "id": "f94ebe07",
    "outputId": "1e6096a8-cfd3-42cc-c968-296f6f3f8c45"
   },
   "outputs": [
    {
     "name": "stdout",
     "output_type": "stream",
     "text": [
      "('surveyid', 0.07161696696872082)\n",
      "('village', 0.06942616589206276)\n",
      "('femaleres', 0.007894921599378428)\n",
      "('age', 0.06857539058610562)\n",
      "('married', 0.012471646662773363)\n",
      "('children', 0.03674094829337496)\n",
      "('hhsize', 0.03456649195546171)\n",
      "('edu', 0.052684213275524985)\n",
      "('hh_children', 0.008330156954051909)\n",
      "('hh_totalmembers', 0.010360819061108235)\n",
      "('cons_nondurable', 0.016432813493734155)\n",
      "('asset_livestock', 0.018591681844905752)\n",
      "('asset_durable', 0.02002833989589627)\n",
      "('asset_phone', 0.013642270047206587)\n",
      "('asset_savings', 0.010970887160161006)\n",
      "('asset_land_owned_total', 0.01151696375370724)\n",
      "('asset_niceroof', 6.955537623496502e-06)\n",
      "('cons_allfood', 0.01685008916768938)\n",
      "('cons_ownfood', 0.016783985259534232)\n",
      "('cons_alcohol', 0.009488845805344372)\n",
      "('cons_tobacco', 0.006264688580577835)\n",
      "('cons_med_total', 0.00969850997208597)\n",
      "('cons_med_children', 0.0076181923240397804)\n",
      "('cons_ed', 0.014324384761181806)\n",
      "('cons_social', 0.02077214136267296)\n",
      "('cons_other', 0.015939805949369994)\n",
      "('ent_wagelabor', 0.002750963651741362)\n",
      "('ent_ownfarm', 0.0025737161950311737)\n",
      "('ent_business', 0.0015645423380192152)\n",
      "('ent_nonagbusiness', 0.0020227961116965525)\n",
      "('ent_employees', 0.0005635184343771373)\n",
      "('ent_nonag_revenue', 0.007356797470417525)\n",
      "('ent_nonag_flowcost', 0.005716252862738749)\n",
      "('ent_farmrevenue', 0.015772836581164084)\n",
      "('ent_farmexpenses', 0.020673690734152216)\n",
      "('ent_animalstockrev', 0.012538574784393347)\n",
      "('ent_total_cost', 0.015553247961391323)\n",
      "('fs_adskipm_often', 0.006785169572719328)\n",
      "('fs_adwholed_often', 0.015636346711938854)\n",
      "('fs_chskipm_often', 0.006095078687821829)\n",
      "('fs_chwholed_often', 0.007055991516114888)\n",
      "('fs_meat', 0.010546667235617783)\n",
      "('fs_enoughtom', 0.0026876127466664416)\n",
      "('fs_sleephun', 0.0027223710087805257)\n",
      "('med_expenses_hh_ep', 0.019510901049157914)\n",
      "('med_expenses_sp_ep', 0.01215719380035933)\n",
      "('med_expenses_child_ep', 0.016166470586363738)\n",
      "('med_portion_sickinjured', 0.012688207910797668)\n",
      "('med_port_sick_child', 0.008830333823058468)\n",
      "('med_afford_port', 0.006223400518283416)\n",
      "('med_sickdays_hhave', 0.01789938742437002)\n",
      "('med_healthconsult', 0.007910226444810368)\n",
      "('med_vacc_newborns', 0.0)\n",
      "('med_child_check', 0.0)\n",
      "('med_u5_deaths', 0.0027349749349600164)\n",
      "('ed_expenses', 0.01607919553874733)\n",
      "('ed_expenses_perkid', 0.017025154265385454)\n",
      "('ed_schoolattend', 0.007647579208107516)\n",
      "('ed_sch_missedpc', 0.010210931627922038)\n",
      "('ed_work_act_pc', 0.009884347756834055)\n",
      "('labor_primary', 0.0026606747830185485)\n",
      "('wage_expenditures', 1.5722433936518384e-05)\n",
      "('durable_investment', 0.02124066316443955)\n",
      "('nondurable_investment', 0.01632389251969387)\n",
      "('given_mpesa', 0.0004923496118722675)\n",
      "('amount_given_mpesa', 0.0019059095831061512)\n",
      "('received_mpesa', 0.0036772439774938)\n",
      "('amount_received_mpesa', 0.006761754314809374)\n",
      "('net_mpesa', 0.00825616575296906)\n",
      "('saved_mpesa', 0.008331025640390408)\n",
      "('amount_saved_mpesa', 0.00552104105756147)\n",
      "('early_survey', 0.002207751273007951)\n",
      "('day_of_week', 0.037423050229467625)\n"
     ]
    }
   ],
   "source": [
    "forest_classifier = RandomForestClassifier(n_estimators=10000, random_state=0, n_jobs=-1)\n",
    "\n",
    "forest_classifier.fit(X_train, Y_train)\n",
    "\n",
    "for feature in zip(X_train.columns.values.tolist(), forest_classifier.feature_importances_):\n",
    "    print(feature)"
   ]
  },
  {
   "cell_type": "code",
   "execution_count": 12,
   "id": "dfcff22f",
   "metadata": {
    "colab": {
     "base_uri": "https://localhost:8080/"
    },
    "id": "dfcff22f",
    "outputId": "c6a35a21-19df-47be-ec08-955050b9e12b"
   },
   "outputs": [
    {
     "name": "stdout",
     "output_type": "stream",
     "text": [
      "surveyid\n",
      "village\n",
      "femaleres\n",
      "age\n",
      "married\n",
      "children\n",
      "hhsize\n",
      "edu\n",
      "hh_children\n",
      "hh_totalmembers\n",
      "cons_nondurable\n",
      "asset_livestock\n",
      "asset_durable\n",
      "asset_phone\n",
      "asset_savings\n",
      "asset_land_owned_total\n",
      "cons_allfood\n",
      "cons_ownfood\n",
      "cons_alcohol\n",
      "cons_tobacco\n",
      "cons_med_total\n",
      "cons_med_children\n",
      "cons_ed\n",
      "cons_social\n",
      "cons_other\n",
      "ent_nonag_revenue\n",
      "ent_farmrevenue\n",
      "ent_farmexpenses\n",
      "ent_animalstockrev\n",
      "ent_total_cost\n",
      "fs_adskipm_often\n",
      "fs_adwholed_often\n",
      "fs_chskipm_often\n",
      "fs_chwholed_often\n",
      "fs_meat\n",
      "med_expenses_hh_ep\n",
      "med_expenses_sp_ep\n",
      "med_expenses_child_ep\n",
      "med_portion_sickinjured\n",
      "med_port_sick_child\n",
      "med_afford_port\n",
      "med_sickdays_hhave\n",
      "med_healthconsult\n",
      "ed_expenses\n",
      "ed_expenses_perkid\n",
      "ed_schoolattend\n",
      "ed_sch_missedpc\n",
      "ed_work_act_pc\n",
      "durable_investment\n",
      "nondurable_investment\n",
      "amount_received_mpesa\n",
      "net_mpesa\n",
      "saved_mpesa\n",
      "day_of_week\n",
      "54\n"
     ]
    }
   ],
   "source": [
    "sfm = SelectFromModel(forest_classifier, threshold=0.006)\n",
    "\n",
    "sfm.fit(X_train, Y_train)\n",
    "\n",
    "final_features=[]\n",
    "for feature_list_index in sfm.get_support(indices=True):\n",
    "    print(X_train.columns.values.tolist()[feature_list_index])\n",
    "    final_features.append(X_train.columns.values.tolist()[feature_list_index])\n",
    "    \n",
    "print(len(final_features))"
   ]
  },
  {
   "cell_type": "code",
   "execution_count": 13,
   "id": "19b5b752",
   "metadata": {
    "id": "19b5b752"
   },
   "outputs": [
    {
     "data": {
      "text/html": [
       "<div>\n",
       "<style scoped>\n",
       "    .dataframe tbody tr th:only-of-type {\n",
       "        vertical-align: middle;\n",
       "    }\n",
       "\n",
       "    .dataframe tbody tr th {\n",
       "        vertical-align: top;\n",
       "    }\n",
       "\n",
       "    .dataframe thead th {\n",
       "        text-align: right;\n",
       "    }\n",
       "</style>\n",
       "<table border=\"1\" class=\"dataframe\">\n",
       "  <thead>\n",
       "    <tr style=\"text-align: right;\">\n",
       "      <th></th>\n",
       "      <th>surveyid</th>\n",
       "      <th>village</th>\n",
       "      <th>femaleres</th>\n",
       "      <th>age</th>\n",
       "      <th>married</th>\n",
       "      <th>children</th>\n",
       "      <th>hhsize</th>\n",
       "      <th>edu</th>\n",
       "      <th>hh_children</th>\n",
       "      <th>hh_totalmembers</th>\n",
       "      <th>...</th>\n",
       "      <th>ed_expenses_perkid</th>\n",
       "      <th>ed_schoolattend</th>\n",
       "      <th>ed_sch_missedpc</th>\n",
       "      <th>ed_work_act_pc</th>\n",
       "      <th>durable_investment</th>\n",
       "      <th>nondurable_investment</th>\n",
       "      <th>amount_received_mpesa</th>\n",
       "      <th>net_mpesa</th>\n",
       "      <th>saved_mpesa</th>\n",
       "      <th>day_of_week</th>\n",
       "    </tr>\n",
       "  </thead>\n",
       "  <tbody>\n",
       "    <tr>\n",
       "      <th>0</th>\n",
       "      <td>901</td>\n",
       "      <td>181</td>\n",
       "      <td>1</td>\n",
       "      <td>21.0</td>\n",
       "      <td>0</td>\n",
       "      <td>3</td>\n",
       "      <td>4</td>\n",
       "      <td>10</td>\n",
       "      <td>3</td>\n",
       "      <td>4.000000</td>\n",
       "      <td>...</td>\n",
       "      <td>0.000000</td>\n",
       "      <td>0.000000</td>\n",
       "      <td>0.000000</td>\n",
       "      <td>0.775476</td>\n",
       "      <td>569.850340</td>\n",
       "      <td>48.166222</td>\n",
       "      <td>0.000000</td>\n",
       "      <td>0.000000</td>\n",
       "      <td>1</td>\n",
       "      <td>3</td>\n",
       "    </tr>\n",
       "    <tr>\n",
       "      <th>1</th>\n",
       "      <td>498</td>\n",
       "      <td>47</td>\n",
       "      <td>1</td>\n",
       "      <td>44.0</td>\n",
       "      <td>1</td>\n",
       "      <td>6</td>\n",
       "      <td>8</td>\n",
       "      <td>6</td>\n",
       "      <td>6</td>\n",
       "      <td>8.000000</td>\n",
       "      <td>...</td>\n",
       "      <td>3.651504</td>\n",
       "      <td>0.800000</td>\n",
       "      <td>3.000000</td>\n",
       "      <td>1.600000</td>\n",
       "      <td>252.650100</td>\n",
       "      <td>14.711897</td>\n",
       "      <td>0.000000</td>\n",
       "      <td>0.000000</td>\n",
       "      <td>0</td>\n",
       "      <td>2</td>\n",
       "    </tr>\n",
       "    <tr>\n",
       "      <th>2</th>\n",
       "      <td>710</td>\n",
       "      <td>8</td>\n",
       "      <td>1</td>\n",
       "      <td>23.0</td>\n",
       "      <td>1</td>\n",
       "      <td>1</td>\n",
       "      <td>3</td>\n",
       "      <td>7</td>\n",
       "      <td>1</td>\n",
       "      <td>3.000000</td>\n",
       "      <td>...</td>\n",
       "      <td>8.648300</td>\n",
       "      <td>1.000000</td>\n",
       "      <td>1.000000</td>\n",
       "      <td>0.775476</td>\n",
       "      <td>141.736020</td>\n",
       "      <td>0.720692</td>\n",
       "      <td>0.000000</td>\n",
       "      <td>0.000000</td>\n",
       "      <td>1</td>\n",
       "      <td>1</td>\n",
       "    </tr>\n",
       "    <tr>\n",
       "      <th>3</th>\n",
       "      <td>433</td>\n",
       "      <td>25</td>\n",
       "      <td>1</td>\n",
       "      <td>67.0</td>\n",
       "      <td>0</td>\n",
       "      <td>0</td>\n",
       "      <td>1</td>\n",
       "      <td>1</td>\n",
       "      <td>0</td>\n",
       "      <td>1.000000</td>\n",
       "      <td>...</td>\n",
       "      <td>15.852179</td>\n",
       "      <td>0.696575</td>\n",
       "      <td>1.263021</td>\n",
       "      <td>0.775476</td>\n",
       "      <td>58.287693</td>\n",
       "      <td>4.804611</td>\n",
       "      <td>0.000000</td>\n",
       "      <td>0.000000</td>\n",
       "      <td>0</td>\n",
       "      <td>3</td>\n",
       "    </tr>\n",
       "    <tr>\n",
       "      <th>4</th>\n",
       "      <td>44</td>\n",
       "      <td>2</td>\n",
       "      <td>1</td>\n",
       "      <td>40.0</td>\n",
       "      <td>1</td>\n",
       "      <td>4</td>\n",
       "      <td>6</td>\n",
       "      <td>7</td>\n",
       "      <td>4</td>\n",
       "      <td>6.000000</td>\n",
       "      <td>...</td>\n",
       "      <td>6.826551</td>\n",
       "      <td>1.000000</td>\n",
       "      <td>1.250000</td>\n",
       "      <td>0.750000</td>\n",
       "      <td>440.223750</td>\n",
       "      <td>10.480058</td>\n",
       "      <td>0.000000</td>\n",
       "      <td>0.000000</td>\n",
       "      <td>0</td>\n",
       "      <td>4</td>\n",
       "    </tr>\n",
       "    <tr>\n",
       "      <th>...</th>\n",
       "      <td>...</td>\n",
       "      <td>...</td>\n",
       "      <td>...</td>\n",
       "      <td>...</td>\n",
       "      <td>...</td>\n",
       "      <td>...</td>\n",
       "      <td>...</td>\n",
       "      <td>...</td>\n",
       "      <td>...</td>\n",
       "      <td>...</td>\n",
       "      <td>...</td>\n",
       "      <td>...</td>\n",
       "      <td>...</td>\n",
       "      <td>...</td>\n",
       "      <td>...</td>\n",
       "      <td>...</td>\n",
       "      <td>...</td>\n",
       "      <td>...</td>\n",
       "      <td>...</td>\n",
       "      <td>...</td>\n",
       "      <td>...</td>\n",
       "    </tr>\n",
       "    <tr>\n",
       "      <th>281</th>\n",
       "      <td>255</td>\n",
       "      <td>22</td>\n",
       "      <td>1</td>\n",
       "      <td>25.0</td>\n",
       "      <td>1</td>\n",
       "      <td>1</td>\n",
       "      <td>3</td>\n",
       "      <td>7</td>\n",
       "      <td>0</td>\n",
       "      <td>5.163265</td>\n",
       "      <td>...</td>\n",
       "      <td>15.852179</td>\n",
       "      <td>0.696575</td>\n",
       "      <td>1.263021</td>\n",
       "      <td>0.775476</td>\n",
       "      <td>0.000000</td>\n",
       "      <td>0.000000</td>\n",
       "      <td>0.000000</td>\n",
       "      <td>0.000000</td>\n",
       "      <td>0</td>\n",
       "      <td>1</td>\n",
       "    </tr>\n",
       "    <tr>\n",
       "      <th>282</th>\n",
       "      <td>547</td>\n",
       "      <td>69</td>\n",
       "      <td>1</td>\n",
       "      <td>28.0</td>\n",
       "      <td>1</td>\n",
       "      <td>4</td>\n",
       "      <td>6</td>\n",
       "      <td>10</td>\n",
       "      <td>4</td>\n",
       "      <td>6.000000</td>\n",
       "      <td>...</td>\n",
       "      <td>52.583797</td>\n",
       "      <td>0.666667</td>\n",
       "      <td>3.333333</td>\n",
       "      <td>0.500000</td>\n",
       "      <td>182.347700</td>\n",
       "      <td>47.384361</td>\n",
       "      <td>0.000000</td>\n",
       "      <td>0.000000</td>\n",
       "      <td>1</td>\n",
       "      <td>5</td>\n",
       "    </tr>\n",
       "    <tr>\n",
       "      <th>283</th>\n",
       "      <td>893</td>\n",
       "      <td>184</td>\n",
       "      <td>1</td>\n",
       "      <td>66.0</td>\n",
       "      <td>0</td>\n",
       "      <td>0</td>\n",
       "      <td>1</td>\n",
       "      <td>1</td>\n",
       "      <td>0</td>\n",
       "      <td>1.000000</td>\n",
       "      <td>...</td>\n",
       "      <td>15.852179</td>\n",
       "      <td>0.696575</td>\n",
       "      <td>1.263021</td>\n",
       "      <td>0.775476</td>\n",
       "      <td>46.444572</td>\n",
       "      <td>0.104545</td>\n",
       "      <td>0.000000</td>\n",
       "      <td>0.000000</td>\n",
       "      <td>0</td>\n",
       "      <td>3</td>\n",
       "    </tr>\n",
       "    <tr>\n",
       "      <th>284</th>\n",
       "      <td>363</td>\n",
       "      <td>75</td>\n",
       "      <td>1</td>\n",
       "      <td>51.0</td>\n",
       "      <td>1</td>\n",
       "      <td>1</td>\n",
       "      <td>3</td>\n",
       "      <td>12</td>\n",
       "      <td>0</td>\n",
       "      <td>5.163265</td>\n",
       "      <td>...</td>\n",
       "      <td>15.852179</td>\n",
       "      <td>0.696575</td>\n",
       "      <td>1.263021</td>\n",
       "      <td>0.775476</td>\n",
       "      <td>0.000000</td>\n",
       "      <td>0.000000</td>\n",
       "      <td>0.000000</td>\n",
       "      <td>0.000000</td>\n",
       "      <td>0</td>\n",
       "      <td>3</td>\n",
       "    </tr>\n",
       "    <tr>\n",
       "      <th>285</th>\n",
       "      <td>231</td>\n",
       "      <td>12</td>\n",
       "      <td>1</td>\n",
       "      <td>33.0</td>\n",
       "      <td>0</td>\n",
       "      <td>4</td>\n",
       "      <td>5</td>\n",
       "      <td>8</td>\n",
       "      <td>4</td>\n",
       "      <td>5.000000</td>\n",
       "      <td>...</td>\n",
       "      <td>3.403266</td>\n",
       "      <td>0.750000</td>\n",
       "      <td>0.750000</td>\n",
       "      <td>1.333333</td>\n",
       "      <td>696.421260</td>\n",
       "      <td>1.301249</td>\n",
       "      <td>8.007685</td>\n",
       "      <td>8.007685</td>\n",
       "      <td>0</td>\n",
       "      <td>6</td>\n",
       "    </tr>\n",
       "  </tbody>\n",
       "</table>\n",
       "<p>286 rows × 54 columns</p>\n",
       "</div>"
      ],
      "text/plain": [
       "     surveyid  village  femaleres   age  married  children  hhsize  edu  \\\n",
       "0         901      181          1  21.0        0         3       4   10   \n",
       "1         498       47          1  44.0        1         6       8    6   \n",
       "2         710        8          1  23.0        1         1       3    7   \n",
       "3         433       25          1  67.0        0         0       1    1   \n",
       "4          44        2          1  40.0        1         4       6    7   \n",
       "..        ...      ...        ...   ...      ...       ...     ...  ...   \n",
       "281       255       22          1  25.0        1         1       3    7   \n",
       "282       547       69          1  28.0        1         4       6   10   \n",
       "283       893      184          1  66.0        0         0       1    1   \n",
       "284       363       75          1  51.0        1         1       3   12   \n",
       "285       231       12          1  33.0        0         4       5    8   \n",
       "\n",
       "     hh_children  hh_totalmembers  ...  ed_expenses_perkid  ed_schoolattend  \\\n",
       "0              3         4.000000  ...            0.000000         0.000000   \n",
       "1              6         8.000000  ...            3.651504         0.800000   \n",
       "2              1         3.000000  ...            8.648300         1.000000   \n",
       "3              0         1.000000  ...           15.852179         0.696575   \n",
       "4              4         6.000000  ...            6.826551         1.000000   \n",
       "..           ...              ...  ...                 ...              ...   \n",
       "281            0         5.163265  ...           15.852179         0.696575   \n",
       "282            4         6.000000  ...           52.583797         0.666667   \n",
       "283            0         1.000000  ...           15.852179         0.696575   \n",
       "284            0         5.163265  ...           15.852179         0.696575   \n",
       "285            4         5.000000  ...            3.403266         0.750000   \n",
       "\n",
       "     ed_sch_missedpc  ed_work_act_pc  durable_investment  \\\n",
       "0           0.000000        0.775476          569.850340   \n",
       "1           3.000000        1.600000          252.650100   \n",
       "2           1.000000        0.775476          141.736020   \n",
       "3           1.263021        0.775476           58.287693   \n",
       "4           1.250000        0.750000          440.223750   \n",
       "..               ...             ...                 ...   \n",
       "281         1.263021        0.775476            0.000000   \n",
       "282         3.333333        0.500000          182.347700   \n",
       "283         1.263021        0.775476           46.444572   \n",
       "284         1.263021        0.775476            0.000000   \n",
       "285         0.750000        1.333333          696.421260   \n",
       "\n",
       "     nondurable_investment  amount_received_mpesa  net_mpesa  saved_mpesa  \\\n",
       "0                48.166222               0.000000   0.000000            1   \n",
       "1                14.711897               0.000000   0.000000            0   \n",
       "2                 0.720692               0.000000   0.000000            1   \n",
       "3                 4.804611               0.000000   0.000000            0   \n",
       "4                10.480058               0.000000   0.000000            0   \n",
       "..                     ...                    ...        ...          ...   \n",
       "281               0.000000               0.000000   0.000000            0   \n",
       "282              47.384361               0.000000   0.000000            1   \n",
       "283               0.104545               0.000000   0.000000            0   \n",
       "284               0.000000               0.000000   0.000000            0   \n",
       "285               1.301249               8.007685   8.007685            0   \n",
       "\n",
       "     day_of_week  \n",
       "0              3  \n",
       "1              2  \n",
       "2              1  \n",
       "3              3  \n",
       "4              4  \n",
       "..           ...  \n",
       "281            1  \n",
       "282            5  \n",
       "283            3  \n",
       "284            3  \n",
       "285            6  \n",
       "\n",
       "[286 rows x 54 columns]"
      ]
     },
     "execution_count": 13,
     "metadata": {},
     "output_type": "execute_result"
    }
   ],
   "source": [
    "X_train.filter(final_features)\n",
    "X_test.filter(final_features)"
   ]
  },
  {
   "cell_type": "code",
   "execution_count": 14,
   "id": "5d8c827c",
   "metadata": {
    "id": "5d8c827c"
   },
   "outputs": [],
   "source": [
    "X_test.replace(to_replace = '.d', value=25, inplace=True)"
   ]
  },
  {
   "cell_type": "code",
   "execution_count": 15,
   "id": "eAvfNT3ffeaG",
   "metadata": {
    "id": "eAvfNT3ffeaG"
   },
   "outputs": [],
   "source": [
    "X_train, X_val, Y_train, Y_val = train_test_split(X_train, Y_train, test_size=0.3, random_state=1) # Train-Validation split"
   ]
  },
  {
   "cell_type": "markdown",
   "id": "3ecffa22",
   "metadata": {
    "id": "3ecffa22"
   },
   "source": [
    "## Applying different models to see which yields the best accuracy"
   ]
  },
  {
   "cell_type": "markdown",
   "id": "29f6a9b6",
   "metadata": {
    "id": "29f6a9b6"
   },
   "source": [
    "### Support Vector Machine"
   ]
  },
  {
   "cell_type": "markdown",
   "id": "FxyzvaUqbgoH",
   "metadata": {
    "id": "FxyzvaUqbgoH"
   },
   "source": [
    "#### Linear Kernel"
   ]
  },
  {
   "cell_type": "code",
   "execution_count": 16,
   "id": "1lNzBYUrbpCR",
   "metadata": {
    "colab": {
     "base_uri": "https://localhost:8080/"
    },
    "id": "1lNzBYUrbpCR",
    "outputId": "c64256e8-b51b-4eac-eeb2-df7210ee1eb9"
   },
   "outputs": [
    {
     "data": {
      "text/plain": [
       "LinearSVC(C=5)"
      ]
     },
     "execution_count": 16,
     "metadata": {},
     "output_type": "execute_result"
    }
   ],
   "source": [
    "svm_classifier_linear = LinearSVC(C = 5)\n",
    "svm_classifier_linear.fit(X_train, Y_train)"
   ]
  },
  {
   "cell_type": "markdown",
   "id": "CfP9kVS4bcS6",
   "metadata": {
    "id": "CfP9kVS4bcS6"
   },
   "source": [
    "#### RBF Kernel"
   ]
  },
  {
   "cell_type": "code",
   "execution_count": 17,
   "id": "6e719cd2",
   "metadata": {
    "colab": {
     "base_uri": "https://localhost:8080/"
    },
    "id": "6e719cd2",
    "outputId": "1cdfb504-66b0-482c-853f-225082dc408e"
   },
   "outputs": [
    {
     "data": {
      "text/plain": [
       "SVC(C=5)"
      ]
     },
     "execution_count": 17,
     "metadata": {},
     "output_type": "execute_result"
    }
   ],
   "source": [
    "svm_classifier_rbf = SVC(kernel='rbf', C=5)\n",
    "svm_classifier_rbf.fit(X_train,Y_train)"
   ]
  },
  {
   "cell_type": "markdown",
   "id": "2F3CCRvDcJW1",
   "metadata": {
    "id": "2F3CCRvDcJW1"
   },
   "source": [
    "#### Polynomial Kernel"
   ]
  },
  {
   "cell_type": "code",
   "execution_count": 18,
   "id": "bILMKrnIcI8N",
   "metadata": {
    "colab": {
     "base_uri": "https://localhost:8080/"
    },
    "id": "bILMKrnIcI8N",
    "outputId": "f9558be8-f21a-43b9-ce6e-e0e646914886"
   },
   "outputs": [
    {
     "data": {
      "text/plain": [
       "SVC(degree=2, kernel='poly')"
      ]
     },
     "execution_count": 18,
     "metadata": {},
     "output_type": "execute_result"
    }
   ],
   "source": [
    "svm_classifier_poly = SVC(kernel = 'poly', degree=2)\n",
    "svm_classifier_poly.fit(X_train, Y_train)"
   ]
  },
  {
   "cell_type": "markdown",
   "id": "RjaTmDItciku",
   "metadata": {
    "id": "RjaTmDItciku"
   },
   "source": [
    "#### Predictions for each model"
   ]
  },
  {
   "cell_type": "code",
   "execution_count": 19,
   "id": "5fbdfafa",
   "metadata": {
    "id": "5fbdfafa",
    "scrolled": true
   },
   "outputs": [],
   "source": [
    "Y_pred_svm_linear = svm_classifier_linear.predict(X_val)\n",
    "Y_pred_svm_rbf = svm_classifier_rbf.predict(X_val)\n",
    "Y_pred_svm_poly = svm_classifier_poly.predict(X_val)"
   ]
  },
  {
   "cell_type": "code",
   "execution_count": 20,
   "id": "d66bf777",
   "metadata": {
    "colab": {
     "base_uri": "https://localhost:8080/",
     "height": 455
    },
    "id": "d66bf777",
    "outputId": "daddcda1-e669-4895-e85b-4e1d27475f77"
   },
   "outputs": [
    {
     "name": "stdout",
     "output_type": "stream",
     "text": [
      "Classification Report for SVM linear model\n",
      "              precision    recall  f1-score   support\n",
      "\n",
      "           0       0.86      0.89      0.87       285\n",
      "           1       0.34      0.28      0.30        58\n",
      "\n",
      "    accuracy                           0.79       343\n",
      "   macro avg       0.60      0.58      0.59       343\n",
      "weighted avg       0.77      0.79      0.78       343\n",
      "\n"
     ]
    },
    {
     "data": {
      "image/png": "[encoded data removed]",
      "text/plain": [
       "<Figure size 432x288 with 2 Axes>"
      ]
     },
     "metadata": {
      "needs_background": "light"
     },
     "output_type": "display_data"
    }
   ],
   "source": [
    "conf_mat = confusion_matrix(Y_val, Y_pred_svm_linear)\n",
    "df_cm = pd.DataFrame(conf_mat, index = [i for i in ['not depressed', 'depressed']],\n",
    "                  columns = [i for i in ['not depressed', 'depressed']])\n",
    "sn.heatmap(df_cm, annot=True, fmt='g')\n",
    "plt.title('Confusion Matrix')\n",
    "plt.plot()\n",
    "\n",
    "print(\"Classification Report for SVM linear model\")\n",
    "print(classification_report(Y_val, Y_pred_svm_linear))"
   ]
  },
  {
   "cell_type": "code",
   "execution_count": 21,
   "id": "ayZs-Wr4MZ0v",
   "metadata": {
    "colab": {
     "base_uri": "https://localhost:8080/",
     "height": 579
    },
    "id": "ayZs-Wr4MZ0v",
    "outputId": "76212407-99fc-4bd7-8f1d-8c0800ac2d90"
   },
   "outputs": [
    {
     "name": "stdout",
     "output_type": "stream",
     "text": [
      "Classification Report for SVM RBF model\n",
      "              precision    recall  f1-score   support\n",
      "\n",
      "           0       0.83      1.00      0.91       285\n",
      "           1       0.00      0.00      0.00        58\n",
      "\n",
      "    accuracy                           0.83       343\n",
      "   macro avg       0.42      0.50      0.45       343\n",
      "weighted avg       0.69      0.83      0.75       343\n",
      "\n"
     ]
    },
    {
     "data": {
      "image/png": "[encoded data removed]",
      "text/plain": [
       "<Figure size 432x288 with 2 Axes>"
      ]
     },
     "metadata": {
      "needs_background": "light"
     },
     "output_type": "display_data"
    }
   ],
   "source": [
    "conf_mat = confusion_matrix(Y_val, Y_pred_svm_rbf)\n",
    "df_cm = pd.DataFrame(conf_mat, index = [i for i in ['not depressed', 'depressed']],\n",
    "                  columns = [i for i in ['not depressed', 'depressed']])\n",
    "sn.heatmap(df_cm, annot=True, fmt='g')\n",
    "plt.title('Confusion Matrix')\n",
    "plt.plot()\n",
    "\n",
    "print(\"Classification Report for SVM RBF model\")\n",
    "print(classification_report(Y_val, Y_pred_svm_rbf))"
   ]
  },
  {
   "cell_type": "code",
   "execution_count": 22,
   "id": "L2kOT1JFMZiC",
   "metadata": {
    "colab": {
     "base_uri": "https://localhost:8080/",
     "height": 1000
    },
    "id": "L2kOT1JFMZiC",
    "outputId": "ccf8b121-53de-4853-fd27-8c3020b7c42e"
   },
   "outputs": [
    {
     "name": "stdout",
     "output_type": "stream",
     "text": [
      "Classification Report for SVM Polynomial model\n",
      "              precision    recall  f1-score   support\n",
      "\n",
      "           0       0.83      1.00      0.91       285\n",
      "           1       0.00      0.00      0.00        58\n",
      "\n",
      "    accuracy                           0.83       343\n",
      "   macro avg       0.42      0.50      0.45       343\n",
      "weighted avg       0.69      0.83      0.75       343\n",
      "\n"
     ]
    },
    {
     "data": {
      "image/png": "[encoded data removed]",
      "text/plain": [
       "<Figure size 432x288 with 2 Axes>"
      ]
     },
     "metadata": {
      "needs_background": "light"
     },
     "output_type": "display_data"
    }
   ],
   "source": [
    "conf_mat = confusion_matrix(Y_val, Y_pred_svm_poly)\n",
    "df_cm = pd.DataFrame(conf_mat, index = [i for i in ['not depressed', 'depressed']],\n",
    "                  columns = [i for i in ['not depressed', 'depressed']])\n",
    "sn.heatmap(df_cm, annot=True, fmt='g')\n",
    "plt.title('Confusion Matrix')\n",
    "plt.plot()\n",
    "\n",
    "print(\"Classification Report for SVM Polynomial model\")\n",
    "print(classification_report(Y_val, Y_pred_svm_poly))"
   ]
  },
  {
   "cell_type": "markdown",
   "id": "zUYE_zyzYf7Q",
   "metadata": {
    "id": "zUYE_zyzYf7Q"
   },
   "source": [
    "### Logistic Regression"
   ]
  },
  {
   "cell_type": "code",
   "execution_count": 23,
   "id": "k7rBShjnYrHO",
   "metadata": {
    "id": "k7rBShjnYrHO"
   },
   "outputs": [],
   "source": [
    "lr_clf = LogisticRegression(solver='liblinear', random_state=0, max_iter=1000)\n",
    "lr_clf.fit(X_train, Y_train)\n",
    "\n",
    "Y_pred_lr = lr_clf.predict(X_val)"
   ]
  },
  {
   "cell_type": "code",
   "execution_count": 24,
   "id": "o67sf_9oUXpr",
   "metadata": {
    "colab": {
     "base_uri": "https://localhost:8080/",
     "height": 783
    },
    "id": "o67sf_9oUXpr",
    "outputId": "68a8edac-5268-4449-d8a5-c8a4fa2d9491"
   },
   "outputs": [
    {
     "name": "stdout",
     "output_type": "stream",
     "text": [
      "Classification Report for Logistic Regression model\n",
      "              precision    recall  f1-score   support\n",
      "\n",
      "           0       0.84      0.95      0.89       285\n",
      "           1       0.26      0.09      0.13        58\n",
      "\n",
      "    accuracy                           0.80       343\n",
      "   macro avg       0.55      0.52      0.51       343\n",
      "weighted avg       0.74      0.80      0.76       343\n",
      "\n"
     ]
    },
    {
     "data": {
      "image/png": "[encoded data removed]",
      "text/plain": [
       "<Figure size 432x288 with 2 Axes>"
      ]
     },
     "metadata": {
      "needs_background": "light"
     },
     "output_type": "display_data"
    }
   ],
   "source": [
    "conf_mat = confusion_matrix(Y_val, Y_pred_lr)\n",
    "df_cm = pd.DataFrame(conf_mat, index = [i for i in ['not depressed', 'depressed']],\n",
    "                  columns = [i for i in ['not depressed', 'depressed']])\n",
    "sn.heatmap(df_cm, annot=True, fmt='g')\n",
    "plt.title('Confusion Matrix')\n",
    "plt.plot()\n",
    "\n",
    "print(\"Classification Report for Logistic Regression model\")\n",
    "print(classification_report(Y_val, Y_pred_lr))"
   ]
  },
  {
   "cell_type": "markdown",
   "id": "fb7b0b4a",
   "metadata": {},
   "source": [
    "### Decision tree"
   ]
  },
  {
   "cell_type": "markdown",
   "id": "xIQ4PR0fuyM2",
   "metadata": {
    "id": "xIQ4PR0fuyM2"
   },
   "source": [
    "#### Decision tree_1\n"
   ]
  },
  {
   "cell_type": "code",
   "execution_count": 25,
   "id": "zs1KqqkQuEoB",
   "metadata": {
    "colab": {
     "base_uri": "https://localhost:8080/"
    },
    "id": "zs1KqqkQuEoB",
    "outputId": "c47ae9e1-289c-4148-f299-3b9212dfe7f5"
   },
   "outputs": [],
   "source": [
    "decision_tree = DecisionTreeClassifier( criterion = 'gini')\n",
    "decision_tree.fit(X_train, Y_train)\n",
    "\n",
    "Y_pred_dt1 = decision_tree.predict(X_val)"
   ]
  },
  {
   "cell_type": "code",
   "execution_count": 26,
   "id": "98a8b0ee",
   "metadata": {},
   "outputs": [
    {
     "name": "stdout",
     "output_type": "stream",
     "text": [
      "Classification Report forDecision Tree 1 model\n",
      "              precision    recall  f1-score   support\n",
      "\n",
      "           0       0.83      0.82      0.83       285\n",
      "           1       0.15      0.16      0.15        58\n",
      "\n",
      "    accuracy                           0.71       343\n",
      "   macro avg       0.49      0.49      0.49       343\n",
      "weighted avg       0.71      0.71      0.71       343\n",
      "\n"
     ]
    },
    {
     "data": {
      "image/png": "[encoded data removed]",
      "text/plain": [
       "<Figure size 432x288 with 2 Axes>"
      ]
     },
     "metadata": {
      "needs_background": "light"
     },
     "output_type": "display_data"
    }
   ],
   "source": [
    "conf_mat = confusion_matrix(Y_val, Y_pred_dt1)\n",
    "df_cm = pd.DataFrame(conf_mat, index = [i for i in ['not depressed', 'depressed']],\n",
    "                  columns = [i for i in ['not depressed', 'depressed']])\n",
    "sn.heatmap(df_cm, annot=True, fmt='g')\n",
    "plt.title('Confusion Matrix')\n",
    "plt.plot() \n",
    "\n",
    "print(\"Classification Report forDecision Tree 1 model\")\n",
    "print(classification_report(Y_val, Y_pred_dt1))"
   ]
  },
  {
   "cell_type": "markdown",
   "id": "cWk0vdd09h3B",
   "metadata": {
    "id": "cWk0vdd09h3B"
   },
   "source": [
    "#### Decision tree_2"
   ]
  },
  {
   "cell_type": "code",
   "execution_count": 27,
   "id": "9LouGbkp20F0",
   "metadata": {
    "colab": {
     "base_uri": "https://localhost:8080/"
    },
    "id": "9LouGbkp20F0",
    "outputId": "65b25ee4-7f83-4d21-b987-7149eee16f49"
   },
   "outputs": [],
   "source": [
    "decision_tree = DecisionTreeClassifier( criterion = 'gini', max_depth=5, max_leaf_nodes=10, min_samples_leaf=2, min_samples_split=2, splitter = \"random\")\n",
    "decision_tree.fit(X_train, Y_train)\n",
    "\n",
    "Y_pred_dt2 = decision_tree.predict(X_val)"
   ]
  },
  {
   "cell_type": "code",
   "execution_count": 28,
   "id": "8f04d2fa",
   "metadata": {},
   "outputs": [
    {
     "name": "stdout",
     "output_type": "stream",
     "text": [
      "Classification Report forDecision Tree 2 model\n",
      "              precision    recall  f1-score   support\n",
      "\n",
      "           0       0.83      0.98      0.90       285\n",
      "           1       0.12      0.02      0.03        58\n",
      "\n",
      "    accuracy                           0.81       343\n",
      "   macro avg       0.48      0.50      0.46       343\n",
      "weighted avg       0.71      0.81      0.75       343\n",
      "\n"
     ]
    },
    {
     "data": {
      "image/png": "[encoded data removed]",
      "text/plain": [
       "<Figure size 432x288 with 2 Axes>"
      ]
     },
     "metadata": {
      "needs_background": "light"
     },
     "output_type": "display_data"
    }
   ],
   "source": [
    "conf_mat = confusion_matrix(Y_val, Y_pred_dt2)\n",
    "df_cm = pd.DataFrame(conf_mat, index = [i for i in ['not depressed', 'depressed']],\n",
    "                  columns = [i for i in ['not depressed', 'depressed']])\n",
    "sn.heatmap(df_cm, annot=True, fmt='g')\n",
    "plt.title('Confusion Matrix')\n",
    "plt.plot()\n",
    "\n",
    "print(\"Classification Report forDecision Tree 2 model\")\n",
    "print(classification_report(Y_val, Y_pred_dt2))"
   ]
  },
  {
   "cell_type": "markdown",
   "id": "cQTdOOoE9Wcu",
   "metadata": {
    "id": "cQTdOOoE9Wcu"
   },
   "source": [
    "#### Decision tree_3\n",
    "\n"
   ]
  },
  {
   "cell_type": "code",
   "execution_count": 29,
   "id": "gGEFEnoc9VQf",
   "metadata": {
    "colab": {
     "base_uri": "https://localhost:8080/"
    },
    "id": "gGEFEnoc9VQf",
    "outputId": "ca8ca77e-add2-4571-d4fc-f872b8bc989a"
   },
   "outputs": [],
   "source": [
    "decision_tree = DecisionTreeClassifier( criterion = 'entropy', max_depth=6, max_leaf_nodes=10, min_samples_leaf=5, splitter = \"best\")\n",
    "decision_tree.fit(X_train, Y_train)\n",
    "\n",
    "Y_pred_dt3 = decision_tree.predict(X_val)"
   ]
  },
  {
   "cell_type": "code",
   "execution_count": 30,
   "id": "ef08a367",
   "metadata": {},
   "outputs": [
    {
     "name": "stdout",
     "output_type": "stream",
     "text": [
      "Classification Report forDecision Tree 3 model\n",
      "              precision    recall  f1-score   support\n",
      "\n",
      "           0       0.83      0.99      0.90       285\n",
      "           1       0.00      0.00      0.00        58\n",
      "\n",
      "    accuracy                           0.82       343\n",
      "   macro avg       0.41      0.49      0.45       343\n",
      "weighted avg       0.69      0.82      0.75       343\n",
      "\n"
     ]
    },
    {
     "data": {
      "image/png": "[encoded data removed]",
      "text/plain": [
       "<Figure size 432x288 with 2 Axes>"
      ]
     },
     "metadata": {
      "needs_background": "light"
     },
     "output_type": "display_data"
    }
   ],
   "source": [
    "conf_mat = confusion_matrix(Y_val, Y_pred_dt3)\n",
    "df_cm = pd.DataFrame(conf_mat, index = [i for i in ['not depressed', 'depressed']],\n",
    "                  columns = [i for i in ['not depressed', 'depressed']])\n",
    "sn.heatmap(df_cm, annot=True, fmt='g')\n",
    "plt.title('Confusion Matrix')\n",
    "plt.plot()\n",
    "\n",
    "print(\"Classification Report forDecision Tree 3 model\")\n",
    "print(classification_report(Y_val, Y_pred_dt3))"
   ]
  },
  {
   "cell_type": "markdown",
   "id": "hFqH_4v50DCK",
   "metadata": {
    "id": "hFqH_4v50DCK"
   },
   "source": [
    "### Random Forest with Grid Search"
   ]
  },
  {
   "cell_type": "code",
   "execution_count": 31,
   "id": "WgmFzc7s0DCK",
   "metadata": {
    "colab": {
     "base_uri": "https://localhost:8080/",
     "height": 613
    },
    "id": "WgmFzc7s0DCK",
    "outputId": "ce4801d9-55d6-40c6-c9d0-ea7973bc4a38"
   },
   "outputs": [
    {
     "name": "stdout",
     "output_type": "stream",
     "text": [
      "Best Score: 0.83125\n",
      "Best Hyperparameters: {'criterion': 'gini', 'max_depth': 3, 'max_features': 'auto', 'n_estimators': 100}\n",
      "Classification Report for Random forest model\n",
      "              precision    recall  f1-score   support\n",
      "\n",
      "           0       0.83      1.00      0.91       285\n",
      "           1       0.00      0.00      0.00        58\n",
      "\n",
      "    accuracy                           0.83       343\n",
      "   macro avg       0.42      0.50      0.45       343\n",
      "weighted avg       0.69      0.83      0.75       343\n",
      "\n"
     ]
    },
    {
     "data": {
      "image/png": "[encoded data removed]",
      "text/plain": [
       "<Figure size 432x288 with 2 Axes>"
      ]
     },
     "metadata": {
      "needs_background": "light"
     },
     "output_type": "display_data"
    }
   ],
   "source": [
    "search_space = {\n",
    "    'criterion': ['gini', 'entropy'],\n",
    "    'max_features': ['auto', 'sqrt', 'log2'],\n",
    "    'max_depth': [3, 5, 10],\n",
    "    'n_estimators': [100, 120, 150] \n",
    "}\n",
    "\n",
    "model_rf = RandomForestClassifier()\n",
    "grid_search = GridSearchCV(model_rf, search_space, scoring='accuracy', n_jobs=-1)\n",
    "grid_search_result = grid_search.fit(X_train, Y_train)\n",
    "\n",
    "print('Best Score: %s' % grid_search_result.best_score_)\n",
    "print('Best Hyperparameters: %s' % grid_search_result.best_params_)\n",
    "\n",
    "rf_predictions = grid_search.predict(X_val)\n",
    "\n",
    "confusion_matrix_rf = confusion_matrix(Y_val, rf_predictions)\n",
    "\n",
    "confusion_matrix_dataframe_rf = pd.DataFrame(confusion_matrix_rf, index = [i for i in ['not depressed', 'depressed']],\n",
    "                  columns = [i for i in ['not depressed', 'depressed']])\n",
    "sn.heatmap(confusion_matrix_dataframe_rf, annot=True, fmt='g')\n",
    "plt.title('Confusion Matrix')\n",
    "plt.plot()\n",
    "\n",
    "print(\"Classification Report for Random forest model\")\n",
    "print(classification_report(Y_val, rf_predictions))"
   ]
  },
  {
   "cell_type": "markdown",
   "id": "cD5wfHlp0DCK",
   "metadata": {
    "id": "cD5wfHlp0DCK"
   },
   "source": [
    "### Gradient Boosting "
   ]
  },
  {
   "cell_type": "code",
   "execution_count": 32,
   "id": "Lq4c9KtL0DCK",
   "metadata": {
    "colab": {
     "base_uri": "https://localhost:8080/",
     "height": 380
    },
    "id": "Lq4c9KtL0DCK",
    "outputId": "8094482d-50e9-46fd-d7c9-5c91c5fa236d"
   },
   "outputs": [
    {
     "name": "stderr",
     "output_type": "stream",
     "text": [
      "/home/chaitanya/Machine Learning material/Course project/collegeCourseEnv/lib/python3.8/site-packages/sklearn/ensemble/_gb.py:1284: FutureWarning: criterion='mae' was deprecated in version 0.24 and will be removed in version 1.1 (renaming of 0.26). Use criterion='friedman_mse' or 'squared_error' instead, as trees should use a squared error criterion in Gradient Boosting.\n",
      "  warnings.warn(\n",
      "/home/chaitanya/Machine Learning material/Course project/collegeCourseEnv/lib/python3.8/site-packages/sklearn/ensemble/_gb.py:1284: FutureWarning: criterion='mae' was deprecated in version 0.24 and will be removed in version 1.1 (renaming of 0.26). Use criterion='friedman_mse' or 'squared_error' instead, as trees should use a squared error criterion in Gradient Boosting.\n",
      "  warnings.warn(\n",
      "/home/chaitanya/Machine Learning material/Course project/collegeCourseEnv/lib/python3.8/site-packages/sklearn/ensemble/_gb.py:1284: FutureWarning: criterion='mae' was deprecated in version 0.24 and will be removed in version 1.1 (renaming of 0.26). Use criterion='friedman_mse' or 'squared_error' instead, as trees should use a squared error criterion in Gradient Boosting.\n",
      "  warnings.warn(\n",
      "/home/chaitanya/Machine Learning material/Course project/collegeCourseEnv/lib/python3.8/site-packages/sklearn/ensemble/_gb.py:1284: FutureWarning: criterion='mae' was deprecated in version 0.24 and will be removed in version 1.1 (renaming of 0.26). Use criterion='friedman_mse' or 'squared_error' instead, as trees should use a squared error criterion in Gradient Boosting.\n",
      "  warnings.warn(\n",
      "/home/chaitanya/Machine Learning material/Course project/collegeCourseEnv/lib/python3.8/site-packages/sklearn/ensemble/_gb.py:1284: FutureWarning: criterion='mae' was deprecated in version 0.24 and will be removed in version 1.1 (renaming of 0.26). Use criterion='friedman_mse' or 'squared_error' instead, as trees should use a squared error criterion in Gradient Boosting.\n",
      "  warnings.warn(\n",
      "/home/chaitanya/Machine Learning material/Course project/collegeCourseEnv/lib/python3.8/site-packages/sklearn/ensemble/_gb.py:1284: FutureWarning: criterion='mae' was deprecated in version 0.24 and will be removed in version 1.1 (renaming of 0.26). Use criterion='friedman_mse' or 'squared_error' instead, as trees should use a squared error criterion in Gradient Boosting.\n",
      "  warnings.warn(\n",
      "/home/chaitanya/Machine Learning material/Course project/collegeCourseEnv/lib/python3.8/site-packages/sklearn/ensemble/_gb.py:1284: FutureWarning: criterion='mae' was deprecated in version 0.24 and will be removed in version 1.1 (renaming of 0.26). Use criterion='friedman_mse' or 'squared_error' instead, as trees should use a squared error criterion in Gradient Boosting.\n",
      "  warnings.warn(\n",
      "/home/chaitanya/Machine Learning material/Course project/collegeCourseEnv/lib/python3.8/site-packages/sklearn/ensemble/_gb.py:1284: FutureWarning: criterion='mae' was deprecated in version 0.24 and will be removed in version 1.1 (renaming of 0.26). Use criterion='friedman_mse' or 'squared_error' instead, as trees should use a squared error criterion in Gradient Boosting.\n",
      "  warnings.warn(\n",
      "/home/chaitanya/Machine Learning material/Course project/collegeCourseEnv/lib/python3.8/site-packages/sklearn/ensemble/_gb.py:1284: FutureWarning: criterion='mae' was deprecated in version 0.24 and will be removed in version 1.1 (renaming of 0.26). Use criterion='friedman_mse' or 'squared_error' instead, as trees should use a squared error criterion in Gradient Boosting.\n",
      "  warnings.warn(\n",
      "/home/chaitanya/Machine Learning material/Course project/collegeCourseEnv/lib/python3.8/site-packages/sklearn/ensemble/_gb.py:1284: FutureWarning: criterion='mae' was deprecated in version 0.24 and will be removed in version 1.1 (renaming of 0.26). Use criterion='friedman_mse' or 'squared_error' instead, as trees should use a squared error criterion in Gradient Boosting.\n",
      "  warnings.warn(\n",
      "/home/chaitanya/Machine Learning material/Course project/collegeCourseEnv/lib/python3.8/site-packages/sklearn/ensemble/_gb.py:1284: FutureWarning: criterion='mae' was deprecated in version 0.24 and will be removed in version 1.1 (renaming of 0.26). Use criterion='friedman_mse' or 'squared_error' instead, as trees should use a squared error criterion in Gradient Boosting.\n",
      "  warnings.warn(\n",
      "/home/chaitanya/Machine Learning material/Course project/collegeCourseEnv/lib/python3.8/site-packages/sklearn/ensemble/_gb.py:1284: FutureWarning: criterion='mae' was deprecated in version 0.24 and will be removed in version 1.1 (renaming of 0.26). Use criterion='friedman_mse' or 'squared_error' instead, as trees should use a squared error criterion in Gradient Boosting.\n",
      "  warnings.warn(\n",
      "/home/chaitanya/Machine Learning material/Course project/collegeCourseEnv/lib/python3.8/site-packages/sklearn/ensemble/_gb.py:1284: FutureWarning: criterion='mae' was deprecated in version 0.24 and will be removed in version 1.1 (renaming of 0.26). Use criterion='friedman_mse' or 'squared_error' instead, as trees should use a squared error criterion in Gradient Boosting.\n",
      "  warnings.warn(\n",
      "/home/chaitanya/Machine Learning material/Course project/collegeCourseEnv/lib/python3.8/site-packages/sklearn/ensemble/_gb.py:1284: FutureWarning: criterion='mae' was deprecated in version 0.24 and will be removed in version 1.1 (renaming of 0.26). Use criterion='friedman_mse' or 'squared_error' instead, as trees should use a squared error criterion in Gradient Boosting.\n",
      "  warnings.warn(\n",
      "/home/chaitanya/Machine Learning material/Course project/collegeCourseEnv/lib/python3.8/site-packages/sklearn/ensemble/_gb.py:1284: FutureWarning: criterion='mae' was deprecated in version 0.24 and will be removed in version 1.1 (renaming of 0.26). Use criterion='friedman_mse' or 'squared_error' instead, as trees should use a squared error criterion in Gradient Boosting.\n",
      "  warnings.warn(\n",
      "/home/chaitanya/Machine Learning material/Course project/collegeCourseEnv/lib/python3.8/site-packages/sklearn/ensemble/_gb.py:1284: FutureWarning: criterion='mae' was deprecated in version 0.24 and will be removed in version 1.1 (renaming of 0.26). Use criterion='friedman_mse' or 'squared_error' instead, as trees should use a squared error criterion in Gradient Boosting.\n",
      "  warnings.warn(\n",
      "/home/chaitanya/Machine Learning material/Course project/collegeCourseEnv/lib/python3.8/site-packages/sklearn/ensemble/_gb.py:1284: FutureWarning: criterion='mae' was deprecated in version 0.24 and will be removed in version 1.1 (renaming of 0.26). Use criterion='friedman_mse' or 'squared_error' instead, as trees should use a squared error criterion in Gradient Boosting.\n",
      "  warnings.warn(\n",
      "/home/chaitanya/Machine Learning material/Course project/collegeCourseEnv/lib/python3.8/site-packages/sklearn/ensemble/_gb.py:1284: FutureWarning: criterion='mae' was deprecated in version 0.24 and will be removed in version 1.1 (renaming of 0.26). Use criterion='friedman_mse' or 'squared_error' instead, as trees should use a squared error criterion in Gradient Boosting.\n",
      "  warnings.warn(\n",
      "/home/chaitanya/Machine Learning material/Course project/collegeCourseEnv/lib/python3.8/site-packages/sklearn/ensemble/_gb.py:1284: FutureWarning: criterion='mae' was deprecated in version 0.24 and will be removed in version 1.1 (renaming of 0.26). Use criterion='friedman_mse' or 'squared_error' instead, as trees should use a squared error criterion in Gradient Boosting.\n",
      "  warnings.warn(\n",
      "/home/chaitanya/Machine Learning material/Course project/collegeCourseEnv/lib/python3.8/site-packages/sklearn/ensemble/_gb.py:1284: FutureWarning: criterion='mae' was deprecated in version 0.24 and will be removed in version 1.1 (renaming of 0.26). Use criterion='friedman_mse' or 'squared_error' instead, as trees should use a squared error criterion in Gradient Boosting.\n",
      "  warnings.warn(\n",
      "/home/chaitanya/Machine Learning material/Course project/collegeCourseEnv/lib/python3.8/site-packages/sklearn/ensemble/_gb.py:1284: FutureWarning: criterion='mae' was deprecated in version 0.24 and will be removed in version 1.1 (renaming of 0.26). Use criterion='friedman_mse' or 'squared_error' instead, as trees should use a squared error criterion in Gradient Boosting.\n",
      "  warnings.warn(\n",
      "/home/chaitanya/Machine Learning material/Course project/collegeCourseEnv/lib/python3.8/site-packages/sklearn/ensemble/_gb.py:1284: FutureWarning: criterion='mae' was deprecated in version 0.24 and will be removed in version 1.1 (renaming of 0.26). Use criterion='friedman_mse' or 'squared_error' instead, as trees should use a squared error criterion in Gradient Boosting.\n",
      "  warnings.warn(\n",
      "/home/chaitanya/Machine Learning material/Course project/collegeCourseEnv/lib/python3.8/site-packages/sklearn/ensemble/_gb.py:1284: FutureWarning: criterion='mae' was deprecated in version 0.24 and will be removed in version 1.1 (renaming of 0.26). Use criterion='friedman_mse' or 'squared_error' instead, as trees should use a squared error criterion in Gradient Boosting.\n",
      "  warnings.warn(\n",
      "/home/chaitanya/Machine Learning material/Course project/collegeCourseEnv/lib/python3.8/site-packages/sklearn/ensemble/_gb.py:1284: FutureWarning: criterion='mae' was deprecated in version 0.24 and will be removed in version 1.1 (renaming of 0.26). Use criterion='friedman_mse' or 'squared_error' instead, as trees should use a squared error criterion in Gradient Boosting.\n",
      "  warnings.warn(\n",
      "/home/chaitanya/Machine Learning material/Course project/collegeCourseEnv/lib/python3.8/site-packages/sklearn/ensemble/_gb.py:1284: FutureWarning: criterion='mae' was deprecated in version 0.24 and will be removed in version 1.1 (renaming of 0.26). Use criterion='friedman_mse' or 'squared_error' instead, as trees should use a squared error criterion in Gradient Boosting.\n",
      "  warnings.warn(\n",
      "/home/chaitanya/Machine Learning material/Course project/collegeCourseEnv/lib/python3.8/site-packages/sklearn/ensemble/_gb.py:1284: FutureWarning: criterion='mae' was deprecated in version 0.24 and will be removed in version 1.1 (renaming of 0.26). Use criterion='friedman_mse' or 'squared_error' instead, as trees should use a squared error criterion in Gradient Boosting.\n",
      "  warnings.warn(\n",
      "/home/chaitanya/Machine Learning material/Course project/collegeCourseEnv/lib/python3.8/site-packages/sklearn/ensemble/_gb.py:1284: FutureWarning: criterion='mae' was deprecated in version 0.24 and will be removed in version 1.1 (renaming of 0.26). Use criterion='friedman_mse' or 'squared_error' instead, as trees should use a squared error criterion in Gradient Boosting.\n",
      "  warnings.warn(\n",
      "/home/chaitanya/Machine Learning material/Course project/collegeCourseEnv/lib/python3.8/site-packages/sklearn/ensemble/_gb.py:1284: FutureWarning: criterion='mae' was deprecated in version 0.24 and will be removed in version 1.1 (renaming of 0.26). Use criterion='friedman_mse' or 'squared_error' instead, as trees should use a squared error criterion in Gradient Boosting.\n",
      "  warnings.warn(\n",
      "/home/chaitanya/Machine Learning material/Course project/collegeCourseEnv/lib/python3.8/site-packages/sklearn/ensemble/_gb.py:1284: FutureWarning: criterion='mae' was deprecated in version 0.24 and will be removed in version 1.1 (renaming of 0.26). Use criterion='friedman_mse' or 'squared_error' instead, as trees should use a squared error criterion in Gradient Boosting.\n",
      "  warnings.warn(\n",
      "/home/chaitanya/Machine Learning material/Course project/collegeCourseEnv/lib/python3.8/site-packages/sklearn/ensemble/_gb.py:1284: FutureWarning: criterion='mae' was deprecated in version 0.24 and will be removed in version 1.1 (renaming of 0.26). Use criterion='friedman_mse' or 'squared_error' instead, as trees should use a squared error criterion in Gradient Boosting.\n",
      "  warnings.warn(\n",
      "/home/chaitanya/Machine Learning material/Course project/collegeCourseEnv/lib/python3.8/site-packages/sklearn/ensemble/_gb.py:1284: FutureWarning: criterion='mae' was deprecated in version 0.24 and will be removed in version 1.1 (renaming of 0.26). Use criterion='friedman_mse' or 'squared_error' instead, as trees should use a squared error criterion in Gradient Boosting.\n",
      "  warnings.warn(\n",
      "/home/chaitanya/Machine Learning material/Course project/collegeCourseEnv/lib/python3.8/site-packages/sklearn/ensemble/_gb.py:1284: FutureWarning: criterion='mae' was deprecated in version 0.24 and will be removed in version 1.1 (renaming of 0.26). Use criterion='friedman_mse' or 'squared_error' instead, as trees should use a squared error criterion in Gradient Boosting.\n",
      "  warnings.warn(\n",
      "/home/chaitanya/Machine Learning material/Course project/collegeCourseEnv/lib/python3.8/site-packages/sklearn/ensemble/_gb.py:1284: FutureWarning: criterion='mae' was deprecated in version 0.24 and will be removed in version 1.1 (renaming of 0.26). Use criterion='friedman_mse' or 'squared_error' instead, as trees should use a squared error criterion in Gradient Boosting.\n",
      "  warnings.warn(\n",
      "/home/chaitanya/Machine Learning material/Course project/collegeCourseEnv/lib/python3.8/site-packages/sklearn/ensemble/_gb.py:1284: FutureWarning: criterion='mae' was deprecated in version 0.24 and will be removed in version 1.1 (renaming of 0.26). Use criterion='friedman_mse' or 'squared_error' instead, as trees should use a squared error criterion in Gradient Boosting.\n",
      "  warnings.warn(\n",
      "/home/chaitanya/Machine Learning material/Course project/collegeCourseEnv/lib/python3.8/site-packages/sklearn/ensemble/_gb.py:1284: FutureWarning: criterion='mae' was deprecated in version 0.24 and will be removed in version 1.1 (renaming of 0.26). Use criterion='friedman_mse' or 'squared_error' instead, as trees should use a squared error criterion in Gradient Boosting.\n",
      "  warnings.warn(\n",
      "/home/chaitanya/Machine Learning material/Course project/collegeCourseEnv/lib/python3.8/site-packages/sklearn/ensemble/_gb.py:1284: FutureWarning: criterion='mae' was deprecated in version 0.24 and will be removed in version 1.1 (renaming of 0.26). Use criterion='friedman_mse' or 'squared_error' instead, as trees should use a squared error criterion in Gradient Boosting.\n",
      "  warnings.warn(\n",
      "/home/chaitanya/Machine Learning material/Course project/collegeCourseEnv/lib/python3.8/site-packages/sklearn/ensemble/_gb.py:1284: FutureWarning: criterion='mae' was deprecated in version 0.24 and will be removed in version 1.1 (renaming of 0.26). Use criterion='friedman_mse' or 'squared_error' instead, as trees should use a squared error criterion in Gradient Boosting.\n",
      "  warnings.warn(\n",
      "/home/chaitanya/Machine Learning material/Course project/collegeCourseEnv/lib/python3.8/site-packages/sklearn/ensemble/_gb.py:1284: FutureWarning: criterion='mae' was deprecated in version 0.24 and will be removed in version 1.1 (renaming of 0.26). Use criterion='friedman_mse' or 'squared_error' instead, as trees should use a squared error criterion in Gradient Boosting.\n",
      "  warnings.warn(\n",
      "/home/chaitanya/Machine Learning material/Course project/collegeCourseEnv/lib/python3.8/site-packages/sklearn/ensemble/_gb.py:1284: FutureWarning: criterion='mae' was deprecated in version 0.24 and will be removed in version 1.1 (renaming of 0.26). Use criterion='friedman_mse' or 'squared_error' instead, as trees should use a squared error criterion in Gradient Boosting.\n",
      "  warnings.warn(\n",
      "/home/chaitanya/Machine Learning material/Course project/collegeCourseEnv/lib/python3.8/site-packages/sklearn/ensemble/_gb.py:1284: FutureWarning: criterion='mae' was deprecated in version 0.24 and will be removed in version 1.1 (renaming of 0.26). Use criterion='friedman_mse' or 'squared_error' instead, as trees should use a squared error criterion in Gradient Boosting.\n",
      "  warnings.warn(\n"
     ]
    },
    {
     "name": "stderr",
     "output_type": "stream",
     "text": [
      "/home/chaitanya/Machine Learning material/Course project/collegeCourseEnv/lib/python3.8/site-packages/sklearn/ensemble/_gb.py:1284: FutureWarning: criterion='mae' was deprecated in version 0.24 and will be removed in version 1.1 (renaming of 0.26). Use criterion='friedman_mse' or 'squared_error' instead, as trees should use a squared error criterion in Gradient Boosting.\n",
      "  warnings.warn(\n",
      "/home/chaitanya/Machine Learning material/Course project/collegeCourseEnv/lib/python3.8/site-packages/sklearn/ensemble/_gb.py:1284: FutureWarning: criterion='mae' was deprecated in version 0.24 and will be removed in version 1.1 (renaming of 0.26). Use criterion='friedman_mse' or 'squared_error' instead, as trees should use a squared error criterion in Gradient Boosting.\n",
      "  warnings.warn(\n",
      "/home/chaitanya/Machine Learning material/Course project/collegeCourseEnv/lib/python3.8/site-packages/sklearn/ensemble/_gb.py:1284: FutureWarning: criterion='mae' was deprecated in version 0.24 and will be removed in version 1.1 (renaming of 0.26). Use criterion='friedman_mse' or 'squared_error' instead, as trees should use a squared error criterion in Gradient Boosting.\n",
      "  warnings.warn(\n",
      "/home/chaitanya/Machine Learning material/Course project/collegeCourseEnv/lib/python3.8/site-packages/sklearn/ensemble/_gb.py:1284: FutureWarning: criterion='mae' was deprecated in version 0.24 and will be removed in version 1.1 (renaming of 0.26). Use criterion='friedman_mse' or 'squared_error' instead, as trees should use a squared error criterion in Gradient Boosting.\n",
      "  warnings.warn(\n",
      "/home/chaitanya/Machine Learning material/Course project/collegeCourseEnv/lib/python3.8/site-packages/sklearn/ensemble/_gb.py:1284: FutureWarning: criterion='mae' was deprecated in version 0.24 and will be removed in version 1.1 (renaming of 0.26). Use criterion='friedman_mse' or 'squared_error' instead, as trees should use a squared error criterion in Gradient Boosting.\n",
      "  warnings.warn(\n",
      "/home/chaitanya/Machine Learning material/Course project/collegeCourseEnv/lib/python3.8/site-packages/sklearn/ensemble/_gb.py:1284: FutureWarning: criterion='mae' was deprecated in version 0.24 and will be removed in version 1.1 (renaming of 0.26). Use criterion='friedman_mse' or 'squared_error' instead, as trees should use a squared error criterion in Gradient Boosting.\n",
      "  warnings.warn(\n",
      "/home/chaitanya/Machine Learning material/Course project/collegeCourseEnv/lib/python3.8/site-packages/sklearn/ensemble/_gb.py:1284: FutureWarning: criterion='mae' was deprecated in version 0.24 and will be removed in version 1.1 (renaming of 0.26). Use criterion='friedman_mse' or 'squared_error' instead, as trees should use a squared error criterion in Gradient Boosting.\n",
      "  warnings.warn(\n",
      "/home/chaitanya/Machine Learning material/Course project/collegeCourseEnv/lib/python3.8/site-packages/sklearn/ensemble/_gb.py:1284: FutureWarning: criterion='mae' was deprecated in version 0.24 and will be removed in version 1.1 (renaming of 0.26). Use criterion='friedman_mse' or 'squared_error' instead, as trees should use a squared error criterion in Gradient Boosting.\n",
      "  warnings.warn(\n",
      "/home/chaitanya/Machine Learning material/Course project/collegeCourseEnv/lib/python3.8/site-packages/sklearn/ensemble/_gb.py:1284: FutureWarning: criterion='mae' was deprecated in version 0.24 and will be removed in version 1.1 (renaming of 0.26). Use criterion='friedman_mse' or 'squared_error' instead, as trees should use a squared error criterion in Gradient Boosting.\n",
      "  warnings.warn(\n",
      "/home/chaitanya/Machine Learning material/Course project/collegeCourseEnv/lib/python3.8/site-packages/sklearn/ensemble/_gb.py:1284: FutureWarning: criterion='mae' was deprecated in version 0.24 and will be removed in version 1.1 (renaming of 0.26). Use criterion='friedman_mse' or 'squared_error' instead, as trees should use a squared error criterion in Gradient Boosting.\n",
      "  warnings.warn(\n",
      "/home/chaitanya/Machine Learning material/Course project/collegeCourseEnv/lib/python3.8/site-packages/sklearn/ensemble/_gb.py:1284: FutureWarning: criterion='mae' was deprecated in version 0.24 and will be removed in version 1.1 (renaming of 0.26). Use criterion='friedman_mse' or 'squared_error' instead, as trees should use a squared error criterion in Gradient Boosting.\n",
      "  warnings.warn(\n",
      "/home/chaitanya/Machine Learning material/Course project/collegeCourseEnv/lib/python3.8/site-packages/sklearn/ensemble/_gb.py:1284: FutureWarning: criterion='mae' was deprecated in version 0.24 and will be removed in version 1.1 (renaming of 0.26). Use criterion='friedman_mse' or 'squared_error' instead, as trees should use a squared error criterion in Gradient Boosting.\n",
      "  warnings.warn(\n",
      "/home/chaitanya/Machine Learning material/Course project/collegeCourseEnv/lib/python3.8/site-packages/sklearn/ensemble/_gb.py:1284: FutureWarning: criterion='mae' was deprecated in version 0.24 and will be removed in version 1.1 (renaming of 0.26). Use criterion='friedman_mse' or 'squared_error' instead, as trees should use a squared error criterion in Gradient Boosting.\n",
      "  warnings.warn(\n",
      "/home/chaitanya/Machine Learning material/Course project/collegeCourseEnv/lib/python3.8/site-packages/sklearn/ensemble/_gb.py:1284: FutureWarning: criterion='mae' was deprecated in version 0.24 and will be removed in version 1.1 (renaming of 0.26). Use criterion='friedman_mse' or 'squared_error' instead, as trees should use a squared error criterion in Gradient Boosting.\n",
      "  warnings.warn(\n",
      "/home/chaitanya/Machine Learning material/Course project/collegeCourseEnv/lib/python3.8/site-packages/sklearn/ensemble/_gb.py:1284: FutureWarning: criterion='mae' was deprecated in version 0.24 and will be removed in version 1.1 (renaming of 0.26). Use criterion='friedman_mse' or 'squared_error' instead, as trees should use a squared error criterion in Gradient Boosting.\n",
      "  warnings.warn(\n",
      "/home/chaitanya/Machine Learning material/Course project/collegeCourseEnv/lib/python3.8/site-packages/sklearn/ensemble/_gb.py:1284: FutureWarning: criterion='mae' was deprecated in version 0.24 and will be removed in version 1.1 (renaming of 0.26). Use criterion='friedman_mse' or 'squared_error' instead, as trees should use a squared error criterion in Gradient Boosting.\n",
      "  warnings.warn(\n",
      "/home/chaitanya/Machine Learning material/Course project/collegeCourseEnv/lib/python3.8/site-packages/sklearn/ensemble/_gb.py:1284: FutureWarning: criterion='mae' was deprecated in version 0.24 and will be removed in version 1.1 (renaming of 0.26). Use criterion='friedman_mse' or 'squared_error' instead, as trees should use a squared error criterion in Gradient Boosting.\n",
      "  warnings.warn(\n",
      "/home/chaitanya/Machine Learning material/Course project/collegeCourseEnv/lib/python3.8/site-packages/sklearn/ensemble/_gb.py:1284: FutureWarning: criterion='mae' was deprecated in version 0.24 and will be removed in version 1.1 (renaming of 0.26). Use criterion='friedman_mse' or 'squared_error' instead, as trees should use a squared error criterion in Gradient Boosting.\n",
      "  warnings.warn(\n",
      "/home/chaitanya/Machine Learning material/Course project/collegeCourseEnv/lib/python3.8/site-packages/sklearn/ensemble/_gb.py:1284: FutureWarning: criterion='mae' was deprecated in version 0.24 and will be removed in version 1.1 (renaming of 0.26). Use criterion='friedman_mse' or 'squared_error' instead, as trees should use a squared error criterion in Gradient Boosting.\n",
      "  warnings.warn(\n",
      "/home/chaitanya/Machine Learning material/Course project/collegeCourseEnv/lib/python3.8/site-packages/sklearn/ensemble/_gb.py:1284: FutureWarning: criterion='mae' was deprecated in version 0.24 and will be removed in version 1.1 (renaming of 0.26). Use criterion='friedman_mse' or 'squared_error' instead, as trees should use a squared error criterion in Gradient Boosting.\n",
      "  warnings.warn(\n",
      "/home/chaitanya/Machine Learning material/Course project/collegeCourseEnv/lib/python3.8/site-packages/sklearn/ensemble/_gb.py:1284: FutureWarning: criterion='mae' was deprecated in version 0.24 and will be removed in version 1.1 (renaming of 0.26). Use criterion='friedman_mse' or 'squared_error' instead, as trees should use a squared error criterion in Gradient Boosting.\n",
      "  warnings.warn(\n",
      "/home/chaitanya/Machine Learning material/Course project/collegeCourseEnv/lib/python3.8/site-packages/sklearn/ensemble/_gb.py:1284: FutureWarning: criterion='mae' was deprecated in version 0.24 and will be removed in version 1.1 (renaming of 0.26). Use criterion='friedman_mse' or 'squared_error' instead, as trees should use a squared error criterion in Gradient Boosting.\n",
      "  warnings.warn(\n",
      "/home/chaitanya/Machine Learning material/Course project/collegeCourseEnv/lib/python3.8/site-packages/sklearn/ensemble/_gb.py:1284: FutureWarning: criterion='mae' was deprecated in version 0.24 and will be removed in version 1.1 (renaming of 0.26). Use criterion='friedman_mse' or 'squared_error' instead, as trees should use a squared error criterion in Gradient Boosting.\n",
      "  warnings.warn(\n",
      "/home/chaitanya/Machine Learning material/Course project/collegeCourseEnv/lib/python3.8/site-packages/sklearn/ensemble/_gb.py:1284: FutureWarning: criterion='mae' was deprecated in version 0.24 and will be removed in version 1.1 (renaming of 0.26). Use criterion='friedman_mse' or 'squared_error' instead, as trees should use a squared error criterion in Gradient Boosting.\n",
      "  warnings.warn(\n",
      "/home/chaitanya/Machine Learning material/Course project/collegeCourseEnv/lib/python3.8/site-packages/sklearn/ensemble/_gb.py:1284: FutureWarning: criterion='mae' was deprecated in version 0.24 and will be removed in version 1.1 (renaming of 0.26). Use criterion='friedman_mse' or 'squared_error' instead, as trees should use a squared error criterion in Gradient Boosting.\n",
      "  warnings.warn(\n",
      "/home/chaitanya/Machine Learning material/Course project/collegeCourseEnv/lib/python3.8/site-packages/sklearn/ensemble/_gb.py:1284: FutureWarning: criterion='mae' was deprecated in version 0.24 and will be removed in version 1.1 (renaming of 0.26). Use criterion='friedman_mse' or 'squared_error' instead, as trees should use a squared error criterion in Gradient Boosting.\n",
      "  warnings.warn(\n",
      "/home/chaitanya/Machine Learning material/Course project/collegeCourseEnv/lib/python3.8/site-packages/sklearn/ensemble/_gb.py:1284: FutureWarning: criterion='mae' was deprecated in version 0.24 and will be removed in version 1.1 (renaming of 0.26). Use criterion='friedman_mse' or 'squared_error' instead, as trees should use a squared error criterion in Gradient Boosting.\n",
      "  warnings.warn(\n",
      "/home/chaitanya/Machine Learning material/Course project/collegeCourseEnv/lib/python3.8/site-packages/sklearn/ensemble/_gb.py:1284: FutureWarning: criterion='mae' was deprecated in version 0.24 and will be removed in version 1.1 (renaming of 0.26). Use criterion='friedman_mse' or 'squared_error' instead, as trees should use a squared error criterion in Gradient Boosting.\n",
      "  warnings.warn(\n",
      "/home/chaitanya/Machine Learning material/Course project/collegeCourseEnv/lib/python3.8/site-packages/sklearn/ensemble/_gb.py:1284: FutureWarning: criterion='mae' was deprecated in version 0.24 and will be removed in version 1.1 (renaming of 0.26). Use criterion='friedman_mse' or 'squared_error' instead, as trees should use a squared error criterion in Gradient Boosting.\n",
      "  warnings.warn(\n",
      "/home/chaitanya/Machine Learning material/Course project/collegeCourseEnv/lib/python3.8/site-packages/sklearn/ensemble/_gb.py:1284: FutureWarning: criterion='mae' was deprecated in version 0.24 and will be removed in version 1.1 (renaming of 0.26). Use criterion='friedman_mse' or 'squared_error' instead, as trees should use a squared error criterion in Gradient Boosting.\n",
      "  warnings.warn(\n",
      "/home/chaitanya/Machine Learning material/Course project/collegeCourseEnv/lib/python3.8/site-packages/sklearn/ensemble/_gb.py:1284: FutureWarning: criterion='mae' was deprecated in version 0.24 and will be removed in version 1.1 (renaming of 0.26). Use criterion='friedman_mse' or 'squared_error' instead, as trees should use a squared error criterion in Gradient Boosting.\n",
      "  warnings.warn(\n",
      "/home/chaitanya/Machine Learning material/Course project/collegeCourseEnv/lib/python3.8/site-packages/sklearn/ensemble/_gb.py:1284: FutureWarning: criterion='mae' was deprecated in version 0.24 and will be removed in version 1.1 (renaming of 0.26). Use criterion='friedman_mse' or 'squared_error' instead, as trees should use a squared error criterion in Gradient Boosting.\n",
      "  warnings.warn(\n",
      "/home/chaitanya/Machine Learning material/Course project/collegeCourseEnv/lib/python3.8/site-packages/sklearn/ensemble/_gb.py:1284: FutureWarning: criterion='mae' was deprecated in version 0.24 and will be removed in version 1.1 (renaming of 0.26). Use criterion='friedman_mse' or 'squared_error' instead, as trees should use a squared error criterion in Gradient Boosting.\n",
      "  warnings.warn(\n",
      "/home/chaitanya/Machine Learning material/Course project/collegeCourseEnv/lib/python3.8/site-packages/sklearn/ensemble/_gb.py:1284: FutureWarning: criterion='mae' was deprecated in version 0.24 and will be removed in version 1.1 (renaming of 0.26). Use criterion='friedman_mse' or 'squared_error' instead, as trees should use a squared error criterion in Gradient Boosting.\n",
      "  warnings.warn(\n",
      "/home/chaitanya/Machine Learning material/Course project/collegeCourseEnv/lib/python3.8/site-packages/sklearn/ensemble/_gb.py:1284: FutureWarning: criterion='mae' was deprecated in version 0.24 and will be removed in version 1.1 (renaming of 0.26). Use criterion='friedman_mse' or 'squared_error' instead, as trees should use a squared error criterion in Gradient Boosting.\n",
      "  warnings.warn(\n",
      "/home/chaitanya/Machine Learning material/Course project/collegeCourseEnv/lib/python3.8/site-packages/sklearn/ensemble/_gb.py:1284: FutureWarning: criterion='mae' was deprecated in version 0.24 and will be removed in version 1.1 (renaming of 0.26). Use criterion='friedman_mse' or 'squared_error' instead, as trees should use a squared error criterion in Gradient Boosting.\n",
      "  warnings.warn(\n",
      "/home/chaitanya/Machine Learning material/Course project/collegeCourseEnv/lib/python3.8/site-packages/sklearn/ensemble/_gb.py:1284: FutureWarning: criterion='mae' was deprecated in version 0.24 and will be removed in version 1.1 (renaming of 0.26). Use criterion='friedman_mse' or 'squared_error' instead, as trees should use a squared error criterion in Gradient Boosting.\n",
      "  warnings.warn(\n",
      "/home/chaitanya/Machine Learning material/Course project/collegeCourseEnv/lib/python3.8/site-packages/sklearn/ensemble/_gb.py:1284: FutureWarning: criterion='mae' was deprecated in version 0.24 and will be removed in version 1.1 (renaming of 0.26). Use criterion='friedman_mse' or 'squared_error' instead, as trees should use a squared error criterion in Gradient Boosting.\n",
      "  warnings.warn(\n",
      "/home/chaitanya/Machine Learning material/Course project/collegeCourseEnv/lib/python3.8/site-packages/sklearn/ensemble/_gb.py:1284: FutureWarning: criterion='mae' was deprecated in version 0.24 and will be removed in version 1.1 (renaming of 0.26). Use criterion='friedman_mse' or 'squared_error' instead, as trees should use a squared error criterion in Gradient Boosting.\n",
      "  warnings.warn(\n",
      "/home/chaitanya/Machine Learning material/Course project/collegeCourseEnv/lib/python3.8/site-packages/sklearn/ensemble/_gb.py:1284: FutureWarning: criterion='mae' was deprecated in version 0.24 and will be removed in version 1.1 (renaming of 0.26). Use criterion='friedman_mse' or 'squared_error' instead, as trees should use a squared error criterion in Gradient Boosting.\n",
      "  warnings.warn(\n"
     ]
    },
    {
     "name": "stderr",
     "output_type": "stream",
     "text": [
      "/home/chaitanya/Machine Learning material/Course project/collegeCourseEnv/lib/python3.8/site-packages/sklearn/ensemble/_gb.py:1284: FutureWarning: criterion='mae' was deprecated in version 0.24 and will be removed in version 1.1 (renaming of 0.26). Use criterion='friedman_mse' or 'squared_error' instead, as trees should use a squared error criterion in Gradient Boosting.\n",
      "  warnings.warn(\n",
      "/home/chaitanya/Machine Learning material/Course project/collegeCourseEnv/lib/python3.8/site-packages/sklearn/ensemble/_gb.py:1284: FutureWarning: criterion='mae' was deprecated in version 0.24 and will be removed in version 1.1 (renaming of 0.26). Use criterion='friedman_mse' or 'squared_error' instead, as trees should use a squared error criterion in Gradient Boosting.\n",
      "  warnings.warn(\n",
      "/home/chaitanya/Machine Learning material/Course project/collegeCourseEnv/lib/python3.8/site-packages/sklearn/ensemble/_gb.py:1284: FutureWarning: criterion='mae' was deprecated in version 0.24 and will be removed in version 1.1 (renaming of 0.26). Use criterion='friedman_mse' or 'squared_error' instead, as trees should use a squared error criterion in Gradient Boosting.\n",
      "  warnings.warn(\n",
      "/home/chaitanya/Machine Learning material/Course project/collegeCourseEnv/lib/python3.8/site-packages/sklearn/ensemble/_gb.py:1284: FutureWarning: criterion='mae' was deprecated in version 0.24 and will be removed in version 1.1 (renaming of 0.26). Use criterion='friedman_mse' or 'squared_error' instead, as trees should use a squared error criterion in Gradient Boosting.\n",
      "  warnings.warn(\n",
      "/home/chaitanya/Machine Learning material/Course project/collegeCourseEnv/lib/python3.8/site-packages/sklearn/ensemble/_gb.py:1284: FutureWarning: criterion='mae' was deprecated in version 0.24 and will be removed in version 1.1 (renaming of 0.26). Use criterion='friedman_mse' or 'squared_error' instead, as trees should use a squared error criterion in Gradient Boosting.\n",
      "  warnings.warn(\n",
      "/home/chaitanya/Machine Learning material/Course project/collegeCourseEnv/lib/python3.8/site-packages/sklearn/ensemble/_gb.py:1284: FutureWarning: criterion='mae' was deprecated in version 0.24 and will be removed in version 1.1 (renaming of 0.26). Use criterion='friedman_mse' or 'squared_error' instead, as trees should use a squared error criterion in Gradient Boosting.\n",
      "  warnings.warn(\n",
      "/home/chaitanya/Machine Learning material/Course project/collegeCourseEnv/lib/python3.8/site-packages/sklearn/ensemble/_gb.py:1284: FutureWarning: criterion='mae' was deprecated in version 0.24 and will be removed in version 1.1 (renaming of 0.26). Use criterion='friedman_mse' or 'squared_error' instead, as trees should use a squared error criterion in Gradient Boosting.\n",
      "  warnings.warn(\n",
      "/home/chaitanya/Machine Learning material/Course project/collegeCourseEnv/lib/python3.8/site-packages/sklearn/ensemble/_gb.py:1284: FutureWarning: criterion='mae' was deprecated in version 0.24 and will be removed in version 1.1 (renaming of 0.26). Use criterion='friedman_mse' or 'squared_error' instead, as trees should use a squared error criterion in Gradient Boosting.\n",
      "  warnings.warn(\n",
      "/home/chaitanya/Machine Learning material/Course project/collegeCourseEnv/lib/python3.8/site-packages/sklearn/ensemble/_gb.py:1284: FutureWarning: criterion='mae' was deprecated in version 0.24 and will be removed in version 1.1 (renaming of 0.26). Use criterion='friedman_mse' or 'squared_error' instead, as trees should use a squared error criterion in Gradient Boosting.\n",
      "  warnings.warn(\n",
      "/home/chaitanya/Machine Learning material/Course project/collegeCourseEnv/lib/python3.8/site-packages/sklearn/ensemble/_gb.py:1284: FutureWarning: criterion='mae' was deprecated in version 0.24 and will be removed in version 1.1 (renaming of 0.26). Use criterion='friedman_mse' or 'squared_error' instead, as trees should use a squared error criterion in Gradient Boosting.\n",
      "  warnings.warn(\n",
      "/home/chaitanya/Machine Learning material/Course project/collegeCourseEnv/lib/python3.8/site-packages/sklearn/ensemble/_gb.py:1284: FutureWarning: criterion='mae' was deprecated in version 0.24 and will be removed in version 1.1 (renaming of 0.26). Use criterion='friedman_mse' or 'squared_error' instead, as trees should use a squared error criterion in Gradient Boosting.\n",
      "  warnings.warn(\n",
      "/home/chaitanya/Machine Learning material/Course project/collegeCourseEnv/lib/python3.8/site-packages/sklearn/ensemble/_gb.py:1284: FutureWarning: criterion='mae' was deprecated in version 0.24 and will be removed in version 1.1 (renaming of 0.26). Use criterion='friedman_mse' or 'squared_error' instead, as trees should use a squared error criterion in Gradient Boosting.\n",
      "  warnings.warn(\n",
      "/home/chaitanya/Machine Learning material/Course project/collegeCourseEnv/lib/python3.8/site-packages/sklearn/ensemble/_gb.py:1284: FutureWarning: criterion='mae' was deprecated in version 0.24 and will be removed in version 1.1 (renaming of 0.26). Use criterion='friedman_mse' or 'squared_error' instead, as trees should use a squared error criterion in Gradient Boosting.\n",
      "  warnings.warn(\n",
      "/home/chaitanya/Machine Learning material/Course project/collegeCourseEnv/lib/python3.8/site-packages/sklearn/ensemble/_gb.py:1284: FutureWarning: criterion='mae' was deprecated in version 0.24 and will be removed in version 1.1 (renaming of 0.26). Use criterion='friedman_mse' or 'squared_error' instead, as trees should use a squared error criterion in Gradient Boosting.\n",
      "  warnings.warn(\n",
      "/home/chaitanya/Machine Learning material/Course project/collegeCourseEnv/lib/python3.8/site-packages/sklearn/ensemble/_gb.py:1284: FutureWarning: criterion='mae' was deprecated in version 0.24 and will be removed in version 1.1 (renaming of 0.26). Use criterion='friedman_mse' or 'squared_error' instead, as trees should use a squared error criterion in Gradient Boosting.\n",
      "  warnings.warn(\n",
      "/home/chaitanya/Machine Learning material/Course project/collegeCourseEnv/lib/python3.8/site-packages/sklearn/ensemble/_gb.py:1284: FutureWarning: criterion='mae' was deprecated in version 0.24 and will be removed in version 1.1 (renaming of 0.26). Use criterion='friedman_mse' or 'squared_error' instead, as trees should use a squared error criterion in Gradient Boosting.\n",
      "  warnings.warn(\n",
      "/home/chaitanya/Machine Learning material/Course project/collegeCourseEnv/lib/python3.8/site-packages/sklearn/ensemble/_gb.py:1284: FutureWarning: criterion='mae' was deprecated in version 0.24 and will be removed in version 1.1 (renaming of 0.26). Use criterion='friedman_mse' or 'squared_error' instead, as trees should use a squared error criterion in Gradient Boosting.\n",
      "  warnings.warn(\n",
      "/home/chaitanya/Machine Learning material/Course project/collegeCourseEnv/lib/python3.8/site-packages/sklearn/ensemble/_gb.py:1284: FutureWarning: criterion='mae' was deprecated in version 0.24 and will be removed in version 1.1 (renaming of 0.26). Use criterion='friedman_mse' or 'squared_error' instead, as trees should use a squared error criterion in Gradient Boosting.\n",
      "  warnings.warn(\n",
      "/home/chaitanya/Machine Learning material/Course project/collegeCourseEnv/lib/python3.8/site-packages/sklearn/ensemble/_gb.py:1284: FutureWarning: criterion='mae' was deprecated in version 0.24 and will be removed in version 1.1 (renaming of 0.26). Use criterion='friedman_mse' or 'squared_error' instead, as trees should use a squared error criterion in Gradient Boosting.\n",
      "  warnings.warn(\n",
      "/home/chaitanya/Machine Learning material/Course project/collegeCourseEnv/lib/python3.8/site-packages/sklearn/ensemble/_gb.py:1284: FutureWarning: criterion='mae' was deprecated in version 0.24 and will be removed in version 1.1 (renaming of 0.26). Use criterion='friedman_mse' or 'squared_error' instead, as trees should use a squared error criterion in Gradient Boosting.\n",
      "  warnings.warn(\n"
     ]
    },
    {
     "name": "stdout",
     "output_type": "stream",
     "text": [
      "Classification Report for Gradient Boosting\n",
      "              precision    recall  f1-score   support\n",
      "\n",
      "           0       0.84      0.99      0.91       285\n",
      "           1       0.60      0.05      0.10        58\n",
      "\n",
      "    accuracy                           0.83       343\n",
      "   macro avg       0.72      0.52      0.50       343\n",
      "weighted avg       0.80      0.83      0.77       343\n",
      "\n"
     ]
    },
    {
     "data": {
      "image/png": "[encoded data removed]",
      "text/plain": [
       "<Figure size 432x288 with 2 Axes>"
      ]
     },
     "metadata": {
      "needs_background": "light"
     },
     "output_type": "display_data"
    }
   ],
   "source": [
    "gb_clf2 = GradientBoostingClassifier()\n",
    "grid = {\n",
    "    'n_estimators': [10, 20, 50],\n",
    "    'max_depth': [3, 5, 10],\n",
    "    'max_features': ['auto', 'sqrt', 'log2'],\n",
    "    'random_state': [10, 20],\n",
    "    'criterion': ['friedman_mse', 'squared_error', 'absolute_error']\n",
    "}\n",
    "grid_search_model = GridSearchCV(gb_clf2, grid, scoring='accuracy', n_jobs=-1)\n",
    "grid_clf2 = grid_search_model.fit(X_train, Y_train)\n",
    "predictions = grid_search_model.predict(X_val)\n",
    "\n",
    "conf_mat = confusion_matrix(Y_val, predictions)\n",
    "df_cm = pd.DataFrame(conf_mat, index = [i for i in ['not depressed', 'depressed']],\n",
    "                  columns = [i for i in ['not depressed', 'depressed']])\n",
    "sn.heatmap(df_cm, annot=True, fmt='g')\n",
    "plt.title('Confusion Matrix')\n",
    "plt.plot()\n",
    "\n",
    "print(\"Classification Report for Gradient Boosting\")\n",
    "print(classification_report(Y_val, predictions))"
   ]
  },
  {
   "cell_type": "markdown",
   "id": "-SKtr4HX0DCL",
   "metadata": {
    "id": "-SKtr4HX0DCL"
   },
   "source": [
    "### Voting \n",
    "![image.png](data:image/png;base64,iVBORw0KGgoAAAANSUhEUgAAA58AAAE0CAYAAACrVYd4AAAgAElEQVR4nOzdd1gURx/A8e/ucbQTECkWRFFBFFQ09ord2CtqrNijRqOJxphmYm+xl+irosTeNXbF3ntBBUEsCIIVQUDK7b1/3IGIoGhUjM7neXzeN8fe7uzt3tz8dmZ+I1lYWOgw6NevHz///DOenp4EBwcjCMKHVapUKbZv384vv/yCj49PdhdHEITP3LJly3B3d6d06dLZXRRBEAThP2batGl4eXnh4OCQ+pqcjeURBEEQBEEQBEEQPhMi+BQEQRAEQRAEQRDeOyntsFsjIyOmTp1Ko0aN0Ol0r3qfIAjvgSRJqf9ffAcFQchuKXWSqI8EQRCENyVJEq1ateLChQuprxml3aBgwYIkJyezf/9+kpOTP3gBBeFzp1arsbOzIyoqiri4uOwujiAInzkbGxuMjIyIjIzM7qIIgiAI/zE5c+akdOnSLwSfkkg4JAgfD5FwSBCEj4lIOCQIgiC8LZFwSBAEQRAEQRAEQcgWIvh8Q7K5HQ525uKDEwRB+DeMLbE0y+5CCIIgfCCyBiuLLLYeZROs8hXEKb8NZqLBKXxijF6/yTsm21GlY0cq26sy3UQbeZSly4/xQHn5b+YerelV1+nlguviubJ5HtuDte+0uGmpivbAd80IPK2jODauAx3n+pP43o728VHZlaWNd3vqlnOnWGF7VE/vERZ8gWMH9rJjx36uPMqF18w5OC9pz7iTSYZ3ydhV6UjHyvZkesW1kRxdupxjGV9wWveqi9PLF5z4K5tZ4F+ALm3KYJW+ctYlELh1PlsC3/wKyY516N6m9Mv7JJngbbPYdPX93WPCR04uSL2erSj1qgaELolrW2fzT6AWkCncoDctSmiQMtlceXKetYv8CM3g9v+0yFgW+IKqnp7UrFULz8p2HOhXnWH7PqdaVBCED0vGpuJXdK6WJ/M2CDp02kRio6N4/CiSm5fPcj7o4Ttp38nm+ShZrTb16jWgXt3yPJ1bD6/5oWRW3cs2FfD+4RualcxHbicXHK1UKDG3OLpiLMPGbuVWUiZvFIT/kA8ffCrRBJ86jUOrAfzYpyp5jFKaZArRZ5cwZuZWLt8IIjqTb+az2+c4fEZLxdYDGdzSFXNJITZwA5MnLsY/8n1m45PJV6sx1WxVSNhQoVldnOb7c+2ziENk7Gv/yPxpX1MuVzKR5/zYs2kPd5PsKOrhQfvfOvHd6Kfce6LC1gZ27lYDKTWkQnTwKU47tGLAj32omscotRGuRJ9lyZiZbL18g6DMLzjnDp9BW7E1Awe3xNVcQokNZMPkiSz2jyT5YRxHjuoo6l6D9l93p7pDyv4VHhUL59jX63n4Ro16Myr2Hslv3Z1Sf6h0yREcWzKXpfvOcSFcZHz8rCkPuHr8BCr3ijTp3ofmbhapoyCU6MtsmOfDtlNXuXI35T5RiLy0j73RRak/aDQDqtnqt1diCTmwhlWb93P6cgCPPvXAU1ORPuO+oYGbG6WK5cFMArQRmQbkgiAI74ZCTMgZTuYqS5XmPejV2JUchkpbpzzjfnAAt6N1GJtbYZ/fEXsLNTIKCQ+vcXT7ahbO8WXf7fi3OK5M/kY/MbpfYyqUdMTKSAKSOfGqd+RrxtS1f/LFoT60aLKXhxaV+GmlL/1KOVG915/86n+Enuui3qIsgvBx+fDBJwncCzjMmrHnuC1vZMXXbphIAArBu3xYvut6pk+EAJTHIZzZH8K5y1Z4Nh1L1cSTTP16MPPfexSoEH5gG8celqNazmhOb93Hrc8i8AR18a/5a3ZfylvEc35WFzpOPE5UmotkVrgJw6aMoXs5W1RSMja5bZCJS72OCfcCOLxmLOduy2xc8TVuJobwMHgXPst3cf3VF5yQM/sJOXcZK8+mjK2ayMmpXzN4/jX0H38MV0+Ec/XEPvY/cuDYzMaGHksZ67rd6OC8kZnXst6yl22+pFuLAmmekOqI2z+Jr39f+YZBrPBpiuXOxaPcuXiU3VeMKb55IMWMAJK5tngog6ddIH21EBseyPnwYHQ1BtO/mi1SbACrfu7Hb2sCic2GM8gWsSeYN/AE82Q72i08yJ/1LUXgKQjCB5F4P4Cj2wM4uicQM7f1fF1EBehIOPwHDTr6ci/1t92c/OUb0rH/YHrWLUatzr/i2aI1S7/rxs/bwl7ZNn2Zwp1to/HeNg6XgZvZM6z0qxvccm5ajRxDK4dQZi0/oG9vPDnOhL6/U2TdeBpY3+VW2NsEwYLw8cnGkeSxnJgxkfXhKU01FcVr1MQhiyVSFSxAXllLxOa5LH1ngacxxb7qQBXjjP+qDVhAh8rlqFSuIl6zLpDwjo76cbPiywFfU95SRhu5mSkzXgw8AeJDtvC7VzMGbw4lWSdhlyfj4S2xJ2YwcX14auNcVbwGNbN+wSmQV0YbsZm5S6+91MAHiLt9m/tpOiYlEw869qiBJmtHAGScvDpT2+opT1J7YhUehd4iRgSeQjram6GEp94XCnfDbmd4XwKoCndgSEcX5Cenmdm9LUM/p8AzLSWK4Ov33rARJwiC8A5oQ7kT8bz2SXz0kCcvVEZx3Dm1jgndW/Pt2ttodRKyhTudJo2ng+PbNpe13LkVRsJrBk3Jzu3pXtcaWXePiDQjrLQ3l9OrRiWqVm7MqOOfR6tT+PRl7zTmaD/mLDhFnA5AwrS8F22LZT4q/zk17vVq46QLYs3f+4h5R8WxqDSEab/WIe8riqDE3uPOvdjPp/FkXBbPStbIgC7yNrefZbJd0i3WDR/Oyts6bO3tM3nCF43fnAWc0l9wJNPyeLUt9op5GM+p3etR20lH0Jq/2ZfJBVfi44nXJXArJCXAVeHQrAct8mXxNjcuR+cOZdEeW8OWO8+v8LP4Z4jBtsJLEuN5lmy4M3Q6EuIz/nLI+RoyduHveKpOMa1bVyYdfvj51B8vUUhO0orvkyAIH54Sz7PXRYEASiQ7/lzIyUT9trJVDTq3y1pbJeP9Ka+p82Xy1qhGcSMJdMkkJ724tRIbzq1Ise638OnI5hxaCiGrF7HDkGhGUrvRzjsLPVUm5WnTtAjJ59ax9tK76fWU8zRhzLQ+lDATg8FeYGKHnbX+M5ELuONu+Yptnxxgnu8ZJPvcGSTr0VNCVrNoxwN9RSypcWvnTY3XX3DKt2lKkeRzrFt7KdPeJX2LNhH/FX9zOt7wo2FRA+9OJbL0o5GzfldaFXzA1sX/pBmGAzrRUhZeS5dhQKUu2ILJy2fyld15pnp3Y+qJqM848BQEQcheWf09VyIucCnMUFtLKlw8PMjx3kplhFMhR1Si+Sl8JrI/gXPULnxWB6PvQFCRt6k3zXK/uliWddrTJH88R9au58a7aMlpPOg3cwItHY3EPKT0EmN4+swQyOVswLdDamCd6eVRuLl1G+c1duTO9IOMYpfPaoINPUaqvE3xbpb71TeiZR3aN8lP/JG1rM/CBVfurMZnp6F3STLCtX0P6lm95k1yAdp0rY/VtVUs3v9ZDogU3jFNiW78tWY6bWzOM9m7G1NPPRGBpyAIwn9CEknJKf9fQlYbY/zeWswSVpYWov0pfDayIeFQekmc//tvjnuPpJpGQrbwpEtHV1ZPuZpxD5dsT6O29cgVtZc1WyLSNeZkrEs1pVPbxniWcyW/nSVGCVFE3rjEUb+NrFi5l5B0IxfUBRrx04xx9CiXUx8AqdxoP34KVbWA7imnFv3BisvP56VaF6tFs1YtaOx0gV/6/u+lbLfGtm54Nm5OsyYluTWxK5NPacnp0Yb+/TtQz8MRC+19Ag6uYtqkJZx6VQYb2YriTbrTw6seFYrmxiQunODAq1y5dJJ9W3dy/GZMJg1ZFU7NRzLx26rkCFrN7z/8xckn/6LJm3SeE+fiae6pQZLUFO36F76JA/l6zB7CMrhASugC2jd63S7/5u/j3oyspkGSLfDs0hHX1VPIeAUTGftGbamXK4q9a7YQkZVT0T1hx8JVBDfpR1EjCZV9Q3p4TWHXgluZNv7VHp3oWEHhyC/L8E+0on4WDiMIGZOxqfwd8+cNpDwnmNS1OzPPvunkAA3O9TvwVYOKlCjuSuHcap6GBXBy9yoWLNpOUEbPR4zt8WjgRYe2ZbgzuS8zL1lRofuPDO1YDSejO+wYP5gRW0NRMMbWzZPGzZvRpOQtJnadzCltTjza9Kd/h3p4OFqgvR/AwVXTmLTk1CsTbWmc69PhqwZULFEc18K5UT8NI+DkblYtWMT2DAspCILwH6ApQuE8KdGmloe3b/PqppSMdanmeHdpRd2yLuTJKRNz+wJ7VsxmUSZ5gtRlujKqkwfGkgrHcjn0wafKlVajplA2ZcGA5ABW/z6f42LUrfAJyf6eT0AJXcvi7ff0waakxr19t0yHYsoFWuBVXUPE9tXsSZtxWl2AJqP/4eDmMTRUH2HagFbUqVGPr35cjL9VbfqM9GXP/qUMqmyT5qRlbPJbc3/PcnalpK7VxREZEkJISAghITe5F6tDtvWgxTdjWbzzDGf2LGFs/5ZUdLJCnWY/9rW+ZeaaQ5w/s4vFY7+hVcXCWJvkpGyfBezYMJnu1ZzJlyc3eQqWpGbnkSxdMojSJpl8IGbF6TxvO1umtMB41x90bFCT5oMXE5K/CV//NJ3Vhy9x5dwJjh4+zOHDh9g0rFKa99Zl0MguVHV1waPxD/zWtcjbXJLnlHA2/rWWGylz22Qrvui9kK1r/qCVa9ZT+by4z1DWLt7OPf0FR+3enm6ZX3BaeFVHE7Gd1XuynmI86fzfLDkWpx8KKZlTsYs35TL7vLGkrncbCt/fgs/GN81oJwhpqcjfcDQrlnxLed0xJrxF4CnbVKT/Ej/WDilNwpWd+M6YwJ9LjhBXqDYdf/wf27dNo3XhlNrHBMcqHRgyeSl+p0+y9a+f6OTpirVJLmr+tpSlI76iSlFH8hWuTJeB3ej83UzWHDrPmV2LGftNKyoWtsYkZ1n6LNjBhsndqeacjzy581CwZE06j1zKkkGlyfBrI9tQsf8S/NYOoXTCFXb6zmDCn0s4EleI2h1/5H/btzGtdeE0daQgCMJ/hYoibdpT3ULfF6lLvs3WDcczX/dTtqHK4GXs3jSOJsaHmdK3KTVrtmTg7HPk7bOEDcPKY5bB25SnkYa2ZggRqc/qEngcGpL6ekjIXaI/k5UVhM/HRxF8QjR7Fq0mKM1QzG7N82RQOBVuXl6UU4ewadVhUh8EyXlo+udqZnu7c39xH74atoTDQQ+JjX1A0MElDGvbkcknY1A71GKI7zKGV0qZuKgQcXQZc+b8zbGUtJXKTfbNn8WsWbOYNXsRfjcVJHMT4i7vYvV2/0zWH1V4cHAW33boyPiD0YbhnhrKfLuEyZ6BjGlWjhJuJSj2RWsmHn2EgkwOj14MaGabwTlaUP2neYxqmJ8H639n+N8nCI2KIeL8Okb0/oNdDxUkSU0Oq2hOr17K0qVLWXsi7PnbtXE8S0yZ1JBEfNy/z44WfXAMAyYd45HWsF/JCLuKPZmxfR+rf/eiRM43v42i9yxidVCyPjhU5aVpt+bkyWA3KjcvvMqpCdm0isNv8uRPCWXdwn+IMAS4qkKt6dnIJsMbXs7fki4NcxG4yifTZEaC8HqmuHaYzeo5XXDTnWVq1+7MPveGN5RZCXrPXcAgu7V0bd6fiQvXsHXHFlbOGEqnHzYQqZUwc27D+Jn9cFcDGGGqRHJmz2FuJMiGYVsyeZv9Qf9ca+nbvj9zjt8nWacQF3Edv5nf0qHjeA4aKjJJU4Zvl0zGM3AMzcqVwK1EMb5oPZGjjxSQc+DRawDNbNN/a8wo0XsuCwbZsbZrc/pPXMiarTvYsnIGQzv9wIZILZKZM23Gz6Sfuwg/BUH4D5EtcWs3kfk/VCKHBOhiuerzK9NPZLbMiRllBixi4XdVSFg3kHaD5uEXcJ+YJ2Fc3DWHAa0GsU9rm+F8Tm3QDubPnsWsWfPZd9PQ1anc5ajvHH0bdNYsZv31D1dEklvhE/ORBJ+QdGkpvkdi9cGIbEGNLh15KfGtSUXat3JFd2k9a86njEmQsW85itEtHZGf7Gb2zGM8Sb/zuAvMHj6X8890SOYl6D35B6q9Qaed9vZJdu3bz7b5azgRl/FsdUWrRUm6w5GThnVKJSssw+bQpfME/vG/RzygPDzB3EnruKkF5BxUqF7upV4F2bEtA78qjJpErpw+88JyDEr4Rny2hKEFJLUd2oAl/PXXPP7eH/p8o8QjTPpmJEu3bWfdjEEM872d9RPNVCznZ3WlzZCVXI5+nqlSMnGgaq+pbN2/njFtimPxJrtMusRS3yPE6i84FjW60PHlC07F9q1w1V1i/ZrzJGWwm1eJ2buIlVeSDPdULup270CRl+54NSU7dqaycgjfZVcyT2YkCK9kRJH2C1g1vgkFjSUk86J41nHjVfm5Xibj4j2K7ysls3X6XC680NZReLxnCetDtICEecmu9KipAWIJOu7Hvh0+rDhgmOcsO1Kt4FGGDlqA35GNjPGqSZ2mTajfbxl3khSS7hzhpGFxXcnKkrA5Xeg84R/878UDCg9PzGXSupvoq6kKVE83ZEB28WbU95VI3jqduS8WEuXxHpasD9HXUeYl6dqj5hssdSQIgvDhSOZ2FCnqhkfZytRq3I7ewyaz1O8Y2/9sTzGNRNK9s6z4uR1eI/dlOv3A5IuBTPi2LDli9jJj4h4epNtOeXyAucvPibaFIKTx0QSfKHdYv3grkSlDMd3a083zxWaLZZ32NHF4xvE16wlO+YKritOld31sZB2JZ/ez/3HGNYQ2cBlL9segQ8LIyYs+LfO8eRm1T1OT72TmWXyiIThLIuCQH6HpapzEwEBuJusAGYvcebBIdwVyVKpKaVMJSCIuNv3jrgTO7D2irwRla4q45M3gAio8PLGAYb16MnDiVkIyHSfypuIIXD2Epg26MWlLINHa1BAUI7vyeE/bzNbZnXDPcktT4c76xWzVX3AktRvtu3m+2FC1rEP7Jg48O76G9cFvMRhWe5W/F+83rNEpYeLRkR7pnzpoPOns5cL9LYvZEC4G3ApvSTLCpUJxVLGK4WGHJeW+XcBfvdwzHG6VIZOqdPcui9mzi5w8r2BmZvbiP6MbXLpsGFmhsqWKpwfPlyRWePrUMMxcuc9On1XcTF2qNorgcxcITX2S9Yz4lNERSQEc8gtN1zBKJDDwpj4JnGxB7jwWaeoZE6p296as2TMunjyPkr6MZkbcuHTZMEJEhW0VTzwyWTdZEAQh+0hY1B/D7n272bZ5LUvnT2HEwK+oWfgpx5ZMZJj3l5Sv2JQhS869tLZ5KtmGJn07U9wEYo9uYee9jDZUuBcWyWuajoLwWfl4gk8gxm8xqwLTDsVsSeoSjSmJhmIOsOaf8NR5eXKhOtQqZoSEwsOw24ZAIyOP2b/3tL4CkDRUqF397Qr52grkNRskPiXWEBBKauN0PZ8yVtZWqCUAU3LZWLx0gRKuXuW6oaVoYmb6wbOjJdz2Y3qfBtRq9ztrLj7meQxqTpEW41jl+y1ls9oFGuPH4lWBaTIdd6Pl8wtuSDQUw4E1//B2caFC5OaFbEzJjKRyoHnPtMN7ZfK07EoTmwBW+exHpEcR3pouiVMTmlC19Qj2ROjrMEllS41ffJjRvkiW5j6qS9aiWl4VkqYuk84GExyc/p8/c1tYG+oEmTxFXdNlnk75MsYRnfH8gJc3zUTi01jD/CYJtXGaWkpdklrV8qKSNNSddDaDMgbjP7dFarnkPEVxzTw9tiAIQjbREb1tEGWKOlOizVwuG5Znk1T25JX92e7nz/3XPLyXrRvQomZOZLTc8L+U+ZrzuoyX4hKEz9XH1SrQ+rNsySGe6rPEkKNGZzoU1w/FlAu0xKu6hvs7V7MjzfgHk2LFKWwYraloXzWwQeHJlQDuGHrBzAo5v6eT+DcUHkU+IF7fcsXVozSm6beIitEPVdU9I+zW3WwaypFExLEFDGrWgK7TDnI3KaValbGu+D2zRzXipWliGdLiv2wJh54aKv0cNejcobh+TU65AC29qqO5v5PVOx6+fRKguCMsWnre8NRRxsLTm84lDDeMypUOHauhO+zL0oxT7QpCFml5GHmX6Cs+9O34G7vuGgJQIwcajlvMhCYOr6lsZaxLuOOoAm3QXJo7F6BAgVf9K0jh9kuI/MCd9bJ1Cdz1hWRuc+fXlLEABQu3Z8mHLqQgCEJWJMbxJDaex8cmMmDCUX0Pp2SMc6cpTOvs8tqHhupyFfEwlQCFRw/ui6G1gpBFH1fwiULYBh+23DUMxTQqTrtuNdGgwq1tG8qpb/HPqgMv9FCZ57TCVAKQ0OR49TpJ2rsR3E9pB2let/Bj9og9uIndkVpAhV1dLxqki+JUzk7kl0F5sJdN+16a3fphJYWxb3InWvZbxtXYlGREKvK3/I4eJdPP38yYErYBny2GIFoyoni7btTUgMqtLW3Kqbn1zyoO/KsuSYXrK3zwe2SY42ZUjPbd62EJaGp4087tPv8s2pi1JVwEIQviA5bQv+Mv7Ag3BKDGhWk7xYcRtTJKMJZCwtY2JxIgWVljpWjRal/9T1E+/E0r2dqSU19IrK2U15ZRqygie7QgCB+5RAIXDuLnzWH60VyyLbV+ncNP1XK+os6WscqXF0vDBjqd6NsUhKz6yIJPIHY/PquukJQyFLOJNy2dKtO+pStc2cTq0y+Og3gWH2cYtilj4eD4yh43JS4Ww8gKdNGP39MJ/EuPd/DH9/O5EK0g2TTk5wkdKWZu+JtJEdoPbI9LYiDLfvyDf9LPbH/X5CLU+6oWjq+8S7SEbhtO9193GObrgmTkQs3aWe1ZjmW/zyquJKVkOm6Cd0snKrdviStX2LT6dObpzbNIebiNBetuGIYIq8jdqDteTnlo0qUp9ldWsvigGHArvFvxgX/Tv9Ov7InQJ+iSNO50n7OQ7ypknoJIrdIvuyznKoSz/cdXNQOgVukXh5ZzUcjZ/iP8AREEQXgLSjgbfxrMosBn+jrbrDg9pk+mbcHMH6RbaMxSM4xbWWecTV8QhJd9hN8VLVeX+nLQMHlTylGDXlOH0cwhkVPrVhOQPoHPrdupvVYqZzeKZ7qWI8imZoZeUh1xN669l9L/ewoP94+mdePeLDgfS+4vx7Hj1CE2rVjJpu2L8TbezNDWLflpR8T771FQWVK+1zgG1Xldzk6F2+vnsSllrVQkbHPbZ/kw2qtL8T0YY8gSnIMavaYyrJkDiafWsTr9BX8rCZxe7JuaqVgyr4T3LyPp5ilx0HfZS/eUILwLCYG+9O8+hsMP9AGobFmWgf+bR+8S5hlsrePRY8NIBlUJqnvavbZylm2ccbHN2giDd0X36LEhm7iKEtU9sXt9IXF2seXDllIQBOEtPDnCuAF/cjxaASRUeb5k5NwhVMgwj4VCVJSh3YKMU9GiL02TEgQhYx9h8AlKxCZ8NoenDsV0rvAF1rGHWLPxzksBV9KlQxy/r48e5FyV8fTIfJS+qoAjeWVAF8upfUcy3U760Fl8XqLCtlhVioTPpWMld8rU9+aH376jU73q1Os8glUXn3yYoWxJN7kZZkfzb7rg8ro7RXuLW6lZgXQ8fvAo68dRItjks5lwQ6ZjI+cKfGEdy6E1Gw1zdLPISIURKgwdSC8e4tYaFu24Z7inVBRu2Bi3+5tZvDlSDAsU3pvYC//j677z8Y/TARIq2+r87DODDs7pU8AqRF69ph89IJlTtYs3Hq9Kkys70WHiaJrne39lz4gSeZVrkYblXqp2wfvVhcSpw0RGf+hCCoIgvKWEK38x6JftRGj1dbamVD9mTmhJ/gzaQNGBgdzRAshYValFxSynNheEz9tHGXxCLAcXr8Q/ZTkAFB7uXsP2+xmECQmH+XtlgH6YrsqBL9vUyGRdORnHiuVwlEF7ZyOLNt1L87dktCm7ljTkyJHZxyI9D0zfOkKVeHWKWhVOrWewbFAyswfP4GDoEx6HXScwKJyYrPbQyRY4epTBxfbfrnEQy63b9zH+og+jexR/aU3SF0h22OUynJg2jBOHg97sSAcXs9I/MTUjnPJwN2u233+jwFDOkQNzSU0OC00GN/YT9ixcxbXklHHXifivXEzGI27VGKX56FQq0W8jZEBWo069NSRUUkb1hkLU0XH0H7XPsP6bhFG+LxmzeCLN0o1nTzzrx+H7+sDO2K0X44ZUIcNEsbI9tX6dTZ+Elfj6v6du+8yqqcSz+B3WJ9aQjN3oNW4IVTIuJPa1fmV2nwRW+vqLRByCIGQ/WY3a6HnNJqnkDJeru7PhB773DSJRnzWO/E3HMmtAadKPWUny38NBQzZ9Ve6m9GpbIMNGtWykSn1dZZRRe0JCSlPjZvhTIgifkI/2FtcGLsN3v2FIgzaMrav8iM5wyyQuzv+DxYEJ6FCRt2k/Ortk8OU2K09nLw+MtLdY8/ukF4MO5SkPHsUb1ucrgrt7SpiloXitKs/nPMrmaMz0FYRkaoZZBp+eiamJoQqRMm68GWvQpAQ2RuqXhqPJTt2YNK45TlYFqVCnMu5ODthZW2CmyuKlknPTZMouDm79h70HVzOw9CtDxtdI5taNMBQ5F1V/ms/oBpnP8dJUbEfToipA4cnheSw4+YYzNbWBLPNNWZNTS9jWVfhlfMEzZZonD9ayRO58Dhl+9kmXlrL44FN0gBKzH99lgRk3ilVWWFukPmXAwsrq4/2iCNlGzmmJhWy4TySZHJneJ1quL/2RsbtSsjZLGBdqwxTf8TRySPOO2P0sWupvyHZtRsnePqyb+Q0N3WwwkQGVBsfyXgxfvIF5Te4wbexmni8rJ6FSp3T5m6Ixf9UTLhNMTVLKnfF2xhoNz6uptLVULPsXLcVfX0jMSvbGZ91Mvmnoho2+kGgcy+M1fDEb5jXhzrSxbH5h7TsZEzO1/vspGWFklO3DTARB+GzkxCrNb7uJhdVLASUAShT7R33L1FOGdZVlS8p9N5vRjYAve+0AACAASURBVHK/WMfHH8Nn4Qn9usayJdV/nMnQyunmflp44N2hKmaGxJj5i7nxUrpL2RyNRmWoFzXkyPJ66YLw3/TxtqmVe2z22USYVkdy0AZWH0/IfNsnRxjbZxjrQ55Bjgp8N3sUjQqk6boyc6b1hMl4O91lx689+XXHg3Q9as84d+KCvtGnykPrkbP5qV8/hs1Yxtg6JsQZtlK7FKewqWF6uV0RXHKm//hyUKyoo/5DlVQ4FHJ6KbjUfFGaoipDeOrgTNF0lYyRQyEcTSVU+eszbO5adh05yXn/AIJv3eL2jWACr1zk3IkDbFsxgx9al8AqfRHMqtKisSPGkoRsVYaWXxbL/HN7LYX7t2/zRNFn7Pxq3g7Wjm6Ph03ag5pRoM73LJjpTWEjiLu2nO+/+5tbbzyWVeHeZh82hWnRJQexYfVxXnHFX2bhQbfO1ckhqXBu0YPG+TN4AKGEsWHRZsK0WsI2+aRrFKeQsanamCr2quf/XflLqtt8vF8VITuYUKRRPdxSbzMVbjXr4ZTZqH8ljI3LdnEv9WmHhFnRDsxaNQfv0ilrdybhP2coEw49MGRczIFri+Es2H2BoOAgrocEcmzjVPqWvMW0PkNYl3ZMupyb4i6GRo9sS4kyhTNfJiBHMYoanqhJKgcKOb1US/FF6aKoDI0lB+eiL4wmSfKfw9AJh3igLyQ5XFswfMFuLgQFE3Q9hMBjG5natyS3pvVhyLp0UyXkPLgXNzTgJEucComkRYIgfBgmLg2o5fq8vjMqWZeGBTOpKRMuMuvb39kZaUgaZ+SE1xQfRtR3TFO3KgT7DGPE9lCSdSBblmPA8l1snPkrA3r2oN+wCfy9ZR61Em+RYEh4mKfVHI4e28z0TmnaZhoPShVJWRzZkRKlRPIi4dMmWVhYpOaH7tevHz///DOenp4EBwdnZ7n0VK4M3LyR2lub0GrO9dcOwZStPfAa9APftK2Gk/oel46d5UachsKl3bG4tYN5Eyaz7Ewma0ZqyjF46RIGl8+JSgJd0n3O+P7MgFHbeVa1F980r0yF2rUoYWtk6FVTiL15Ar9Dh9g4eybH8nZleO/2NK7vjo0huNQl3OXsnt1sWTKZBafy89XvA+jcuN7zfeiSeXjZj+0r/2K0z0n9AsWyLZX7jWPcNw1wtlC9eoSuLo6rC7rTZuQh/fpUAHIRui//hz+qWyElhuDbvTE/7XvDLsS0n6nLt2zZ3JyQ+SsIzFGSKjVrUME5B3HhN7gZ8QyzfM64OFiienaHY2tmMHr8Ci48edtZlCpcB25mY+2tNGk1h+tZ2I3aoydTfmzBFx4lKWiVcm10KLF3uXzhAtumDGDGsfg0hyjGt2vGwk9eTE+baUi2pcEPE+hRw42S7o5YvtAjo0MbHYr/RX+2Te3PrOP/Nv9u5kqVKsX27dv55Zdf8PHxeW/HEd6Syo1OE4bTsow7HkXtMZPT3Cc6hbjIQC5eucim8UPxvawFZOwbDGVkOw8KlChPKQfzl77TOm00N04dYfvCXxi/LQLF3IVm3//OsM7VKah5XgfoEsI5vmI646Yu50xKpmvZgQbfDad745pUcrEm5bbVJT/i2qF9HL+4l8V/buSaFsCSCt2G07t9Y+q72xiCSx0Jd8+yZ/cWlkxewKn8X/H7gM40rlcCW8POdMkPuey3nZV/jcbnZMoy6ua4NPue34d1pnpBjWFfgC6B8OMrmD5uKsvPpHnIp3KjzU89aFS5JrVK5cE4pZzxYZzee4Azfn8zftVFkt7FNRLeqWXLluHu7k7p0qWzuyiC8BZk8jT6mQk9a1HKwwU7UzlNHaxDiYsk4KI/Z1aN5ufVQelGQ8nY1B7LhkWdKKI21IdKHHf9j7NqQj8m7zfUh2pH6gwYwS896+GSph2S/PgyGyb8wJgnfTk0syYPT+9my+ZNrN+8j8DHWtSl2jGsoyelqtSmciELUn5OdHF3OHPgMJdCzrFp1lJOvX0TThCy3bRp0/Dy8sLBwSH1tY87+EQmp3sFCkSc5OLDNwhojG1xKeVGodyWyLH3uHnlAgH3stCPprKhWJWKFDGPIfTSaS6Gx7/+Pe+cGS6tfmd0w5tM/fM4skM+8tjbkMvKCo2ZCcbGRqhNNOS0L4hbhUp42F1hbJ1WzA1J8/mYOVKxlgfmIUc4EPD43yXUMXalQX1Tjm65oA+OkbEoUIYKpYuQz94GCymOB3eucvLoGW4++fczu+Sc7lQoEMHJi5k8JPjEieBTSGWeD/fSxSlorSLqzjUCr93mYfzH9q0wJ597aYoXtEYVdYdrgde4/TD+s/zufqpE8CkIWWRsR7EvSlLY1pTER7fwP3eZiHiQcxejpPo2F+7EvX4fgvCJySj4zCAv6MdEIerycaLe9G2JDwg6fZA3S3kDaB8ScGgbAW/6vnfGgi++WcDCbjGMaTac42EKBJzLfHMTd4ZsWIJLYTWEpAmu40M5sS303RQpMZCdW9K+oBBz+wx+t8+8m/2no0Rd5vgbX3BB+ATFhXP5aDiXs7scrxRH+OWjhH/chRQEQXj/Eu8TcHzvS21IJTKAC9lSIEH4OH3kwefnRMa20Rjm/VCZ5OUd2RyWhb6DpEgi7t+F8OT3XzxBEARBEARBEIR/Qcxp/ljI1jT4qjF5VRI5HAq+fvF2ZOxqfUcrZQ1rA8RCBoIgCIIgCIIgfNxE8PmxUJ7xOCoWHTKWNX9j6ewBNCph9/LamrIlBco3o//ktawbnMzc4Uu5KSZYCYIgCIIgCILwkRPDbj8aseyYNIK1pSbi5ayhaLMf+V/ToSQ8iSQs8jGxSTImGivs8+bGUneXI0tG06PtPwSJ+euCIAiCIAiCIPwHiODzI6Lc3sDgRpfY1qUHHRpVpVRhB+ys8lLIKjdJMfe47n+ajat3smbFFs7fF4sSCIIgCIIgCILw3yGCz49NbDC75w5n91z9f6rMLTHXPiUmQYytFQRBEARBEAThv0sEnx85bVw0Ma/fTBAEQRAEQRAE4aMmEg4JgiAIgiAIgiAI750IPgVBEARBEARBEIT37oXgMzExkdDQUBRFzC8UhOygKAqhoaEkJYmEUoIgZL+oqCjCw8OzuxiCIAjCf1BMTAyhoaEvvPZC8GlsbIyjoyOyLDpEBSE7yLKMo6MjarU6u4siCIJAzpw5yZcvX3YXQxAEQfgPsrCwwNHR8YXXRJQpCIIgCIIgCIIgvHci+BQEQRAEQRAEQRDeO7HUiiAIHxk1dqXq8GU9T2pULIlTHltyWahJinnMowcR3Aw4z+mTxzly+CSBj9SU6j+PX40n0f7PC2izu+iCIAjCp03OiXtTb7xb1qZcMQdyqpN4cjeI035rWbToH648EXlTBOFVRPApCMJHQsambAcGD+lH22oF0Ehaom+d5sDBf9gZdo+oZDNsHItTvno3RnQZjEoby+OnElZWJoQvmYMKRPApCIIgvDeyTRW+nTWTQdXzYCQ9f90+jyMuZWrRsk19fuw8iDUhImmgIGRGBJ+CIGQ/2Y4q3/zJlMG1cTSGxPDDzP7jV6ZvCSL2pW2tcGsxmDEjulPeVoWEgomJGVJG+xUEQRCEd8HMgwGLFtLb8jCzB/nwz4lAIpJscClbl87ffUuLYjkwdWrO6PHnONN+ASGiA1QQMiTmfAqCkL1kO+qOWsmSH+rgaAwJ11fzbauOjM0o8ARQnnBl/e+0b/Mj28OS0SFhamYqKrPPmXExvupQBePsLocgCJ8oGWfv32gfN5MOzXoxce1RroY+5HHENU5uncO3bQeyOlSLDglNhWY0dBK/SIKQGfHtEAQhG8kU7jiFKV2KYS6BLu480/v9yObQ1w+gTQhazqCBiwhKAmNTU9Hz+dmyoNKQafxaJy+q7C6KIAifJpNKdKp5nRHf/MW5mJf/rDzcw4I1V9ACkmxPvrxiYKEgZEYEn4IgZBs5dyt+GloTGxlAy/WlfzDfPzHL7489OYuZu6OQTM0we2+lFD5eMnmajGFanxKYiacPgiC8J7J5PHvGjWXPw8zG0mq5cycSBUD3iHv3kj9g6QThv0UEn4IgZBMVbl16Uy+XvhrSJV5gzfIzxL/JLpSH7FyzmwfGppiK2uyzo/Hox8wJLXE0EpGnIAjvj/L4HIfPR5H5NE4VDvlzI6Pj6ckNbLkuJnwKQmbEuABBELKH2oPmjYulZgzUXt3Dzrf4wY49NI9f1SbEvOVvvawpSOVmbWnX0pWrv/Vh7jVLPFr1okfbOpQpZIvps3sEntjO0rkL2HE9LpO9aHCu+xWdWtWhbKGcGJtaYWkUzZ1LR9jkM5flpx5k2GgxtveggVcH2pa5w+S+M7lkVYHuPw6lYzUnjO7sYPzgEWwNVf7FMWQ0BSvTrG07Wrpe5bc+c7lm6UGrXj1oW6cMhWxNeXYvkBPblzJ3wQ4yOj1Z40j5Bs1p0exLNNu9GbTqAVgWp2nPPnRoWBHnXBJPbp5i85yJzPYLRZ/j0RynWh3w/qohVYsXwMY0ntCzm5k7dgY7br2iZ1vjTP0OX9GgYgmKuxYmt/opYQEn2b1qAYu2p50DrKZAo5+YMa4H5XLqnzqo3NozfkpVtIDu6SkW/bGCyy+M3tbgXL8DXzWoSInirhTOreZpWAAnd69iwaLtBGU0wdjYHo8GXnRoW4Y7k/sy85IVFbr/yNCO1XAyusOO8YMZsTX0FQ1SQRA+C8YladGoONzZzm/DFiFiT0HInAg+BUHIFnKBKlQqlDJLT8sD/4vcepsf7PgAdm590zepcarbk+7tGtLAszQOGhVScgAzrDzouWAOP9V3xCS1My0P+QqXwrNJQxb07cKoffdfDDbMS9Btxv/4tb4xB8d8TY9vT3EvSU2e6oOZM28A4xs3ptKgNgzccEf/PhNHqrRuR6tGDalfzRUbtYQ2ZB4zc9XktyXz6VFSox+S4tiFAV7L2Dol4M2PoXaibs/utGvYAM/SDmhUEskBM7Dy6MmCOT9R39Hk+RzZPPkoXMqTJg0X0LfLKPbd15+d+Rfe/D6wLXWqlSS3mYxEEkcOmJCv1hAmTOhHVYsH3LqvwsIuN3nyODKkdAlydmnGyIuF6TJ+Gj/UseRB6H2S1ObkypuP3E0G8ZebDd2aDGffk/TXQ8amYl+mTO9F3jPLWbXTl90bLShaqzO9vDryY93WtFk7jG5D1xGSBMg25Le+z57lu7Dr3xAnFejiIgkJCdEHn3H3iNWl2btNRfpOmU6vvGdYvmonvrs3YlG0Fp17edHxx7q0brOWYd2Gsi4kCTDBsUpr2rVqRMP61XC1USNpQ5g3Mxc1f1vC/B4l0egvEF0GeLFsxxQCxBo/gvD5km2o/uNYWj71oW+3MWy7LSoEQXgVMVBNEIRsoS5alMKpNZCO8Nu3+XCzZBSe3b3I3g07uBSFPhCTbPlyzFRaP1vN0Da1KO9RltpfDWfp+Si0OpAtStFz+iTaOaatNk0o/91MRnxZAKM7W/lr0SnuJQEkEXFoGhNX30IxcqTZTwOokTIp1cgUJfIMew7fIEE2hIByXpr90Z9ca/vSvv8cjt9PRqfEEXk36u2OoTzj7sW9bNhxiShDmCnZfsmYqa15tnoobWqVx6Nsbb4avpTzUVp0yFiU6sn0Se1IOb1nl5bxc3cvei8KQKsDkHFqN5d53YxZ16cKbu4V8KxRnipdfbmWrEMydaHD0BGMXjSJOtdH8+UXZalR70vqVKpA88mniNVJqAt50d+rwEs/PGYlejN3wSDs1nalef+JLFyzlR1bVjJjaCd+2BCJVjLDuc14ZvZzRw2gRHB02Rzm/H2McMOTAOXmPubPmsWsWbOYvciPm0rqzuk9dwGD7NbStXl/Ji5cw9YdW1g5YyidfthApFbCzLkN42f2w10NYISpEsmZPYe5kSAbPj2ZvM3+oH+utfRt3585x++TrFOIi7xLlA5BED5TavtK9Jq1joW9SpDTxoWK1dwNOQwEQciM+IoIgpANZCzt7Q09SAAKMVGvmk/zrmmJuHyE/dsWsvroY/1xZXOebhtI635TWHf8GuEPIgg86Muw9j2Yd+UZOkC2qc3Arys/T26kKoJn9cKoJZCt7bB9YSxJMkHXb6MAKvsylCts6OWNDeK43z52+KzggCF5hexYjYJHhzJogR9HNo7Bq2YdmjapT78VEW93DG0El4/sZ9vC1Rx9bDiG+VO2DWxNvynrOH4tnAcRgRz0HUb7HvO48kwHyNjUHsjXlfVnpyQlkaTE4n/iAo90ABLmkav42nss689FEKcAKDw4MIdlpxL1SwyUa0rxQ9/Re4oft1OH8MZy6e9VHIvTgWRK6RpVsEp7CrIL3qO+p1LyVqbPvfDinF/lMXuWrCdEC0jmlOzag5qaN7nOMi7eo/i+UjJbp8/lwos75/GeJazX7xzzkl3pUVMDxBJ03I99O3xYceCh4d5wpFrBowwdtAC/IxsZ41WTOk2bUL/fCiLE8DpB+MzI2Ho0Z8DEVRw4vIYRzV3QyCpyFKpJz4nr2TzTCyeRelsQMiWCT0EQsoWpqfELy6MkJydlQyl0xD9LRAegDeWwnz8vTXuMOc7MSZuI0AKocGjQjIopC0pqQzl+JIhYJYmIwwe4mJD2jQpJScn6fUuWWFula40oT3kap+82U+7vxGfVzdTgW4kK5tyFUP0cx39zDF08zxJ1hqIexs//5UmdMcdnMmlTBPrTc6BBs4ov7uJZIgk6/Wf1KDjg5WBLucf1G4YAXnnAxZOBLyWNUmJuE/ZYASTUjk4USFNMk6rd8S5rxrOLJzmvmGFm9uI/oxuXuBytP6jKtgqeHm+wmqdJVbp7l8Xs2UVOnlde2reZ0Q0uXY7Wl11lSxVPjzRrhSo8fRqn/2yV++z0WfW8N1WJIvjcBUIzXIhWEIRPmwoz0yRuHVvDzLHjmbP6KKGGuhzJBKfmY5jer7hY+kkQMiHmfAqCkC3i4xN4PmJRwjyHBTLR2ZC8Rff8fzMZQhl9cDN+kW3olE+Fyq4kHgVl9gcpQAyHRzagzAxzEqNiSBs+yzldqV7GQf+ETzJHkyODjKwpx4uLJjrTE39Hx8j09KI5uNmPyDadyKdSYVfSA9ifwQ4yoyMm5jVRmPYp0YbGmWRuhYUK9NGumpK1qpFXJaGqO4mzwZNevR85D0VdrZGPRmbpPlGXrEW1vCokVV0mnQ3m1XuXyVPUFWv5KJGpO0+9QERnfoEEQfisJBF6Yhuhqf89m6lT6jBgyhS+qWyLStJQxrsHNRcOwS+zHHWC8BkTwacgCNlAIeZuBE8UsJUBZOzz5kVF2L8MPs1wqdWIMnaZPHPWxRNyaCun33SsZMIlLgQk0TGfCknKhZ2dEQSlZG3VEhuVsuq4GjuPxnTs0prq+Z7gH50mvP5Xq4G832MkXLpAQFJH8qkkpFx2b/x+XRbmPaZuY6TSz9sEkK0p4e6ICi1Bc1vRcNw5Xr3Kqw6dTsniPSJjXcIdRxVog+bSquE4zr1mCVmdTociYkxBEN5QfKgfE3t+g+XmpXg7G6Gyq0T1kmr8TmTHiB5B+LiJ4FMQhGyRdOEslxO98DSVABmHoq5YyqfJdA3vrJCtqdHvT0ZWUWf8dyWSFV13cjriNVHIS54SeS8GHaZI6NAp6aMtMwrU6sLAbzpRUbuPeZOH8tXJCEzb+9KlSfG3OZMMvMdjPI3kXowOTKWsRZLvimSLbU4JkLCytkLRanl3eSIlbG1zIgGSlTVWihatSEIpCML78uQIM+YdoM3EOljI9jjkNQJE8CkI6YngUxCEbKE8OM7xQC01PIyQkDAuXYVKmmVsjXn9ezOXQNiFgxxIyqRqUx4T+PBtgisdSclJ+kGYusc8eJgmijF3pd3oOYxsY8+l6b1oMfV4agBt+hZHytD7PoYuieQk/eeie/zgXewxi9SojABkchVyxl72I/Qd9jyq9TtHzlUIZ3sZv3e5c0EQhBcoPDh0iMvJdaikSiYhUdQ3gpAREXwKgpA9lOtsWH2Mb0pVRyOBnLM27ZvnY/vS8Lcfeqs8ZMfoLux4l+UEQIWlRQ5kQPvgChdvG0ooF6DdjBVM+tKeuP3DGZQmKHxnPsQxVJZY5JABLQ+uXHzHO38F3SMeG9b8VJWojqfd/1ga+aqTk7FxLoJ0I4gHr+3F1PHo+c6p7mnH/5a+eq6obONMEekGQa/fuSAIwkuUh4+I0upAukto2IdbPEwQ/ktEtltBELKJQui6+Wy8o9X3KMoW1OjejS/MXve+9GQsbKx5gxyob05VkKKFzZFQeHRkL2cMGWeNK/RkYP3cqCQtgUcPpq45+S59iGOoChalsLkEyiOO7D3z7g+QGSWSq9ci0a+kUpUu3h686vLLTh2YOLo5+TL8q8SLU14VIq9eI9KwTEvVLt54vHrndJg4muYZ71wQBOG1ZPvc2BpJaEMPse+KeIglCBkRwacgCNknZj/jflrBzWQdIGFUtCdTfq+PXZZrJhOKtJrI+o1/UNf6/VVnslMdPF1V6JKDWeu7h2j9q+QtU4r8htxGmhwW6YIfGXONmeE16S2TAX2YYzjV8cRVpSM5eC2+e6LfZicG6QPA10nkrN9h7msByRi3XuMYUsU6wx8m2b4Wv87uQ8JKX/xT2nTJ2tSeTEmTgxzp3ph41o/D+p1j7NaLcUOqkOFtIttT69fZ9ElYia+/aDAKgvA2ZPLVrEFxOZpjixZzWkz3FIQMieBTEIRspPB470j6jdpHRLIOJGOKdJjO3+Pa4Kp59TtlmzJ0HL+WdSMKs/OHEex4/C+7BKVcOOS3yOBA1tTp25kyai03lo9k5unnyYoSEpLQ5x5S4dK0I9VzplSpKmw82jGs0xf6uQ2SGZZW+tmZKpUhkpRUqFMmPphqMM8kavtXx3jh9BzI+PTq0LdzGdTaGywfOZPT6XMxGRs/z06bSXSrTjkRyRTzjE5ENsLYyBAiy/ILu4ndv4il/vHoAMmsJL191jHzm4a42ZggAyqNI+W9hrN4wzya3JnG2M33nq+H+vQBj+L1c1XlIu64mxj+oClOrSqOELufRUv9idfvnJK9fVg38xsautlgot85juW9GL54A/Oa3GHa2M3cS72NJFTPLxCazC6QIAifPlV+avYcwnc9m1I6k2zqsm09BvepxFO/sfzy981sWDZMEP4bRPApCEI2i+Xigu606DWTvbfi0MmWlOw0je0HNzNjaCcafOGEjUYFshqNrSPFq7Si/6gF7Ni3lmEl/Bnl1ZnJxx7/+x962Y4W4xYxonUpbFJqRjMHanz7F5Pa5uX+nhH0GrmPJ6lvULh3YA9n4w29toU7MX/bGubNmMvfW4+wd1plzvtuIkwLSKZU+2Y2U6YuYfUfdfWHy10cF8OBZNsSlCmcUYbef3eMF0+vBeMWjaB1KRuen14Nvv1rEm3z3mfPiF6M3Pck/bvI5+pMLv1CouRyyM9LzwRkO4o62xrWGs2Fe+kiLy2uLlsVoZCdIfi0cqKwfZqfniR/5gydwKEH+uHXcg5XWgxfwO4LQQQHXSck8Bgbp/al5K1p9BmyjjtpL/Szc5y4oA9cVXlaM3L2T/TrN4wZy8ZSxyQOSMJ/zlAmHHqAVr9zXFsMZ8HuCwQFB3E9JJBjG6fSt+QtpvUZwrq0O5dzU9zF8FnJtpQoU5hMcigLgvCJM67cnwm/Deb7P+ay+eBu5g6oTUHzlL/K5HRvw1jfsZQ99xtd+v9NkOj1FIRMiYRDgiB8BJII3TWBzgeWU71zP3q2rkdl9y9oPagsrQcBOgWtArJKQpdwn6tHdrPtt5Ys2XyRf9vhmUobxLI/9+AwaC3Hf4skOCwJexdnrGMvs31CR0b9dZiIdCMyles+/PiLO/8b1RJnjYymYEUa2d7h8PJJtP9zHVe1lSjQuTl9XE0xK1SdOvfmMHikzJBZq2hcsxIuht40ydiD79bspPy+41zcu5g/N15LXXLkbY7x7de7Mzi9Zfy5x4FBa4/zW2QwYUn2uDhbE3t5OxM6juKvwxFpljmRsa/Rg34ta1GnUTmMJf1rORv+wcoFVTiybyVTVgRSrMMPdG1cm/rVzPXDbSU1JfsvZnWhXez/53/M9tPQ6tf+eNWpQxULfcApmVRkyFJf3PbtZ8PsRRy6r5Bw+X/0aBPJ978Po3P1gmhUEkgqTMxlEsKPs3T6OKYuP8OD9NdaCWPN5Dk0LzmY8jlNKNygHz98cQbfnwcwat9D/TYJl/lfjzZEfv87wzpXp6BGhYSEysQcOSGc40unM27qcs6k7Fx2oMF3w+neuCaVXFLOyxiP79aws/w+jl/cy+I/N3JNjM4VhM9G8uXt/HO5Bb1LWqKydKXZj7406neXkBv30VpZkRS0hzXjWzHy4C3isruwgvCRkywsLFLXHejXrx8///wznp6eBAcHZ2e5BOGzVKpUKbZv384vv/yCj49PdhcnW5nnK8EXJYuQz94OmxwQ8yCSyLt3CLp0gZtP3lXEaUz18YdZ1tkBVXIAM5rWZ0JgLtzKlaWwNURHBHP5QjAPX/MUW5WzICVLFyev/JDAM2cISVM+2cqZipVdsYy6yrGTIUS/ZdHf6hjG1Rl/eBmdHVQkB8ygaf0JBOZyo1zZwlgTTUTwZS4EP/yoVqIzz+dO6eIFsVZFcedaINduPyT+NZ+ZyqYYVSoWwTwmlEunLxIen+nOcS9dnILWKqLuXCPw2m0evm7nn7lly5bh7u5O6dKls7sogpC95Jw4V6pORTdHrE20xEY9JPL2Vc6euUpEnKhHBCEj06ZNw8vLCwcHh9TXRM+nIAgfpbhwfw6H+3/4Ayfc58qRHVx5g7doo25xfv8tzmfwN+VJMMd2/PuHee/qGAn3r3Bkx5uc3YcVF36Zo+GX3+g92ocBHNoWkJWdc/loOG+2d0EQBECJIvjoPwQfze6CCMJ/m5jzKQiCIAiCIAiCILx3IvgUBEEQBEEQBEEQ3jsRfAqC8BmTMDZSG5LKkI23vwAAIABJREFUmGBm9olViZIxRmpDUiMTMz610xMEQRAE4b9FNEUEQfh8qQrgXsxaH3zK9rgWy/1JVYqqAu4Us9YHn7K9K8Vyf0pnJwiCIAjCf41IOCQIwudHzs+X3w2hQ11PapRI6fnUUH3EJrbUOcaV2ydZPsqXswnZXdC3I+f/ku+GdKCuZw1KpPR8aqozYtMW6hy7wu2Tyxnle5b/6OkJgiAIgvAfJYJPQRA+P0o4e+f+zJF5mfQEKsnE/YcjM+X/7N13eE33H8Dx9zk3+8qSRKwQmwRB1ahde8/Ys1RsOlBVv7aqNatKUarUXjVrlVqxZ21ilQglCSKRRMY99/fHvSKJJBKhhM/refI83Jxz8r3jfO738523djBz5D5Sf3pRkngKIYQQ4j8nyacQ4i2kERsZSeyrLsbLosUSGfnGPjshhBBCZFEyAUgIIYQQQgghxEuXpOczICAAf39/qlWrho+Pz6sqkxBvrezZs3P06FFy585N69atX3VxhBBvuQcPHnD+/HmJR0IIITJM0zT++OOPJI8p9vb2xsQPzJgxg+bNm/+nBRNCCCGEEEII8WapW7cu586dS/h/kuSzWbNm+Pn5MXv2bEJDQ19JAYV4m+XKlYvevXuzadMmjhw58qqLI4R4y3Xq1Al3d3cmT578qosihBAii2nevDmFChVKMnomybDbvHnzUqZMGc6ePcvly5f/8wIK8bYrXbo03t7eLF26lH379r3q4ggh3nL9+vWjUKFCEo+EEEJkmK+vL5UqVUrymCw4JIQQQgghhBDipZPk8z+hYueWBzc7ebmFeCuoehzt5X4XQgghhEgsi+zzqeL2Xic6Vc6BLrVDDHfYv2gJB0K1p39n50PrD+vg+dSzNRJ9bj2zNl/G8GILnIiOoj0XsPLLGjiHHWBsx07MPPPm7r+nK9wQv2Ze2CqpH6PdP87K33YSlMJblSGqnnzla1Ovdk2qlCtMbjdXXB2tiYu4z72QW1w+c4zDB/ex2/84Nx45U+GjGXymjKPdxL+Jy+SfFiI51S43paq+T9269alb510ezqyL7+wbZPZjLoQQ4nWi4lyyOT26t6DWO4VxtVWIDfuXgIPrWTh3BXsCo191AYV4rWWR5FMj/PIRjuZpxcDP/KiS04LHuY0Wfpz5305j49l/uBSeSjXvUSB/7z2GoWJrBn3UkmJ2ClpkAGsmTeC3M3cwpnzWi6HmplbjqrjqFHCpQLM6nsw+c/ElJruvlvHOGfYftaBsrY707VGNPJbmd8poIPToEmYs2MaJ8+e5m6kauR2etT/g409707yUCxbEE/bPUfz3bmBrUAgP4m3Jnrco71Tvxbc9h6LGRXDvkQ0u9jpuLcxGGnmxEM9BJW+jzxnTrzEVSnngaKEA8Rx61cUSQgjxYqnOVOz/E9M/rYbl0Z/5vM8gtgRE4eTTis8mjGZxu/YsHNqHrzZcl0ZuIVKRRZJPiAm+wN6V3/F3oMrapX3wsjalENrlrcxbspUraSUz2n2uHtvF1b/P4lijKd9VieXwD334aPZ/kARqt9i96QB3y1fFKfwoG3def2MTTwAt4gYn/G9wwn83d3PuZ3ozZ1TAGL2HSX6fs/BOJvuBLD1oOGoWk3v44KBqRF7axPdjxvDLX9d5uq1RT5HGg/j2mz68526Bgoa1ja0kn+IF0wjaNIbum8ZSZNB6/hpeJusEViGEEOmk4tF6AjOH1sDl+iK69RzHrjBTnebuyeUM76XgsmEi3abOwxDeiq/8w2TkixApyHKTkiIPTWXC6lsJCZyuRHVq5knn09DlJ18uFcPt9cxc9OIST6viHej4nlUqvzVwYU5HKpevRPmKvvx0MuYF/dXXXSTXr91JCLza/UCu3c9kGFbz4fvTKn7+wJR4hu7/ni4t/ZiaYuJpKsOljWPp0GIIq6/HYUTBxtYm633oRRZhIOj6TWJe6lCKN1vasTTTF6dDx/d4SVcXQrzhVM+ujP+6Ae7qQ/xnTcU/LGmdRruxismLzmOwKkr3CSOp6fCKCirEay4L1sPD2T5jDkeiTDU8xeZdfNsWT30uaCKW3nV539PIpZUL2RnxgopjX4lPp4yidq60SqARGRxEcOTb1AZmJCr60ZP/PooiOlOVcjvKDpnOmEZ5sFCMGG6tZWT/qRxKR0JrCFzDiCFzCIgDKxtJPsVLpGnS0v280hVLn/viVPp0CqNq50rXd4UQQiRlRxW/PlR1VDFGHmTD5tspxPo4zv+xhXMGBV3elgzpWlTijRApyJL1cO3qCuZuCTXd+IolXu26U13/rLOsebdNUwrF/82q30+/mF5PNSdNvp2CX0kZypkemck9LUv25bsBZcmmAloEOyePYVNw+qv5kUen8/0fwRhtbLDNkp96Id5gLzWWquRs8i1T/EqmuRCaEEKkyr4mbRvlQQcYzh5gfyoN34Yr+zly0wCKLT6tW1FSsk8hnpJFq+FhbJ23gsvxpnRGl6sp3Zu5p/1kHGrTvkleovf9zup/XkTfhB6fftMY39IDC6nQvGTONOjXlZLmeb6GkD9ZsuFOxnqYtPtsm7OEE9EqNi+ljEKI5/NyY6nepx/TxrfEQwK1EOI52VWqS7XsKmAg+OI5Ul2+Iu4C5y7FYgQsCtalgbdkn0Ikl2XXxYg7sZCFB7szuqoeRbWnRtdOFFsxmfMpdmmq5GjUlrrZw9ixcgO3kwcN1ZnSTTvTtnENyhfLi5uDBTFhd/jn9H62r13Ksh1XiUp8vGU+Gn0+lbE9y+OkAujwaj+OyVUMgJGHR+by9dKzT3pXdc4Ur9WMVi0a43nyC/r+kny+qRWuXjVo3LwZTUpdZ0K3SRwxOOHTpj/9O9bFx8MeQ8gF/JdPYeL8I2msFKviWKIJH/T0pW6ForhbR3HrcgDnz53m8M6N/HnwGhGpnavzpPnoCQyuko1LK75i2M+HefCajB9UXerRuraLuXFBI2zvFvyfY9h03MlJtOrxggsnXhArcvjUx7djW8oGTaLvtNM4VviAz4Z2oqqnBUFbxvHRlxu58fgzqS9MnQ6daVX7HQo4WWHj6IBFeBCn961j3swlHElpy6UXeJ85l25O966tqPNOEXI6qUQEnuSvpdOZm84V9lXn0jTt3JbGNcpTLK8bDhYxhN35h9P7t7N26TJ2XI1K+Ty9B+/Wb06LZg3Qb+7OkOWh4FCCpr386NiwIoWzKzy4doT1MyYwffsN82qLdnjW6kj3Dg2pUiIfLjbR3Di+npnfTWXL9Ze07ZPqRvmOfvRsVon81rHEWlgSE/g3e/zPEGMVwpqFOwnVyHgsRU/hOh3o3Ko27xRwwsrGEQeLcIJO72PdvJksORKaqFHKknyNPmfq2J6UN10cnVd7xk2uggEwPjzC3K+XcjZJMNZTuF5HOtSvSMkSxSjobsnDmxc4vG05c+Zu5lLky3m5hBCvM0uKvVuG7CqAkX9v3CA+1WOjCAwKRcMDna4gZcpkRz0VItMxhEgkyyafaDf4/bfNDKjcBnedgqV3e3pUn8WwnSnUDtR8tPCthv7276z4KyzJryzzNeHLmWPpnP8Gyyd+x8ARf3NLyc07jXsxbKgfo1v1pM+uqQwePJUD5tqo6pIX55C/WLLVjf4NPdFhJOrOVa5eNVWYooIjMaLi6tOM9u1a0LRRdbzdrFGI5+w1y0TlykGtgaPo16Y2FQo4YqGA4cZvWDu9g9/46Qyv48ajcAN6Jz0WOXPSxbs8JZ3b0XryCZ5etsiWEl2m8utXtYjb+DXDOg3kXJwn9fqP4Zs+TenUdwRxD0O4cy+SOA2Md/+gWvPxT86uM4TRXavgqkLRYf/j7LZmTL30eoRL20rVKW/3eMuWOM4d+zuF5y+yImuP92jdrhWNGtajajEXLBUDV2dNI3vN/zF/dk9K6U1Jg0fXgfgu3sLkCwbsSvZg6i+jqGflz7d9ejL4SDBxljmp9tEMZg0cR+PGlRjSZhBrHm8k+yLvM9WF9wb/xNRBZXnwxw981/djDv9rRYGKzfEbMZ811vHYpvmMLcnX5Etmju1M/hvLmfjdQEb8fQsl9zs07jWMoX6jadWzD7umDmbw1AMJCbBdue58NagttauWwt1WRSGOfbutyV3rU8aP70cV+1Cuh+iwd3MnZ04PPi1TEqeuzRh9qiBdx01hWG0HQm+EEGdpR/ZcuXFvMoSfvVzo0WQEOx+82PcUnSftZi5n7DsBjP+wG/2P30VTHfHp+C3Txkwmf8Akdi/cSSjpjaVmdiXpMfUXRtWzwv/bPvQcfITgOEtyVvuIGbMGMq5xYyoNacOgNUGmip7qQl7nEP5ashW3/g3x1IEx6g5Xr141JZ9RwUQmmgugulSk7+Qf+TDXMZYs/5MF29ZiX7QWXT70pdNndWjd5neG9xjKqquygYIQbxc7ihXLZ2oAN8YTeietZDKekOB7GPEARUehEsWxIIQ3d3d3ITIuiw67NQn/ay4rLsWbKie6XDTt0ZycKTwjnZcvvuUtubpuOXsTdSioOZvy/YrpdPcO4Te/Dgyfv5dLdyOJDL2E//zhtO00icMRluSp9SkLFo+gknnlMu32fhbPmMHCA7fMAUjj2s7Z/PTTT/z003Tmbr+GhoKddRRnt65g85nwlAOVFor/T4Pp2Gkc/uY9ShV9WQbPn0SNgG9pVr4kXiWLU671BPbf00DNhs+HA2nm+vSTtK/2ObO+aUje0NV8NWIhh26EEXH7BKu+7M3XW++iKQqW2RwJP7qCRYsWsej3pLsQGqIeEfu4IhYXTdRrk93p8PQqiv3jp6zd4dLF+9KK+IawsNG4c+wv9v4Tg2puX1BzNePr/tn5vW97+s84SEi8ES3qDv+GGcH6XT6e9iUN8lkQtPFn5h4JNvXuxd1mz5QJrLiuYeHRjM8HVn+SBL6w+8yWsgPn8uvH7xGzahDthsxi+4UQIh7c5NTWGQxsNYSdBld0qY7uVMnZ9HtWTO+Od8hv+HUYzvy9l7gbGUnoJX/mD29Lp0mHibDMQ61PF7B4RCUeL5b46PRiRn7gS++5FzAYTdfybDeTWT2sWOX3Hl7eFahR/V3e67aAi/FGFJsidBz6JWPmTqT2lTE0KPcO1es2oHalCjSfdIRIo4JlAV/6++Z7wV8CKi7NR/JFw5yc/nUUvxy/a7pXtQecXDSUT34NINbSCivza5S+WApgzbsfT+PLBvmwCNrIz3OPEGx647m9ZwoTVlxHs/Cg2ecDqf74jddus3/xDGYsPMAtc8DQru1k9k8/8dNPPzF97nauPQ4ktiXpPXMOQ9x+p1vz/kz4dSUbt2xg2dShdB62hjsGBdvCbRg3rR/eidoPhRBvAV1u8rib95c3RvHwYer9ngDh4Q/NjWYqru7uSMgQIqksnXwSd5pFC/aZW69V7Kt3pVPx5OPrranYvhXFjKdZvfLEk01/1Ry0/GYMLT1UHmybzrQDTzf/R52czoiZJ3hkVLAr2ZtJw6ryzHWNEhgIPLyVnbs2MXvlIaJSXG1Hw2DQiAvax2HzRqWKowM3Z3Sly/g/OBMcDWjcPTSTiauuYQDUbBWoVt466WVUD9oO6kBBS4g9d5RjiTt/tVusnbeBmwZAscTNcIH5P//MrIW7klwidt9EBoxexKbNq5g6ZDgLAl+X9M6CXLncnnxQjQ+4fz8dy0XpCtNowFCGDRuWys8ntPKSuRivWuSlg2zfuYV5S3ebe/lUPKrmZ//QIczZvo+13/pSs3ZTmtTrx9LbGrpCNahW0BIFFWc316RDN+IvcSVQA3TkKFuegglv74u5z6zLDWL84HfIFrGDqRP+IvnIXu3+bmYu+TvVxczUHC35ZkxLPNQHbJs+jadDThQnp49g5olHGBU7SvaexLCqpoijxcURp0Vy5tBJ7hkBFOzuLKdP9+9Y/fdtokwZHqG7Z7D4SCxGFPTlm1Jiz8f0nrydwIRGt0hOL1zOgSgjKDaUqf4ejul4n9LPkndrVsZJBc2QPIZEc+zX3zgQb4V1Rr95dIWoUa0glgqozm64Jn3juXQlEA3Q5ShL+YIZva9VinT/hk8qxbPxx5mcTDJ0WuP+X/NZfdUAKNiV6kbPmun/FhBCvAFUe+yzPRl9FRub1vKJGjGxsebkU0HNZm9aKFEIkSCL3xIaQat/Y+MdU3VPsfSifY8aSRNEh9q0b5KHRwdXsvryk8qQrkRXetdzQTXGcnzXLlJeuMxAwOL57IowgmKBp68fLVPqWn0Gw8OHPEpzqddHRD8OZnEX2LP9RrIKbCwBAdeINwKqPe457ZO+cdkqUaWMDQoQFxX51FDBmGM72HdXA1ScCxUhV0pPQbvLoTnD+bDXICZsvPoaDRFRsba2TrQCZhSRkelYN9dwi6N/bmXvmbu41erBwMGDGTx4MIMHD6DjuxZcPfAXh2/IhoyvC+3hQ3MDjUbIn/NYntAlpRF2+W9O3jC1qBhuHGTfpUi0uNvs3X0q6WddiyPOvAiZ4uCM41M5SCbuM9WFJn27UMIaIvdv4M8UV1rWCL55J5V7XUeJrr2p56JijD3Orl2p9N4bAlg8fxemkOOJr1/LJKM5jI9izfuIGrl3+cLT89e1YK78Y762FsqpwwFP7YGrRQRy874GKFh6eJLvhbbBqFhZW6Ggo1ynAbyfrPdYC/mT1duD05gvlQrDDQ7uu0SkFsftvbs5lfSNJy7OPAJGccD56Tc+bdZV+KD7O9g+OsXhExq2trZJfyz+4fRZ8+gVnSvv1fCRvUKFeKuoqAmhzIDhGQEsLu7JN4tiZSOLHAqRTBZPPoGI7fy2PMBUYURHrqY9aJn78dN6vNBQBLtX/pEw9ApUCtSuRXELBbS73AyMSH0Y5/1d7Dj6CCOg6CvwfrXn6yd4ZprzjANiH0aaE0IFS6ukPTKqozOOlqb0zCa7y5Mhqo/FnOf8FXMwtLbFJkst+qgRGxOb6OXRY2+fnicQRfClk+zf9CtfjF/P7cffBYYrrPhuIr/vOUlQqqsviVfh8XscFZ7KMHWAiL2Mrl+WUqUq8+GywETHqTgVq0bZPKYPv2KnJ1tKH5PnvM9U5/q0qOmEioF/zpwm1fWujMaU/4RagNq1imMKOTcJTOOzd3/XDo4+MgIK+grvkzTkPCuSGImIeMaqOIaHhD/eJ9nOEfsXmnzGcPLoKR4ZFSwKdWL2xsV83qzokwZBLZi1k2ZzMsPTJiPYO7o+ZUuVovKHy0g8MEN1Kka1snlMX2aKHfoU3/jUWZaqRdVcOhR9HSYev8zly8l/zjCzhbP5y1IlZ9FiOGf9b04hRHpp0UQ+3qhcscDCMu0YY2P1ZGiGMSb6qQZAId52b8BXqIEzi+ez56G5MpWtOl06ljBt7Kvmo6VvNfQhf7Jiy91EFVVripcoaN78V8OQ1ihO7QHnLpgXsFBsKVA4/8t6Is9Nu3eH0GhTZVVXzIcyyZvZtDAiIo2AkUc3r/PvC9nk9L8ST/CdRCtYKs64uGSsthx3I4g7j+vsWih37mSpF0AkZ4gkLMKcvVi64dNiCN8vXMnMgRVwSsjNlBe6X6Rl+Yr42CiAxr3QkIzvE2xdnBKPh4NqhjTP1x6c44J5sSTFtgCF82dsxpAxHR36CcdY6F7wfCSN60sm8MvpSIwoWOetTv8ZW9ixbBQtittn8toGIsMizFMnLHHzacGQ7xeycuZAKjx541Ey9MarOJf0xkMHhkszaV44H/nypfWTn4Lt56e+zYIQ4s1j/Jfgu49jjBXJ2v+TUbG2sTJ//xiJvhuS+i4DQryl3oDkE7Sba5i34V9ThU6xoES7HtTUg86rLW3KW3L9j+XsTtIZYIeTo2mYKoqebGn2pBn49/aTlc30jpmtQL0Ekf6s23YHA6Bzq4Nvfdekb6yuMJ55VdBC2bFuJy96ccuXy8Dl85fMc9oAnTtepXJl7IMbF/dkri8a8bJYZdZnm49afpNYtWM1I8uFsnxoBzoM+J6dt17Gt7yKY+5cOJg/dMb0ZHfJ2TnhaB5yoOizkXbI+ZfbIQkRB8d09fS/RiIPM7FbL37cH2wakaJYk7daH37atINlIxtRMM2K27PYkq+WH5NW7WD1yHKELh9Khw4D+H7nrdR7y9Ok4OrqhAIojs44agYMhrR/NE1qkkK8VbQwLly8ba5j2uHklNaa5grOTo7m5NNA0LXrr9E0JiFeD29E8gmR7Jq3nHNxpkqhLlcTurf0pHL7lhTjHOtWHE128z8iOso8R0i1J4+HaxovhEZUZLR5sJuR8PuvY+p2ny1ff8Lsk+FoigsNR46nU3E78++sKdR+EO2LxBKw+DO+/iP0OStpr070/t0ceTzkBR3FK1Y277cl3kZ2xdoxecM25g/wZP/QFrT/3yIO3365X+/2eltzZULF0dkl44HzUTRR5vmoqn0ePFJYsTqBFvVkiJcxnPsPsl5PvRbsz8T2DWg/ehVnwgymaQvWuanW92fWL/2Yig7PvMTT7IrRbvIGts0fgOf+obRo/z8WHb6d6Yqdpc40RE7NXoDCOSSwCCGSi+XcibOm+fyKimuOHKQ+/kpHDncX0/eFFs7501czPlJGiDfcG/NNazi/iAX+5rmbSjaqf/gDw5vlIfbIKlZcSH7rx3I98LY5CdNR2KsEqTfGq9jY2iQssf3PxWsv6RlkjnZ3F2NaN6b3nBNEujdg7JYj7Fm3lGXrNvNbdyvWD21Ny8+3PL1AyWvK0qsT/+v1DlaAFrqJZVse9z4r6Ku2pY3nG/PRFRmg5mvH1KUTaVvMiP+EIfxw8O5/0JiiERb2eF64imfRohlfQCL2OoGPbz5dYbxKpNH9p9pga+4lNUb9w8VrWbTqYrjDgdmDaFijFSMWHSE43giKDucKQ/hheJWMXUvNR7upS5nYthhG/wkM+eFgwh6omWPk3uMGRV1JqtVwe+aXoupSmCKuslK2EG+TiKNHORtnBFQ8ChVOfdEx1Y1CBUwNlMboY+w7/Oi/K6QQWcSbU4PXbrNu3npumcZFYFG4AuWcI9mzci1BT1VS4ji95yAhBgCV7JVr4JPqxCcd+TxMwzyNkUfYue9hyodlbKLRS6FzLU6VQreY2akS3mXr0X3Y//i4c12q1e3Cl8tP8SCLJJ6oOWj20ceUVh6vivmALVOnc/DxHo025flgSAPc3pxPr0gXKyr0GkQ9dx2KIYD9/s871DLjwgMCCDLHC8f3alExrVFXKYk7zZ6D5rmianYq1/BJfa6lLh8euVTASOSRnaQWcl5PtjQaM44miWYnaKFHWTi8FfU6/8TRcA0UHXmr10n9EinEUqsKvRhUzx2dYiBgvz/PP7o6+VxgjTvnL3LHACh2VOnaHZ+03lvVk44TxtA89/P+fSFEVqQFbmDD0UcYUbEvXpJCqbU/2ZSkZBEdChp3t63izxfTSibEG+WNqr5H+v/GsjNPVkbV7m5j5eaQFCuoMXsXsuxCHEZAl6cBbaqnsneb6kHF8h6oGAhaO5d1ibZYiE/Yx05Bny1b6i+m8qTC89w5qkKaC6joPFszdfEQ4qd/xFT/Gzy4f5MrAZe4FZH+XhPV3gOfskVwfSH7CCgo6vN8vFTcm3zJZ3VCOLD3SXKhXZ7H0NFbuW0wAjrytPiGse0LyZYHbxM1F2VL5zUPd0phrrZqh97W/JjynAsOpXKfxZ35C/+bpntJ596UD9vmS/F+Vy10CY/rLBLXTmLYu3AZF+LMn98GbUg95FSkvIcKhiDWzl1Hiru6pPPJvIomMUvXKtR8N3kGpxGyZyKj5gWYGpTskj75tGOpSq6ypclrfjn12eyTPS8Vu4Rh0crTMTbekBBHFH22p/bciz2+nb0hpn08rbw+ZOyn76W8mq2ag1qjpuMXs4wFZ7Job7QQ4vloN/lj5W4eaKArWpP3C6Zcv7Gu8D5VnFUwXGPN/K2E/cfFFCIreKOSTwwBLF6wy7yymIGbG5ezPTyVY+NOMfvr3wiIMYIuF037daFICi1Ztu92wdfHAsP1lXw10Z8n6xZpPAy9h2lqlkohb++Eobv6ErV4z+PJS6va6THViRVsbG1TeNGtsbF+UmlOiZVen5BoWVgmK6jqSY+JY2nu6Uj+CrWp7O1JHjdn7G116X6DVfcmTN7qz8Y/duC/YhBlMrUoCICKs7PDk0qipRVWz6oJqy74dJ7C8u+b437zIHsuJ67gGbi2dBDdvtpKUJwRdDlpMHY5v/SrQFrT5wAs3XOQ/dV3TIs0KDpLHi9Ob6O3SyVpiiEmTjM1LumK0LRTNZwSMj0XfNoNp3M501UUWwccbQB06BJul0zcZ9EHmPfrIcI1QHWg2mfTGFo52dxPex+6d6yScK/nLe5F4l1S4k7N5uvfAjCFnKb061IkhXlDtrzbxRcfCwPXV37FRP9k26ZYWT3pMU3lOVhaml9JxQY7uxSOUS2wsjCnaqr64gdtqDmo265BCvelgWuBt9CMGpEnjyZ6/NmxNCYmDs28nVaRpp2o9uSNx8WnHcM7lzN9fhRbHExvPDrzG689DOWeeQ6tWsgb7ycXp9Z7HhC5i7mLzpj+vmJLqd7zWDVtAA29XLBWAZ0ej3d9GfHbGmY1CWLKd+sz0SAghMiaNIJXjeenI5Gg88a3cwXskh+i5qBJpwbkVA3cXD+Rn48m33VdCAFvWvKJRvD6eay7acAYf4k1Kw6S1q3/YN93+A1fzdVHkK3Cx0z/phH5EnWl2RZuzfhJ3fH8dwujeo1iS2jSGsejvw9xMtrUk5Gz9Wimf96PfsOnsvi72lhHPT7KkiIlCpr31lRxK1TkSYX5sWzFKWpOVhVdHgp4Jq+S6ilXpig6c6U2T+FE++YBWOShgIcNii4v9YbP5Pet+zh84gwXLl/neuA/XA44x6m/D7F701KmDmtNScen33bbKi1o7GGFoqg4lm1Jg+KZm9OkOlWgUfW8CR8wNXc9+n3cjdaN61O3Th3q1KlDnTr1aNi0FW07+zHsu5n87r+PP8ZEX5C6AAAgAElEQVS1poidRujBPZx+alXaSM7M7UXTjt+y5sw9DLpc1Pn8d3Zv+ZnhXepR2j1pb4ulcxGqd/6KBTM+oJAOjDG3ObR4GfuyzPjjt4WKe4kiuKimf7uWLEvBlMakasHs/uu4OUmwoGDn2WxaOYupMxeycd8OplQ+wYJ1NzEAik1VBkyfzA/zV/B1HXO2kan7TOPyvOF8ufkG8UZQHcozcMlW1k4bxcBePek3fDwLN8yiVux1YsxJUs5WM9h/YD0/di5uvsYD9n3nx/DVV3lENip8PJ1vGuVL1HtvS+HW45nU3ZN/t4yi16gtJA05KrmLFTYvtqWQPU9enuo8Vd0oWti8gJqSHe8yhZ5KcFXHQhRwMyefjp4UfOGL7Ci4NBzJuPZFks6lV/PSqF4ZdBHHmDllXZIz0o6lGsG7/+K4eTspi4Kdmb1pJbOmzmThxn3smFKZEwvWcdP0xlN1wHQm/zCfFV/XeXxxDp00LRqny9ma0dM/p1+/4Uxd/B21raOAOM7MGMr4PaEYjICajWItRjBn20kuXb7ElasBHFj7A31LXWeK36esenoehxDibWC4yK+fjWbrv1Cg02iGVUvcAKnDo+XXDKvvwqNzv/DRyPVZZo0NIf5rir29fcK+Af369WPkyJHUqFGDy5cvv8pyZYKOYoPWs/b9jTRpNYMrz7z5VZx9fBkybABtq3piGXyaA8f/IUpfkDLe9lzfMovxkxZzLMVx+3rKf7SI+R+9i5NOAWMcIccWMHLgN2wMcqbmhwNoXrkC79cqiau5pwEtkmuHtrNnz1o++/EAFXqMoHf7xtTzdjFXeo3E/Hucv7ZtYP6kORzJ24GvBnahcd0n1zDG3+Xs9s0s+3kM8w5HACqulfsxduwA6he2N18nNUaizs/hgzaj2RP25DmphT5gyR9fU81RIfbqAj5o/Dk7U+s1ToOlT0++H96ScmVK4elo8XzD/rRwNg6qSO81aRRAdcK7WS8+bFef6u8WI4etDsVoIPZhGPcePEK1dya7vS3Ko1Cunj7Cvp2bWbtqI0duvd4tkaVLl2bz5s188cUXzJs371UX5yVTyVP/Y0Z80JialYrg/PgeMcZz7+Iedh48xY7fvmftxUQ94FZFaDfpF75pWRi9qoBRIzJoL0smjub7VecxVBrFhsV+FLNRMMaHcmjGYPpMPE6Bbi/iPgMsPag98Eu+6FWXIgmfbyPx98+yZvwwvn3Qlz3TanL36DY2rF/H6vU7CbifbIim6oyP7xCGDWhLVU9Lgk8f4Pg/UegLlsHb/jpbZo1n0uJjiRbUUclRvSf9WtaidqNqFDSPGzUaQjmz9U/27VzG5KUBFO84jG6N36de1QLYq+aSPQri0Kat7PrjF6Zv19NqVH98a9fmvQIOmA7RiLi8m007d7Fm+lz2hGS2tmRL85/3MCx/MLGu7nD1APuPBXArLjte7zejqt1hZoz4gl8OJ18oKo1YGhgHWFGk3SR++aYlhfUqCka0yCD2LpnI6O9Xcd5QiVEbFuNXzAbFGE/ooRkM7jORXebnoy//EYvmf8S7TjoUjMSFHGPByIF8szHwyTZMdkVo9slXDO9Sjfx6XULsMsbc4uDSHxn7wxKOhb59tcnFixfj7e1NmTJlXnVRhHgtWOWvz0djvqRnZR0n161hz9VHOJesT+sG+biz6UdG/m8Oh2WupxAATJkyBV9fX/LkyZPw2BuYfILq5E2FfLc5fCpjK2FauRahtFcB3B1UIoOvce7kBYKfmavocCn+HhUL2RFx4zRHT90iOhNlf162RVrx1ZiGXPvhew6qecidMwcu2R1x1NtibWWFhaU1eqcc5PeqQCUfN859V5sWM68mvYZHRWr52HF1324u3M86gVO1y41X2ZJ45nTFzdUZvRpD+N3b3Lh0muNnrvMgC+3r+XYln89Lh1P+UpQpkQv1bgDHjl1NtJiWimPhilQu5kDY+QMcvhr+chYlsnKjeLlSFHS1Ifbedc78fZbb0aC6F6eUZSAng6KefQ2scC1SGq8C7jiokQRfO8fJC8FpjtbICvROTsSFhRGLij53UUoWL4i7zUMCz53m3LX7aWyN8uxYqnPKT6kyJcil3iXg2DGuJhrFoDoWpmLlYjiEnefA4auEJ3vjdS7Fea9iIewibnD66ClupRao7XLjXaYE+Z11hAVdJOBiIHejs048fNEk+RQiJSoOBStSvWJx8jpbEXM3kNP7/Tl+IzLLbWcnxMv01iSfbxv7cgOY82sPIr5tRu/fbz4j8Fnj/eka5ueeTPmP//qPSijSS5JPIcTrRJJPIYQQzyul5NMijeNFFqC6NuLbWcOoHL+ETuuflXgCxHHndgj/cus/KJ0QIqto06YNgwYNeu7zz549S9++fV9giYQQQgjxppHkM0tTca7fgca5dCgRecjvprLnZtrpp+pWi49baaz8+MJ/VEYhRFbg5OREoUKFnvv88PDnmCQuhBBCiLeKJJ9Zmsaj+2FEGsHGoSb/WzQd54nTWbb9DCFJJo6pOOR7h5pN29G9XXHOfNOLRddkVoIQ4onVq1ezf//+5z4/Kio981yFEEII8TaT5DOLi9wykS9/L80E38Loizbjs1+aMjTmAXdu3uF+ZByqtR7HHLlwdzDy7775jOnZlj8uSSVRCJHUvXv3uHfv3qsuhhBCCCHeYJJ8ZnVaIGs+asTpTV3p2bERVUoXJI+bI7kKOOIeF0HwlTMcXbuCP1cuZcOJELLQwq9CCCGEEEKIN4gkn2+ESC5vm8mIbTNN/9XZ4WBn4GFEjCz5LYQQQgghhHgtSPL5JjJEER7xqgshhBBCCCGEEE+or7oAQgghhBBCCCHefEmSz6ioKM6dO4fRaHxV5RHiraZpGufOnSMmJubZBwshxEsWEhLClStXXnUxhBBCZEFhYWGcPXs2yWNJkk87Ozu8vLxQFOU/LZgQwkRVVby8vLC2tn7VRRFCCNzc3DK1/6sQQoi3l5OTE97e3kkek2G3QgghhBBCCCFeOkk+hRAii7NycMD2VRdCCCEyysoBh9SCl2qHWx437J5VU7V0wNEu0wXBIfWCYOeWB7dnFkQIkR5yJwkhRFajOpCvfEO6fDKeuRsOcnLbSCpZvepCCSHEs6g45CtPwy6fMH7uBg6e3MbIlIKXrig9Fx7g2KFjHFzel5LJDlEd8lOhSU8++2EpO4/uZVztjDe/qQ75KN+wC5+Mn8uGgyfZNrIST5dER9GeCzlw7BDHDi6nb/KCCCEyTLZaEUKILERf0Y+xA+rj5VWa4jltUQDDbZmnL4R4zekr4jd2APW9vChdPCe2puBFStFLzV2LxlVd0SngUqEZdTxnc+aiAdBRpM0YvuxZlwolc6JXFTBGEJCxglDRbywD6nvhVbo4OU0FIcUwquamVuOquJoKQrM6nsw+cxFDxp+9EMJMej6FECILiTw0i0FdWlGvwUi2hcvK5EKILCLyELMGdaFVvQaM3BZOWtFLu7WbTQfuYjAauH90IzuvP073DFz6fQSdG9bAb+mt50wCIzk0axBdWtWjwchtpBlGtVvs3nSAuwYjhvtH2bjzuiSeQmSS9HwKIUQWpIVd5kqwBg66V10UIYRIPy2My1eC0XAg1ehluMCcjpVZn1tP5K1gIrXkB0QTGHgHI3kyUxDCLl8h7TBq4MKcjlRenxt95C2Cny6IECKDJPkUQoisSIsnziA9n0KIrEYjPs6QZs+n6bBIgoMiU/21Qct8IqjFx/HsMKoRGRxE6iURQmSEDLsVQgghhBBCCPHSSfIphBBCCCGEEOKlk2G3QgjxAqhu5eno15NmlfJjHRuLhWUMgX/vwf9MDFYha1i4M5SUBompzqVp2rktjWuUp1heNxwsYgi78w+n929n7dJl7LgaleGy2L3TnZEdSmGrJl6+0Ygh/Ai/fbOMs49XzLAtR7cvOlLaVjWtOGmM458Nk5i+MyRJWfWF69GxQ30qlixBsYLuWD68yYXD21g+Zy6bL6U0GM2KHD718e3YlrJBk+g77TSOFT7gs6GdqOppQdCWcXz05UZuyPQpIUQqdM7FqdWsFS0ae3Lyi778cvEZS/2orpRp2Z0PfN+ndAF37GLucPHwnyyZPYdNFzMxaFbnTPFazWjVojGeJ7+g7y/JV7u1wtWrBo2bN6NJqetM6DaJIwYnfNr0p3/Huvh42GMIuYD/8ilMnH+Eu2nEvYzHWgA9het0oHOr2rxTwAkrG0ccLMIJOr2PdfNmsuRIyt89Vjl8qO/bkbZlg5jUdxqnHSvwwWdD6VTVE4ugLYz76Es2SpAWL4Ekn0IIkUk6z3bMXD6WdwLG82G3/hy/q6E6+tDx22mMmZyfgEm7WbgzNNlZluRr8iUzx3Ym/43lTPxuICP+voWS+x0a9xrGUL/RtOrZh11TBzN46oE0KyzJRR1bwARtAHMWDeU9JxUwcHvtYBp/u4bbiWtN0ceZ/10kH/6yhv9Vi2PHF20YkTjxVF2o2HcyP36Yi2NLlvPngm2stS9KrS4f4tvpM+q0bsPvw3swdNVV4gBrj/do3a4VjRrWo2oxFywVA1dnTSN7zf8xf3ZPSulNg208ug7Ed/EWJl+QdSOFEImorvg0a0+7Fk1pVN0bN2sF4s9yzfIZ59l40eOX6fyvvgdWCW1uOclTyIeazVqwbGhXhq+7kYGValVcfZrRvl0LmjaqjrebNQrxnE1cEDUHtQaOol+b2lQo4IiFAoYbv2Ht9A5+46czvI4bj8IN6J30WOTMSRfv8pR0bkfrySeIeerPZSzWJrArSY+pvzCqnhX+3/ah5+AjBMdZkrPaR8yYNZBxjRtTaUgbBq0JMsV1aw/ea92OVo0aUq9qMVwsFQxXZzEte03+N382PUvpTUMiPboy0HcxGydfSPcrJkR6ybBbIYTIDNWF5iO/oGHO0/w66heOm7NE7cFJFg39hF8DYrG0skq2l51Kzqbfs2J6d7xDfsOvw3Dm773E3chIQi/5M394WzpNOkyEZR5qfbqAxSMq4ZChQmk8+Hs6X8w8TrQRQMHKGENEXAqHRgYSGBxH7Om5fLfoUqJKkS0le89kzhA3fu/WnP4TfmXlxi1sWDaVoZ2HseaOAcW2MG3GTaOft6lCZmGjcefYX+z9J4bHna5qrmZ83T87v/dtT/8ZBwmJN6JF3eHfMFksSQiRjGKHddRZtq7YzJnw9La4WeLV53v6uO5hQv/2NKnfCN9+37HyVBgGIyj6orT/fjYflbHOSEGws47i7NYVbD4TnmLPIVoo/j8NpmOncfiby6royzJ4/iRqBHxLs/Il8SpZnHKtJ7D/ngZqNnw+HEgz1+RV74zHWhNr3v14Gl82yIdF0EZ+nnuE4DiAOG7vmcKEFdfRLDxo9vlAqtuaT7GwQbtzjL/2/kPMkyBNs6/7k/33vrTvP4ODIfEYtSju/BuWgddLiPST5FMIITLD8l1qVnZCRcOQvIYSfYxffztAvJV1kmCr5mjJN2Na4qE+YNv0aRx4kPyiUZycPoKZJx5hVOwo2XsSw6rqM1gwAwELZrLhjgFQcarZnLrOKRymr0aDapbsWbCUS4m6BdQi3fnmk0rEb/yRmSejk5yi3f+L+auvYgAUu1J061kTPRB56SDbd25h3tLd5p5aFY+q+dk/dAhztu9j7be+1KzdlCb1+rH0tgznEkIkYwjk8Nad7No0m5WHop69Ii6AYoXzrV9p12ooM9ft4e8zJ9m/bjpDWnfk+6MRaIBiW4ren3XEI921XgOBh7eyc9cmZq88RFSKBdEwGDTigvZx+Io5+XR04OaMrnQZ/wdngqMBjbuHZjJx1TUMgJqtAtXKJ02CnyfWAqArRI1qBbFUQHV2wzXJWMZ4Ll0JRAN0OcpSvqB5L5nISxzcvpMt85ay29xQqnpUJf/+oQyZs519a7/Ft2ZtmjapR7+lt9P7YgmRIZJ8CiFEZqhWWFspoCtHpwHvk7RRWyPkz9VsD45P9JiOEl17U89FxRh7nF277qfcqm4IYPH8XUQYQbHwxNevJTkzGrHDtzF32QXijaA61aJt0zxPBX3nem2orWxj+cbgROWwpsoH3XnH9hGnDp9As7XFNsmPBf+cPoupsV+H63s18LFK9KwfPjRX1jRC/pzH8muPr6wRdvlvTt6QTQuEEGkx8PDho/Qln8ZHHFq7mmvJx9RGnWTGl/MIiDcCCnaVWtOyUMarvYaHD3mUZkEeER1rPiDuAnu2Jx/eG0tAwDXijYBqj3tO+0RxOBOx1nCDg/suEanFcXvvbk4lGcurERcXb3r9FAecHZNtZKo95KE5o9ZC/mTe8msJ8V8Lu8zfJ2/I1jLipZHkUwghMiPmJEdPPcKoWFCo02w2Lv6cZkWf9FJqwWuZNPvkk3k6agFq1yqOhQLa3ZsERqTeA3h/1w6OPjJVnPQV3qeaY0YLZ+DMsmUcijaCYkdl31YkqXup7jRuVY2IjcvYEZHocctS1KqaC52ip87E41y+fPmpnzMzW+BsvpaasyjFnJN+nTyuq0WFpzJkTQgh0pTeofkG4mNTjjJxp39n7SlTEqZYFOfdd1Ma/vECSvKMA2IfRhILgIKlVaKez0zF2gj2jq5P2VKlqPzhMgITvQSqUzGqlTU3Nip26LMlnfiRpMxR4aR7hLMQL4AsOCSEEJmhXWfJhF9otWggpfXW5K3enxlbmtNx3li+mrKWCxHJjrcuTonHQ6A0Q5oLYGgPznEhSOP9IjoU2wIUzm8J91OauJnGNW6sYcmOj6jcJDtWPq3w9fmZ7/42XUPN14KWFQJZM+5wkgUwVOeSeHvowHCJma0aMvbv2LT/iNGI8QVs+C6EEC+UFsjR4zfRynmiUyxxy5UDuPuqS5Ug87HWQGTY4y8ZS9x8GtOpa2uq5X7AmfAnGbGSQu4pxKsiPZ9CCJFJkYcn0q3Xj+wPNrewW+elWp+f2LRjGSMbFSTJDB87JxxtTDUBRZ8N+7QqBYZ/uR3yuKKhxzHNg1Nznz8XbeCmAdAVonn7KtgBoKNY6xZ4n/mdleeTpsCKqytOCqA44uyoYTAY0v7RNOndFEK8hgwEBt5KiE8WOl2aR//XXkystSVfLT8mrdrB6pHlCF0+lA4dBvD9zlsSl8VrSZJPIYTINI1g/4m0b9Ce0avOEGYwDZW1zl2Nvj+vZ+nHFZ+sVvsomqh4U4u0ap8Hj6dWPkx82Sgio82t18Zw7j94vq1Jovcv4vcL8RjRkbthW2o7AZZlaN3Ug/3L1z6936alzjQsRs1OgcI55ItCCJFFaTyMjDaPMDVyPzTkFZcnmczGWrtitJu8gW3zB+C5fygt2v+PRYdv84z+UyFeKalTCCHEC2K4c4DZgxpSo9UIFh0JJt4Iis6ZCkN+YHgVU38jsdcJfLzSq64wXiXSWP5ftcHW3EtqjPqHi0+tqJHegp1n+bJDRBtBzV6btk1yoq/clib221mxOeSp1nHjvfuYFuDVUbJaDdye9U2hulC4iCuvV5+CEEKo2NjamLa6MlzjxIl7r7pASWQq1qr5aDd1KRPbFsPoP4EhPxzM0H7QQrwqknwKIURm2DZizLgm2Cc8oBF6dCHDW9Wj809HCddA0eWleh1v06/jTrPnYIhprqeanco1fEh1/3RdPjxyqYCRyCM72ffweQupcXPdEnbc10DRU8W3M53b1SVu41J2Jp+TCmh3znPxjgFQsKvSle4+tk8flEDFs+MExjTP/byFE0KIl0SHZ/5cqBgxXN/B1tMZmzP/smUm1lpV6MWgeu7oFAMB+/25JYmnyCIk+RRCiEyxxLVKTd5NXmfQQtgzcRTzAkzbrNjps5l/EcPehcu4EGcEdORp0IbqqWzhqXpUpLyHCoYg1s5dR3AmKhfa3T9ZtOEmBhSsyvVneN0Q1i0/kmShoQSxx9m+15QgK1ZefDj2U95zTunrQiVHrVFM94th2YIzaS6eJIQQGaEkrJKj8Nzr5egKUbViPlQtnN2z5nLseXJP5cnff+6FexRSfg7PHWtVcpUtTV7zcBN9Nvtk11ex09uaH1NkwSHxWpHkUwghMknNUZd2DVyfDqiGawTe0jBqkZw8ejrh4bhTs/n6twBijKDL1ZR+XYqkMGTVlne7+OJjYeD6yq+Y6J9s1zXVGltLc9XCwgKLZ1Yuotm/eBUX4o0oqiXaqacXGnoikl1zF3Em2jR31bZUb+atmsaAhl64WKuADr3Hu/iO+I01s5oQNOU71ifKjBWdZcJS6jZ6u+evOAoh3kAq1raWprigWGCRYvBKlDwpNtjaplVdVVFT/LWKS/1+dPBWCN32DV8sCXpqioFqbYspjCpYWFikGKtUOz225mNsbG1TqDhbY2NtPjOVLM9Kr+fx9pwWlomj/fPH2piYODQjgI4iTTtRzelxyXS4+LRjeOdypjis2OLgaGP6zeMFlxQdlk+CNHYSpMV/SJJPIYTILMWFhiPH0b5I0vmbat5G1CujI+LYTKasC030mwfs+86P4auv8ohsVPh4Ot80ypdQOQFbCrcez6Tunvy7ZRS9Rm0hNFmtSc3pTQl3UwhXHDwpkOPZ4dxwbhnLD0dj1CLwX5HCQkOJxJ2ZwdDxewg1GAGVbMVaMGLONk5eusylK1cJOLCWH/qW4voUPz5dlbhSp+JeogguqunfriXLUjDVccVCiLeOmhPvEu7mPSgd8CyQwkI7lkUoUdA8V1N1o1ARp2THaDy4cZMwDVBsqdxlILXz6xMdY0fBRl8wd0JT2DGaboOXcv2peKeS07sEpjCq4OBZgKfDqCVFShTENPVexa1QEZySH5OtOEU9zLFYl4cCnsmbEvWUK1MUnTmBzVO4KIkHuzxfrNUI3v0Xx81Jq0XBzszetJJZU2eycOM+dkypzIkF60yrnCs2VB0wnck/zGfF13VMz9y9BEVMQRrVtSRlJUiL/5Bib2+fsBFQv379GDlyJDVq1ODy5cuvslxCvJVKly7N5s2b+eKLL5g3b96rLo5ID9vm/LxnGPmDY3F1h6sH9nMs4BZx2b14v1lV7A7PYMQXv3A4pZUgVGd8fIcwbEBbqnpaEnz6AMf/iUJfsAze9tfZMms8kxYfS7KIhM6rDZ/3bETlmrUondPK3FJvJPrmUXbsPsb2heNYfiq1sWUqLq1nsfOzcD6p+QnbIlM5LIEdRZp9wlfDu1Atv95ceQKMMdw6uJQfx/7AkmOh5sqQSp76HzPig8bUrFQE58e9GcZ47l3cw86Dp9jx2/esvSiDc7OSxYsX4+3tTZkyZV51UURWp/Oizec9aVS5JrVK58TqcYiIvsnRHbs5tn0hE3Zmp/uA5lSu8D61SromjOjQIq9xaPse9qydzo9/3jBf0I7CDXszsJcv9crnx16J4s7VKwTdj8MuVwFyxJ7hj9kT+WHJ8WQL8ejwavM5PRtVpmat0uR8UhBuHt3B7mPbWThhJ9m7D6B55Qq8X6skrk8KwrVD29mzZy2f/XiACj1G0Lt9Y+p5u5jjo5GYf4/z17YNzJ80hyN5O/DVwC40rvvkGsb4u5zdvpllP49h3uGIhOeS/lj7mBVF2k3il29aUlivomBEiwxi75KJjP5+FecNlRi1YTF+xWxQjPGEHprBR6NPUe7D7jSuWYkizhYJ3x/x9y6yZ+dBTu34je/XXpQpFOKFmTJlCr6+vuTJkyfhMUk+hXiNSPKZFelxcoojLCwWVD25i5akeEF3bB4Gcu70Oa7dT8+i91a4FimNVwF3HNRIgq+d4+SF4JTnY2aWVSEqlIrk6LHbGdgDzo7c3mUokd8ZXVgQFwMuEng3WvaQewtI8imyAp1DXooUzkdu9+zYxodx+9p5Tl+6mwW3HMl4rNU55adUmRLkUu8ScOwYVx8kGofiWJiKlYvhEHaeA4evEi5BW/zHUko+LdI4XgghxDNFEhZm/qcWya0Lh7h1IaPXiCX00lH8L73goqX4p65w+FhGT4ri1tn93Dr7MgokhBCZYwgP4sLxIDIcel87GY+1hrDrnNh1nRMp/E57cJkDW6QzSbxeZM6nEEIIIYQQQoiXTpJPIYQQQgghhBAvnSSfQgghhBBCCCFeOkk+hRBCCCGEEEK8dJJ8CiGEEEIIIYR46ST5FEIIIYQQQgjx0knyKYQQQgghhBDipZPkUwghhBBCCCHESyfJpxBCCCGEEEKIly5J8hkdHc2FCxfQNO1VlUeIt5qmaVy4cIFHjx696qIIIQQhISFcuXLlVRdDCCFEFnT//n3Onz+f5LEkyaetrS3FixdHVaVDVIhXQVVVihcvjo2NzasuihBC4ObmRqFChV51MYQQQmRBzs7OlChRIsljkmUKIYQQQgghhHjpJPkUQgiRKtXOjTxudvJlIYQQQohMs3jVBRBCCPF60hXtyYKVX1LDOYwDYzvSaeYZYl91oYQQIr30hanfcxC98+2i56erCUvXSSrOJZvTo3sLar1TGFdbhdiwfwk4uJ6Fc1ewJzD6JZ8PqnNJmvfoTota71DY1RYlNox/Aw6yfuFcVuwJ5NlXEOL1JY3ZQgghUqCSu1ZjqrrqUHQuVGhWB0/dqy6TEEKkg74gdfpNYcO+v/h1eGvK5bIjXeFLdabiwIVs2/gj3QoE8HOfRlStVINWw1fwoPLnLP5zNd82yY/lyzofFeeKA1m4bSM/ditAwM99aFS1EjVaDWfFg8p8vvhPVn/bhPypX0CI1570fAohhEiBxq3dmzhwtzxVncI5unEn1w2vukxCCJEG23zU6uxHp/rlKFHci/zOFijpPlnFo/UEZg6tgcv1RXTrOY5dYabdH+6eXM7wXgouGybSbeo8DOGt+Mo/DO2Fng+qR2smzBxKDZfrLOrWk3G7zMfcPcny4b1QXDYwsdtU5hnCafWVP2GyOYXIgqTnUwghRIoMF+bQsXJ5KpWviO9PJ4lJ9UgrinfoyHtW/2HhhBAiGX3+/Bh2jqd3m4a877eIGwZhFz8AACAASURBVBloMFM9uzL+6wa4qw/xnzUV/2SZnXZjFZMXncdgVZTuE0ZS0+HFno/qSdfxX9PAXeWh/yymJk9OtRusmryI8wYrinafwMinLiBE1iDJpxBCiFRpkcEEBUc+1UKfmH2lT5kyqja5ZFiuEOIVirywB//L4WhA3M2bBBvTe6YdVfz6UNVRxRh5kA2bb6cQ8+I4/8cWzhkUdHlbMqRr0URDeTN7PthV8aNPVUdUYyQHN2zmdgpBN+78H2w5Z0DR5aXlkK4UlZgrsiBJPoUQQjw3NWcTvp3iR0nb9A9uE0KIl85oJN25p31N2jbKgw4wnD3A/vspN7cZruznyE0DKLb4tG5FSd0LOh97arZtRB7TBTiw/37KDX6GK+w/chMDCrY+rWlVUrJPkfVI8imEEOL56H3oN208LT0yMq9KCCFeL3aV6lItuwoYCL54jjupDfWIu8C5S7EYAYuCdWngrXsh5/N/9u47rKr6D+D4+5zL3ogMRRQHKqKC5V6II/cWR45MU9PU7FdpZdOZIzMrTTNXjlyZ5t5774mBOBATFAcIyLjn/v5gKyAmiOjn9Tw8j17O95zvuRcOn893WtSkSb1CqIA+/B/OZ30CAs4HEp90Apo088rZQkpCvEBkwSEhxCtLtXSjWtO2tGvTDMsNvRm29DbYeNL6nQG82bwGZQop3L9yhDXTJ/LzthASALDA3e9NendrTh3P4jiYxRJyfA0zxk1j49WsNiKxpEzjbvTo0IjXS9phYmaLjVEk18/sY/XcGSw+cjtdK7dK8aaDeadRCSyNlHRJnQEt5hLrfvyFY+5vM9y/Ahaqkvq9+HNLGf3bYaJz9R3SYV/ejzYd2tHS/RSfD/yVf5LnUBkXb8Fn08bTt6pdUiumrgJdv51CHT1geMCROd+w5FzGCVeWZd7gzW5NqVHRk3KlnDF+EErA4S0snT2HDYGZ19zEyZum/m/Sucp1Jg/8kTO21enzycd0r+uO0fWNfPvBV6wLkVU3hBD/lTHlqvlQSAUw8G9ICIlZHhvDteu30XBDpyuFj08h1NP3nrH8LXTlquGTdAIM/4YQkvUJiLl2ndsauOl0lPLxoZB6mlvyCBQFiCSfQohXjsVrvfl6aGca1a2Es7mKQgL7dplS1O8jJkwYRB3r21y9pcPa0RkXFzc+8qmIXa82jDpdil7fTmV4Ixtuh9wiwdiCQkWK4txqGL9UcODtVp+y4/6jF6vI29N+5Ys3TNg99l36vn+E8ARjXOp9wPSZQ/i2ZUtqDuvE0FXXkxNQjWubpjHmbCNGzPyJ/lVsklrDg+fQtdl09kcDYb8x3mQcmxf1pHDAUsaNmsHqA5dyLfFUC3vTpmsX2rVuQX0vR0wVSDx3Jd32ACoOxey5tXUxmx3fo7m7DgwxhAUHE6wHDDGER6cb8KY6UGPgFH7oV4Rji5eyacEW/rIui1/Pfvh3/4TGHTuxYsTbfLwyOCnBN3WjdscudGjRnDfqlsPBWEEfPJMfCzXgy/mz6FvJMinhdevFEP9FrJsSkEt3LoR49VhQrlzxpGeKIZHbYbeymeOeyK3wOxhwA0VHac/yGHH6GcvfwrxcOYonJ6+Jt8OyTSYTb4VzxwBuKOhKe1LeCG7JBsyiAJFht0KIV87DM4sY2cef/nMC0BsAVNy7zGDm2yasHFCbCl7V8a1fjdpvLeCfRAOKmQdvfvwVY+ZMotGlMTR77XXqN2lGo5rVaTv5CNEGBeOS/rznX/yRh6op1f73I181K47R9XX8MucI4QkACdzcM5WJy66iGbnR5rMh1DfPWMf40G2MHfgVm24l9R6qLhWo5JJydhNKVvfBKexvhvcazvy9l7iXi9ugKBamxJzbzLINZ4nMNAjSuLl/EdOn/86BG8kHaFfYMesnfvrpJ376eQ7brqQUNKdi/xnMHubIirfa8t7E31i+biNr/5jGxz2GsypMj2Jehk7f/sggr+T01sgMLewYW/deJi6ld1ctQptv3qPQioF0fW86B28lYtBiCPs3Z9vGCyFEpnRFcXVOnjpgiOHBg2y6HYHIyAfJc0lVCjs7Y/ys5dFR1NUZo6QTEPPgQTY9p0BkJA+S2/bUws44y56fooCR5FMI8crREhJI0KI5e+gUdwwAChZhS3m39zj+PHGTGA1A4/au6Sw6Eo8BBcuqrfHc8z/6T9nGtZiUM0Vz5velHIgxgGKGT/3a2Ka/kK40vvVKYayAau9I4QxjTRIJvHQNDdA5VaFqqcdn7mghK/hqzCZuaaBYVGPAh61wVMHy9WFM7FeItV98yd+ZLYn4jPTXDrN5x07Wz1rOoZgcL9mRKdWjN6M/rEniuh+YcSo2w/e0u1uZ/2cwekCxqMRbfRtgCRAdyMFtO9g4dwm7IpLuT3WrS4n9HzNs9jb2/TUW/waNaN3qDQYtuflM9RNCvOJUa6ytkhu5DAnEx2f3zNOIi49PTh4VVCtrrIyesbyqYm1tlTzFwkBC6vezOENcPCmXUFQrrK0klBcFi/zECiFeWYaH8cQZAAzcCQp4fGl7LZxLl5NXHdRuc/rwRWIfPSTqGqF3NUDB2M2d4ulzSH0IB/cFEq0lcHPvLk5n2ChTIyEhMSnIUGywt81s2QiN0D9H8e2W22jocGr1GZ+1a8HHk/thu2YkozbfznYLlGemf8CDh8+SfJpSp09vXjd/yOnDJ9HMzTHP8GXE5TPnkntXdRSu7Yt3+r1CtQc8SE5+tVubmLv0Sur9aveCOHEqJJfnuAohXj0qamo0rEeffcclCQlpw0wUEzPMlGcsD6hpJ0D/5BOQegbFBDOz7A8X4kUjcz6FEK+wJyVWBqKinpDe6B8QmZwgKRa2WOsgLTKIYu+oplSZZkH8vajkBYuSqHblqFfFNakFULHA0iqL9WK1EJZ9NZHm1b6lcaFi+E/9hfgrC+kzdhtZrOafu54l9zSuhF/dIugUHY0nHSdoUvaHqy5lKWevsj/9So8p14+JzGIIsBBCPAMtlujYlK5EI4yMs1+728wkLXQ2xMUSq3/G8mjERsem9oYaGRlnv3q4mUla8G6II/bRFlEhXnCSfAohRDYMOUi+Uo8x0vH49Bs90feikv9tjKN3S7r36ki9ovc5G5l2ciWbaEMLWcKXk5pTdawfdjq4e2ofZ6KyPv5FodpXxMtNB/pAZnRozvgTT1gVw2DAoEmGKYR4jgz/Eh6R8iw2wcQ0u4NVTM1MUofIxkbcIkr/jOU1A4RHpLazmWR/AlRTM0xSRvnGRnArSp6ZomCRYbdCCJHnzCnuN4DJK7fz58jXuL30Y7p1G8x3O27kcNisxtU/fubPED2gw7ntSEb42b3wD3ClcGHsFECxxd5WQ6/XZ/+laXk7jFgIIR6l3SPgn5tJA1YUC+zszLM5WMHezjY5edRz/cpV4p+1PBr3Av7hZtIJsLCzI9sz2Nthm5x86q9fIcsdvoR4Qb3osYsQQhRsFuXoMmUtW+YPxn3/x7Tr+iULD9/k6eIFHWV6DKWt1V3u6A0ouuJ0+WYE9W2fXDJfGeuShteohShZxkn+4AghXkDxnD95jocGQFEp7OREZjPwk+hwcnZISh61SC6cCUb/zOUh/vxJziWdALWwE05ZnwCdkzMOSScg8sKZpO2thChAJBYQQoi8ohany7QlTOpcDsPuiQz7/iAR/6Frz7jcO3z7YUm2Dm/P/5aFoDcoGLm/yaiP6mKd+7XONYY7d0na9lRHxXq+OD7pL47qQBmPwtkEbkIIkfuijh7lXIIBUHErXQaTrA5UHSld0gEVMMQeY9/hh7lSnqijHD2XgAFQ3UpTJusT4Fi6JA5JJ+DYvsM8/A/3K0R+kuRTCCHyiEn1dxj6hjM6Rc/F/bu58V/GlJp4MXDiMNy3j2H85mC2jf+GlaF6DIoRpXqO4cNalrle7//q0XmrWtgF/gnTAwoWdXrR2zu7wWQq7m9OZEzbonlZRSGEeIx2bS1rjz7EgIp1+YqUzqoFzKwiFT10KGhEbFnJpuTWxGctj3aNtWuP8tAAqnV5KmZ9AipW9ECngBaxhZWbImSqgihwJPkUQogcUbJfgfAxKkWqVKZYcgxhaWX9SHkVC0vz5NeULBYcMsdn6CQGu+1m3Nj13NJAi9jM2FF/cVMPinEZ3hrzATXyLP9MV69MK5iIPiXyUSyxenS/ufjjbNt7K2kfT5MK9Bv/EbXtM/uzo+Lk9wU/D4jjjwVnkVFkQojnSgvl7+W7uK+BrmwDGpbKPDw2rd6QOvYq6K+wav5m7uVWeTRC/17OrqQT0KBhqcwDdNPqNKxjj4qeK6vms/leZgcJ8WKT5FMI8eoyMUlbnTaL5WaNjZMXBVfMsLDI5BjVCBOj5BRSVTOcJi4uAc0AoMOjdXfq2aU8cnU4eHdhRI/XkuZEKubY2CZt1qbTpbV4W1Z9nwkDXNk7YTR/pW5CqnF7wxhGr72JHgWTcn0Y80EN8iT/VC2wNE++NzNzzB/9i6E94Pad5C0C1NJ4eaWs0miJp19t3NRods5ZyNnYpLlM5pX6M3fljwxuXgEHUxXQYelWDf9P57FqZiuuTx3HmvB07fiKjpS3HzNLMnv7hRAiM4q5BSlbYCqqipJtxKsRvnICPx2JBp0X/j2qY/HoIaoTrbo3w0XVE7pmEr8cjcvF8qCFr2TCT0eIRoeXfw+qP34CnFp1p5mLij50DZN+OUrco4cIUQBI8imEeEWpFC1XhkJJG21SyLXY4wmc6kjZMoWT9+IshJdP6cfmI6q2pSnpmJyg2bpTyinlsaoRvmsrx5MTL6NSPZi1fjkzp83g93X72D61FicXrCZUDyhm1B38M1O+n8+ybxonnde5Od98/y7lAucwYcX1jEOrtHD+njyXU4mAYopnv6l8284t1+dKGnt4UspMSX4rSuNh9+ifjIecOHSKWAOgc6HjqJ/5bNAgRkxbxLhGpsQACWen8/GEPdzWJ82HsirXjk9nb+FUYBCBl4K5eOAvvh9YiatTB/DRyoz3qTp74uGQdE21cEWqlHp8IxshhHicDre6NSmV/FBUi5Wi1JM2F9T/w2+fjGLzv1Cy+yiG13NIFyTrcGv/DcObOvDw/K98MHINNx8d7/qs5dHzz2+fMCrpBIwaXg+HdI9cnVt7vhneFIeH5/n1g5GsefwEQhQIOlNT069T/lOtWjXq16/PvHnzuHPnTn7WS4hXkrOzMz169GD79u2cPHkyv6vzklJxqv8OHw/7kA971aKwqQIomJWuQX2vUpS0juDYuUgqd/+cTz8ZTu96TpgqCig6nF5rSG2PEjjrL3H0SlE6fvU1X37ahwbOZigKKEauVG3wGqXcCxFz7iRXr5/mRLgbdeqWp5CJiomdK2VKWHJ90ySGDJ3C1jP3KdKsLa8XNsbYzg2XB+v55qv1uPX+lu8nfkDT4sagmmJh+YDgQ/9wJ3kjOF0Ff778uDv1PRwxVUBRbSnftC0Ny1kRcfoglyJzsDlpdu9Pg/6MeH8IH3/YGS8rFQVQTN2p06w2FcoWIfHikeRrGIgKvIJRzebUKGqOcaEyVKvlidGhSQwdtTl56wA9t45vYNslE9wreuJma4KqgKIaYaxL4N+DCxk7eBDfrLmU2oqvujblw/HjGPN5d3xsdEnX1zlTo3ULqnqWo4xpCAcD0vbFE3mnY8eOODk58csvv+R3VYR4IrWoH+8MfYcefT7i07dex06X3Hhm503jRj6Ur+CNt2scAWeuJzWaPUIfcZoNmy+gln2Dtwb3pF6JwhTxqEqzPl8yZlBl7qybyHuDf+Dg3cyfPs9aHn0Epzds5oJaljfeGkzPeiUoXMSDqs368OWYQVS+s46J7w3mh4N35fknCoRmzZrh5eXFlClTUl9TrK2tU39+Bw0axMiRI/H19SUoKChfKinEq6xy5cps2LCBzz//nLlz5+Z3dUQu0dmVoJKPJ0XUCC4eO0bw/bQWa9W2DDVqlcPm3gUOHA4msiA2ZuscKF+7BqUtogg5c5TTN2KzONCCol4+eJawR3fvOv9c/IdrEbGyYMYLbNGiRXh5eeHj45PfVRHiOVKxKVWD+jXKU8zehLiIa5zZv5vjIdE5fF49a3lQbUpRo34NyhezxyQugmtn9rP7eAjR8sAUBcjUqVPx9/fH1dU19bUnDUIQQgjxjPT3rnJy51Uy68vW7gdxYGMBb+zTRxCwZz0BTzwwhhvn9nPj3HOokxBC/GcakcEHWBt8IJ/KgxYZzIG1wfz3MwjxYpLkUwghXjLbtm3D0vK/L0E0dOhQDh8+nIs1EkIIIYSQ5FMIIV46bm5uz5R8mptntx+nEEIIIcR/I8mnEEK8ZJo2bZphy5anFRoamou1EUIIIYRIIsmnEEK8ZC5fvpzfVRBCCCGEeIzs8ymEEEIIIYQQIs9J8imEEEIIIYQQIs9J8imEEEIIIYQQIs9J8imEEEIIIYQQIs9lWHDo2rVrHDt2jMqVK+Pq6ppfdRLileXi4sKZM2ewt7fH19c3v6sjhHjF3bt3j6CgIHkeCSGEeGrx8fHs3bs3w2uKtbW1If0L06dPp23bts+1YkIIIYQQQgghXi5NmjTh/Pnzqf/PkHw2btyYfv36sX79eu7fv58vFRTiVVa4cGHatGnDgQMHuHDhQn5XRwjximvatCn29vb88ccf+V0VIYQQBUy9evWwsbGhX79+qa9lGHZbtmxZ6taty8iRIwkKCnruFRTiVVe5cmW++eYbVq1axV9//ZXf1RFCvOL8/f0pX768PI+EEEI8tQYNGtCiRYsMr8mCQ0IIIYQQQggh8pwkn8+FioWjK44W8nYLIYQQQuQa1RJb67yOr1RMbYtSwr0YDuYvWCxnYoONeX5XQoicM3ryIS8CFcfa3eleywldVofow9i/cDEHbmuPf8/Cm479GuP+2N0aiD2/hpkbgtDnboXT0VG27wKWf+WL/b0DjH+zOzPOxufZ1fKb6lib7t1r4ZTlBwUGg57E+IfERN4h/OZ1rlw4x4WQ+yQ8+eyUatqfdhUtUZ6xnolXt/LDilPPeBYhhBBCPG+qRVEq1W1IkyZNadK4Gg9mNMF/VgiZRIDPeCEHqvcezuA2lSjq7I6Hmy06LYqr+5cwbsQ41l19cuSS+1Rsir9GHV9fGvj54VvLkV2D6jFix8sbW4qXSwFJPjUig45w1LUDQz4ZQB0Xo9TkQ4s8zvyxP7Lu3GUCI7N47Dy8xom9x9DX6MjQD9pTzkJBi77IqskTmXc2DEPmpXKHWhS/lnUprFPAoTptGrsz6+w/eZjs5i8tMogjBy2pWKUxvQZ24zUHXfJnZSDx7mXOBUWQaGKOlbU9zq4u2JrqUAx6YsIucHj3VtYu+4PVB0KIyfTsxpRvPZQP2tsmd9kb0MfHEBUVS3yiHoPOgkIO1hgrgEFP9N3bPEhQUHXGmFrZYG2qQ0n+wUk4GCnJpxBCCFGgqBRr8RljBrWkeiU3bI0UIJFDeXKporT5fgXfvbaHAe1asT3Cmpqf/cGCQZVxr9eP7744y753VnIvL66dFcsaDBg/mKYVKlC5vAvmCqC/+cwN8kI8Ty/Y2IGsxYUHsHf5OPoM+pULcWnpoha0mbmLN3PgRCC3s2r00e4SfGwnf/0yivnHE8EQzeHv3+WDWRs5HhKV+y1lGa59g13rDxChN6C/e5R1O66+tIknAHHhBBzcwooZn/LBrFNp95p4mu87+NKiXTvatGhKw3rV8fLwombLd/hy5iYum3ri23kYk5fvYvfKsXTxssnk5CpmZiYohkSub/uO/s1fp1zpsnhV9qbKa69Rte00TqVcULvBsv41ee21Kvh4V8SzdEm86nfmk0WnidRAMZMxKkIIIUTBonF9/Rh6t6pL2+9OkZhn11Fx7jCKsR1cCVm7mF0RGnCfgxMG8vWmm+gN8fx7NZTYPLt+FqIPMXNoTzq80YyRWyLztvNEiDxSYJLPFNGHpjHxzxupSY3Osz4NXHN4G7oSFC+ior+5hhkLc6/30aR8N96sbZLFd/UEzH6TWlVrUrWGPz+disulq77oNP79N4yElCejdpubNx9J8/VRXD+5gd9G96OZb3u+XH2JGEwpUrM3363+m2n+HphmKGCCmakO/T+zGDRgCutOhxGb45YDPfeD9/H7J+8wevs9MDF9chEhhBBCvID0XL8aSlxeZV9qGbr2aYy9aiD85o20JE9/hcX96lOzTi1ajj5IvkV02j2CLoXnqPMk+xhViOevwCWfEMm26bM5EpP0KFDMquHfuXzWc0HTMfZqQkN3A4HLf2dHVC5Vx7omH039gkZFsquBRnT4dcKj87SP9YVjeBiXg3mcSbSIY8wZ3IH+v54hWgPFvAwdJs1hbFPHtB9S1Rwzs3iO/vE7J/5rc6MWyurFW7ltZPYfTyCEEEKIfKdpeTZyTS1Sn7qeRigYSExMyHgdLZobV8OymB70vGgkJuif3POZoxhViOerACafoAUvY87G20kPA8WYCl16U9/ySaVMqdapNaUTT7ByxZnc6fVUXWg1dioDKprLePtMPPUfBe02O8a8y6idEWiAYlyKLhPH06loyo+pGebqP+zdFfpMf3CiD+7muF56PoUQQgjxOCP3krjpCnhkJzGqeEEVyOQT7rF57jKCEpPafHRFWtO7jXP2N2PTiK6tihG7bwV/Xs6NtjJLvAf9yIT2bhjJb3Xu0V9h8agZHE3u2VYdmjC4fzXMAbRrzOrZmWkXn7Hp4P4q3msz+pmrKoQQQoiXj2Jrg3WBju0kRhUvrgKy2u3jEk7+zu8HezOqriWKao1vr+6UWzaFC5nmJSpOLTrTpNA9ti9fy6NTD1Htqdy6B51b+lK1XDEcbYyIuxfG5TP72fbXEv7YHpxxeIVxcVp8No3xfatipwLoqND1W6bU0QMGHhyZwzdLzqX1rursKe/Xhg7tWuJ+6nMG/vrofFMTClfwpWXbNrSqdJWJb03miN4O707v8d6bTfB2s0Z/K4DdS6cyaf4RIrLMnVVsPVvRp68/TaqXxdk0hhtBF7lw/gyHd6xj08ErRGVVVudO21ETeb+OFYHLvmb4L4e5n0+jhLXAP1iw4z2qtrRHVYwo2bEXjb47xNoojYSY3JjerxEf86rMvRVCCCEKKhX7ym3p3asDjV/3wMVOJeraKbYu+Zk5OQoHLCnzxpt0a1qDip7lKOVszIPQAA5vWcrsORsIjE53qHEV3hrdA28TBZ1bVawUAB3lOoxmyuspk4gSCVj2NbMOpkWFlmUa061HBxq9XhI7EzNsbYyIvH6GfavnMmPxEdJ2ADTHu8uHdKtmj4manBEmBrDs61kknU5Hef/PeaemLWpqwqhxa/d0JvwVnPMRX08bowrxnBXQnk9AC2HFvA2E6wEUjL268nZWY2/V4rTzr4flzQ0s25pxUWzj4q0Y8/du1oxtjvG+qQzp0Ij6Tbrxybyz2DYcwKgFW9m5cBi1HNLeKtWhGPa3trJ4c8rKtQZiwoIJDk76uhIejQGVwt7tGDxuHpuOHWPr/HG8174G7rbG6erlhN/7P7J8z0mObZ7HuMEdqFHKHlO71xkweyOrJvehbpmiuDi7UKJSA3qOWsj8YT5kPmDUHM+eM9mwdgrtTDbzTfemNGj7AfOCi9Hq3c/4Ydlezpw/waH9e9m7dy97Vo/IWLrxMEb1qkM5D29aDv+St0rn54/GXXZuOUxy5yeqbU18q8owWSGEEOKVoTpQ+4NFbFk9nlYme5kysDUNGrRn6M8nKDJgPqtGJI+KyrJ4Dd6bv40VH/kQd34TC6ZN4Lv5+4gp2ZDun/zKhvVT6VgqXUymPSAsOY4LvpmWlcbdDUmN74KDg/k3MiVts6Di27PZunkOA91PMaVvG5o39cO3/Wds1zWg/7crWDutPcVSw6lYTi0dx4QlNyjZqjNdunShi399SqeuBaQnYPlovpy4gGNmtejUuQtdunSmpY9jjtY1SbvvnMSoQuSfAtvzCRC5dQ7LAtsxuLwRiq4Ird9uy5Rdix/r2dRV8Me/qjHBs5ayN10XpurSmu+W/UQHl0vM7t6Nr/fdT/5OILvnj+DoyVAW/vExNfw+YsEiS3p2HsvBSNBu7mfR9IMU7evLwObu6NC4smMWP61M3wynw8I0hnObl2FU3AdPv0weHtptdv/0PntX9WDOxrE0tFVRLKvw/vzaJOwaS5tPtnI2PA6HGkP4ZfZH1C5khXe/IbRZ0I/ltzPepHW9z5g5ujnFwhbz1qe/cyga4CQrv+qPUdGNTG7mgLGVLZGb57LyfDyG6IAM5fUxD4lPeRolxJLfHYORZ89xWd+USkaArjBlPV1gx9X8rZQQQgghngNzqgyZw2//8+HO0n50Gb45tQfx9ObpDDlygXFr5tEjqyGl5hXpP2M2w6zm06ntZE6lhGcb17Mp0IitMzvhUqYT3/54mYB2P3AuAdAHsnFWYFLxDj4Mae+JERr/7l/A9Dk3H+t5NK32P378qhnF1Wv89sscjoQn9Y4m3NzD1InLaLOsHyXbfMaQFRsZsTOlAhp3Tyxjw5khVK9pzOM0YsJOsnzFPj5sXRzn/zBkNmcxqhD5p+D2fAIknGHhgn1EGwBUrOv3onv5R1M8U2p07UA5wxn+XH4ybfVV1Yn2o8fQ3k3l/paf+fHAfR4Vc+pnPp1xkocGBYuK/Zk8vC5PXNcolZ5rhzezY+d6Zi0/lNqLl5GGXq+RcH0fhy8lPdYUWxtCp/ei54S/ORseC2hEHJrBpJVX0AOqVXXqPdoLqLrReWg3ShlD/PmjHEs/jES7wV9z1xKqBxRjHPUBzP/lF2b+vjPDKeL3TWLwqIWs37CSacNGsOBa/q7Mq79xg1upVVAo5OiUn9URQgghxHNi+tpQJrz/OlZR25k2cSuPtLej3d3FjMUnshg6quLRezQf1kxk3Q8z0hLPpJLc3TqfP4P1gIJFpbfo2yDnkV0aHaV961HKWAHVweJOJQAAIABJREFUHsfCGftyEgMvcU0DdE5UqVoqY+eDFkPMw+z7Hg0x0cRK96R4SRXs5BON63/OY11Y0uNHMa5A17d9MyaINo3o2sqVhweX82dQ2tNL59mL/m84oBriOb5zJ3czzbX0XFw0n51RBlCMcPcfQHuXp3/L9A8ekP1z5iGxKd2OCQHs2RbyyAM1nosXr5BoAFRrnF2sM35wVjWp42OGAiTERD+271Tcse3si9AAFfvSHhTJ7Ba0CA7NHkG/d4YycV0w8U93i7kvPo44fdqbpqqyTLgQQgjx0lMdaDWwJ56mEL1/LZvCMwvQNMJDwzKPrUzr0Kf365g/PM3hkxrm5uYZv4wuc+ZcZFJPpq4wtX29efpdMPWEHNxHYLRGws297DqdMfLSEhKSYjYUbOxtn2rYrBAvuwKefAJR25i39GLyL7mOIq3fpn3q1hwpCw1FsWv539xIfX6plGzkR3kjBbQIQq9FZT2R++5Oth99iAFQLKvTsJ7tf6rmExuwnnBA/IPo5IRQwdgkY8+namuPrXHS2AyzQg5YP/qpxl3gwqXkdNbUHLOCsPKZmTlmqcucG4i6fy/bw4UQQghR8Kn2TWnXwA4VPZfPniHLbdkNhkxDJ+NKftQtokOxbMyk40EEBT36dZYZ7eyTA2AVl7LlsP8P0XDU3lE0rVKJSrX68Uf60WKqHeXqVcFVBVCwsLSSrU6ESKdAz/lMoufsovns6fMtftYKilV9er7pyZLJ59CrxWnvXw/LW6tZtjEiXYJpSnnPlGEQGvrslvzS7nM+4DpaQw90ijkly5QA7ubtLT0l7U4Yt2MNYKygK+eNjxlsTb88r3aPqGgDYOBh6FX+LQBLnOmKFsU55Y+BIZZrwSH5Wh8hXnTmHn60qJLVwhQGYoP38PfRm8+5VkII8XSMq9bA20wBNO7cvvWUq7Kq2Ff0wk0H+sAZdGg+nhNPGMplMBjQ/uNMI330vdTk2NjRm5bde9GxXlHun41MS4wVST2FSO8lSD5BC13F3LXvU79bUXSKEZ5d3qbBjI/YWbIznaoac3XuUnalnweJBXa2ScNUUSyxynYzJz3/3ryFhgc6wNLWOi9v5b+J3s3qLWE07+iCzrEx/k0Ls33V7bRkW1cG92IqaLfZvnoHj89uffHYVfSiRHIUbYg7w6GjMlFeiKyp2NcfxHejapPZEhagEbbkLUk+hRAvOBXbokWwSW58NhieduKjQuHCdiiAYmuPrabPvoMhF5gX96PX0MH0qKFnx8zJfNztMDfNurKgVys88/bSQhRIL0XyCdHsnLuU852GUclYQVekFb3b/0Rc+faU4zzTlh19ZA7jQ2JjEjFggqJa4+pWGJXQLIbeasRExya3YBmIvPsipm532fjNh8wqM4MBlR1oPnIC3S8M4feAGMCU0l2H0tUjnouLPuGbv2/nfK+o/KI64Nu4GuYKgIGYw2vZdOOFr7UQ+Sou9BS7dyVk8VDXuHsx4jnXSAghnp61pXnyMFUVW3sHVO49VdxirEt6CqqFSlLGSWVbSF7FDxaU6zKG6aM64XTmB/q1+56DKRuxm+XRJYV4CbwkySfoLyxkwe6+TGhkg6pYUb/f99jZuxJ/ZA7LAh5t9orn6rWbaJRCh44yFTwxJZTM+9ZUzMyTe0kNMVz+50pe38p/okXsZEzHlhwbMY0pfZsxfuMR+p86TSjOuFqEsubjjkxZfpr7BSCH05XuSq8GtknzMfShrP71T64XgHoLkX80IjaOodfG/K6HEEI8C41791LW4VBxL1sWMy4R84RSaQzcSekk0FWknq8jvy4MyzZ5VR3KUFq5TODtp+kiVSneZRpLJjXDKWYnnw5Ll3gKIbJV8BccSqHdZPXcNdzQAygYlanOa/bR7Fn+VyaJSwJn9hzklh5ApVAtX7wzH6sG6CjuVgQVMEQfYce+B5kf9gKM6dcVLk+d0jeY0b0mXlXeoPfwL/lfjybUa9KTr5YWjMQT47K8PWogr1soYNDz79/jmLwzy+UGhBBCCPESibx4kevJ8ZltbT9qmD9NaY2wC/8QpgcUC+r06o13duVVd96cOIa2RZ+ykibVeWfoGzjrFPQX97P7WUZnZRI+Kooud1fIfQFiVCFSvDzJJxC9ex5/nI1PneStRWxh+YZbmbZ4xe39nT8CEjAAOtdmdKqfxT5Pqhs1qrqhouf6X3NYnW7J70R9yr8VLK2ssn4zFSX12fKff/+VTJ9PqXTuHZm2aBiJP3/AtN0h3L8byqWLgdyIynlLnmrthncVDwo//ZrjmZ9P1T3dCm+mZfD/7jc+q2ePikbU6ekM+exvwnL6TDcxSTffTUUna5sLIYQQBUrC2a3sDk2KXXTOrenXuXim8ZVqpEt9XWeU9gc//vg29t5K2sfTpEI/xn9UO/PVbFUn/L74mQFxf7DgbMZYSUkfcymPF1aLVKFyseRrWlrx6NIhqoVl8tQhUB4L/B4SF68lxaqqLfaFHj+/uWsRUl7W6f5b4JjjGFWI5+zl+lnUX2TRgp1EaQB6QtctZVtkFscmnGbWN/O4GGcAXRFaD+qJRybJinm1nvh7G6G/upyvJ+0mbd0ijQe37yRvAqxS2suLlA1QLD39qO2W9tamPYQUzMzNM3nTTTEzTX1KZVpdE0vL1H2ojIwfqajqztuTxtPW3ZYS1RtRy8sdV0d7rM11Of6AVedWTNm8m3V/b2f3sqH4mD65zJOY2Vphmno7Rhhl2btsSenGg5j2999816EUpsQRsnUCb/WcyIGn6K7V2dqm/QFQrbG1lexTCCGEKFBiDzD3t0NEaoBqQ71PfuTjWg4Z4xlrb3q/WSc1tipWvgKpG+FF72TOwrNJ8ZliTqX+c1n542CaV3DAVAV0lrhV8+fTeauY2eo6U8etIeNWoioWlpboks9taZVJ50RcHAlaUleHzqM13evZpSXCDt50GdGD14ySypvb2CZNAU1tEY/n0qWQ5H1GK9NtYBMcU2/OlOIN3+e7t7x4qCXVxd6tBLaPBXMqpubGyQtnGmFk9GjsmPMYVYjn7aWZ85lEI3zNXFYPa0SPIoGsWnaQuGyOvr9vHANGFGLutx0oVf1//Dz6Gu98vZ5ryasTmZfpyITJvXH/dyNfvPMFG29nTIQenjjEqdjW1LPQ4dJxFD/fXcJRfXneqBnJD+/sSj7KGA/PUsl7a6o4lvbATj3KrfSnsipP2eQHgaJzpaS7Di6kb4Wz5DWfsqkPQtcyZbHkStreV0aulHQzQ9EV440RM3hjRMo3DGj6BOJiY4mJieLuv8Gc2rmCWTNXcfaRpM68TjtaupmgKGBbpT3Nyv/MyVPPsESczo1mfpXSfsCMKtP+3Y6Ebg8lVjXDwsoaR9eSlCpfmZp16uBTwgYjEog4t55FM6YwY82FpD88OWZDlaZ1SX2eKpa83rQRLhvWcrMgDDcWQgghBKARNHcEX1VfzKQWbhjZVGXI4s3UWfsXW07dQO9QllotfDG/fpU4Q2XMFR0uHaazv9ppNv88nPcXBnB2+sdMqL6YL+oVRqdaUa7dp8xu9wn6uFgSdOaYGoEWvptv+37EysfmZlniXbl06j6gbhUr46AGZojbtPBdbD0eS62aFihGpegxaz1ldxwl3KI0VSpbcHjKAlbX/oYuxXSY1R3Mz1Nqoi8RzVsdPwcSOLV8Ocd7fUo1SyPcu85kk9dO9gcl4lS2CpVsjzH6vV8wWzEWP52CVcNR/LXcj3W/jWXC+uSkVXXBy9M5qY6KDe4lnVAJyTDSL2cxqhDPn2JtbZ26jvWgQYMYOXIkvr6+BAUF5We9noGOckPX8FfDdbTqMJ1LT0w8VOy9/Rk2fDCd67pjHH6GA8cvE2NZCh8va65unMmEyYs4lulEckuqfrCQ+R9Uw06ngCGBW8cWMHLIaNZdt6dBv8G0rVWdhn4VKZzSKqVFc+XQNvbs+YtPfjhA9bc/pX/Xlrzh5ZCcXBqI+/c4W7esZf7k2Rwp1o2vh/SkZZO0cxgSIzi3bQN//DKGuYejAJXCtQYxfvxgmpaxJvsRGgZiLsymT6dR7LmXdk9q6T4s/vsb6tkqxAcvoE/Lz9iRVa9xdu+mW1u+HN2T2hUrU97FMvO6GAzoE2J4EBnJvbu3CA08y4kTxzi8dzu7T4fzhC25HrleG774pjvVPLyoWNIe4/TXM+h5cOMCZy4Gs+3Hocw4nPD0N/ScVa5cmQ0bNvD5558zd+7c/K6OEOIVt2jRIry8vPDx8cnvqohXjbEbjYZ8xefvNMHD1ih5GKyBxLvnWDVhOGPvD2TPjw2IOLqFtWtW8+eaHVy8m67R3MKDNh9+zYie9ShhmTYNyBB3g4NLfmD894s5lr5TwbgyXUZ0x7dybRrWKom1mlzCEMP1Y7vYeyaYE6t/YuGRpODIxKMLk38dTfsylqgKGLRoru9dzKRR37Hygp6aX6xl0YBymCkGEm8fYvr77zJh563ki+ko3moUM8b1wNsh6d4MWjTXdv3G159OYXNUZxYe/5ryF3ayfv1GNm3axsGge+h1Fej0WV9a1GqAX2UXTFKqGBvK0e27OLbtd75depqkaCebGPXaix8PiZfD1KlT8ff3x9XVNfW1lzD5BNXOi+rFb3L4dMRTLc9tUtiDyhVK4myjEh1+hfOnAgjPrusUAB0O5WtTo7QFUSFnOHr6Rhar5uYtc48OfD2mOVe+/46DqitFXZxwKGSLraU5piYmGBmbYmnnRIkK1anp7cj5cY1oNyM44zncauDnbUHwvl0E3JXuwvwgyacQ4kUiyafIdyaOlH+tEqUKmxF/5ypnT5zjZiyozuWpZHyNU9efsBauRVG8fDwpYa/j3vV/uPjPNSJicynG0dlRopIPnkVUIi4e41jw/bS4U7WlTI1alLO5x4UDhwnOZDiXaulG5eqVKKre4p+TpwmKSA46dS54lHzIpaCn22Ymkwq+EDGqeHVllny+ZMNuk2j3znHw3tOXi78dyNHdgU9ZSk9EwB7WBzz99XKL9WuDmf3b20SNbcOnB0PRCOBElkeb4vXRKuZ7lAIyJp+xIYdYH5LHlRVCCCGEyKn4WwQc3M6jYZYWFsCpnJSPucG5/Tc4lwdVQ3+Pqyd3cvVkJt/T7hN0YCPZdeVo0SGc3BHCY8X1NwnMlT6g/I9RhXjUS5l8vkrUwi0YO3M4tRIX031NaA5ayBIIu3mLf7nxHGonhBBCCCGEEElkuasCTcW+aTdaFtGhWLlSwvHJH6fq6Mf/OmgsXyHNYEIIIYQQQojnR5LPAk3j4d17RBtAtWnAlwt/ZkiLijg+tk2Kik3xarR5bzIrVn5A4oxPWXhF5nQKIYQQQgghnh8ZdlvARW+cxFcrKjPRvwyWZdvwya+t+TjuPmGhYdyNTkA1tcTWqQjONgb+3TefMX0783fgEybnCyGEEEIIIUQuk+SzoNOuseqDFpxZ34u+b7agTuVSuDraUqSkLc4JUYRfOsvRv5axafkS1p68hSyuLYQQQgghhMgPkny+FKIJ2jKDT7fMSPqvzgIbCz0PouKecYluIYQQQgghhMgdkny+jPQxREbldyWEEEIIIYQQIo0sOCSEEEIIIYQQIs9l6Pm8c+cOly9fpmjRoiiKkl91EuKV5ezszNWrVzE1NcXDwyO/qyOEeMU9ePCAGzduyPNICCHEU4uLiyMwMDDDa4q1tbUh/QvTp0+nbdu2z7ViQgghhBBCCCFeLk2aNOH8+fOp/8+QfNaqVYu+ffsSEBBAdHR0vlRQiFeZjY0N1atX5+LFi4SEhOR3dYQQr7gqVapgZWXFnj178rsqQgghCpgKFSoQGRnJyJEjU1/LkHwOGjSIkSNH4uvrS1BQUL5UUohXWeXKldmwYQOff/45c+fOze/qCCFecYsWLcLLywsfH5/8rooQQogCZurUqfj7++Pq6pr6miw4JIQQQgghhBAiz0ny+TypFji6OmIh77oQQgghxLNTLbG1zuvASsXUtigl3IvhYP6CBXEmNtiY53clhMi5grXPp+pI7e7dqeWky/IQfdh+Fi4+wG3t8e9ZeHekX2P3x2/aEMv5NTPZEKTP1epmoCtL3wXL+crXnnsHxvNm9xmcjc+7y+UvFYca3ehZ14WsPykDBn080ZH3uHsnjCvnjnMyMIJs3xJdGZoPaEMF82dYidkQy4W/Z7I+MA8/ayGEEELkGdWiKJXqNqRJk6Y0aVyNBzOa4D8rhExCv2e8kAPVew9ncJtKFHV2x8PNFp0WxdX9Sxg3Yhzrribk9hVzUilsir9GHV9fGvj54VvLkV2D6jFix0sbVIqXTMFKPrVIgo4cxbXDED4ZUAcXo5QkRCPy+HzG/riOc5cDiczi6fPw2gn2HtNTo+NQPmhfDgtFI/riKiZPnMfZMEPmhXKJWtSPlnULo1PAoXobGrvP4uw/L2sCpBEVfIzDhV6ndtu+9GtZDqvkhkKD9pBbQQFcizRgYmGLUzE3nKyNUdGIi/iH/RuW8dv0Bey4Fvv4aQ1hnN1/FKMqfrw58G3quRqT9BNgIO52MBevR6JP/zEqKqpqjIWdE0VdHbDUKWCIZPXFuawPzOT8QgghhHiBqRRr8RljBrWkeiU3bI0UIJFDeXKporT5fgXfvbaHAe1asT3Cmpqf/cGCQZVxr9eP7744y753VnIvL66dFcsaDBg/mKYVKlC5vAvmCqC/iWyOKAqSgpV8Ekd4wF6WjzvBNfUvlrxbAVMFQCNo81wWb76UbauXdjeYYzuDOXHOFt/W46gTf5jv3/2AWc8hCdRu7GL9gQiq1rUj8ug6dlx9WRPPJPG3Ati/IYD9Wy9iXuFP3i2tAwzE7f2Gpt0XEJ76QVlQrFpzur/3Ae80Lo9fzy/wbdeRhf97m5HrQzN+nloUISd3E3JyN7siXNj/cxvsVUB/g2WDG/PJnqxb/YwL+9Dly2mM6uCCsXGe3bYQQggh8ozG9fVj6L1+PB5D17B1hE8eBbIqzh1GMbaDKyE/LWZXhAbc5+CEgXxdeiXfNrXn36uhPPdm7OhDzBx6iJmqI11+2813b9hI4ikKnBds4HpORXNo2kT+vJGSwOnwrN8A1xzeja5EcYqoem6umcHCXEw8Tcp3483aJpl/Ux/A7DdrUbVmVWr4/8SpuFy77ItNH8L1m2kpZPydCO5nyChjuH5kJRP6dOT9FdfQGxRUay96TPqWN92y/kCjr14hLPU8D4mOyb7nOuH2SRZ+Ooo/b6rojORRLYQQQhRceq5fDSUurwatqWXo2qcx9qqB8Js3SL2M/gqL+9WnZp1atBx9kHwL5bR7BF0Kz9Ew42xjUyHyQQFNPoHIbUyffYSknEPBrJo/nctnPcMwjTFeTRribghk+e87iMqt+ljX5KOpX9CoSDZ10KIJvx5OdK5PSniBabE8zMlfBy2Mjd/9xuH4pGNV2/r07FI+yzmjhphYHj5tXaIPsP3AfXTGBazDXwghhBAZaVruz/FMphapT11PIxQMJCYmPDIKK5obV8OIyaNr54xGYoKeJ0ZXOYlNhXjOCm7yiUbwsjlsTF5ZSDGuQJfe9bF8UjHTanRqXZrEEytZcSaXej1VF1qNncqAiuYy/CEThhy2TGo3T3EmNPkRr+jw8PbGKldrEs3WUZ35cuODXD2rEEIIIV4eRu4lcdMV8IhOYlPxgirAySdwbzNzlwWRaADQUaR1b9o4Z39LNo260qpYLPtW/MnlXGkys8R70I9MaO+GjOZ8VgkkJKb8W0E1NsEkt35CVRUViL91iat3X6WuZyGEEEI8DcXWBusCHdNJbCpeXAV8/GECJ3//nYO9R1HXUkG19qVX93Ism3KBTPs0VSdadG5CoXvbWb725mPDNVT7yrTu0ZmWvlUpV8wRG6M47oVd5sz+bfy15A+2Bz8yyMK4OC0+m8b4vlWxUwF0VOj6LVPq6AEDD47M4Zsl51LrorMvj1+bDrRr6c6pzwfy66PzTU0KU8G3JW3btKLS1Ym8NfkIejtvOr33Hm828cbNWs+tgN0snTqJ+UcishluomLr2Yo+ff1pUr0szqYx3Ai6yIXzZzi8Yx2bDl4hKovCOve2jJr4PnWsAln29XCmH76f5VVynWVpSrmkZJt6Iq5de2R+6H9lQ4cZS6k8pw1fH8qPZdGFEEII8fRU7Cu3pXevDjR+3QMXO5Woa6fYuuRn5uRotR9LyrzxJt2a1qCiZzlKORvzIDSAw1uWMnvOBgKj0x1qXIW3RvfA20RB51YVKwVAR7kOo5nyekrskEjAsq+ZdTAtHrQs05huPTrQ6PWS2JmYYWtjROT1M+xbPZcZi4+k2/rPHO8uH9Ktmj0manJGmBjAsq9nkXQ6HeX9P+edmraoqQmjxq3d05nwV3DOhxg/ZWwqxPNWsHs+AS1kBfM2hCf9EinGeHV9m/pZjL1Vi7fDv54lNzcsY2uGtbGNKd5qDH/vXsPY5sbsmzqEDo3q06TbJ8w7a0vDAaNYsHUnC4fVwiHdO6Y6FMP+1lYWb76a/EtsICYsmODgpK8r4dEY1MJ4txvMuHmbOHZsK/PHvUf7Gu7YpltxVXXy4/0fl7Pn5DE2zxvH4A41KGVvit3rA5i9cRWT+9SlTFEXnF1KUKlBT0YtnM8wH9Ms3hFzPHvOZMPaKbQz2cw33ZvSoO0HzAsuRqt3P+OHZXs5c/4Eh/bvZe/evexZPSJD2cbDRtGrTjk8vFsy/Mu3nvrz+O90lO7UlXrJTY2GxGusW3Uw+30/c8ridWp45+4AXiGEEELkIdWB2h8sYsvq8bQy2cuUga1p0KA9Q38+QZEB81k1ohrm2RavwXvzt7HiIx/izm9iwbQJfDd/HzElG9L9k1/ZsH4qHUulC8a0B4Qlx2/BN9Oy0ri7IalxXXBwMP9GpqRtFlR8ezZbN89hoPsppvRtQ/Omfvi2/4ztugb0/3YFa6e1p1hq3BjLqaXjmLDkBiVbdaZLly508a9P6dS1gPQELB/NlxMXcMysFp06d6FLl8609HHMZs/0zO47B7HpU5xPiNxWwHs+ASLZOmcZge0GU95IQVekNW+3ncKuxY/2bOqo4O9PVeNgZi3dm26iuIpL6+9Y9lMHXC7Npnu3r9mX0tkXuJv5I45yMnQhf3xcA7+PFrDIsiedxx4kEtBu7mfR9IMU7evLwObu6NC4smMWP61M1xynK45pzDk2LzOiuI8nfo6PP0K027v56f29rOoxh41jG2KrKlhWeZ/5tRPYNbYNn2w9S3icAzWG/MLsj2pTyMqbfkPasKDf8nQtakms633GzNHNKRa2mLc+/Z1D0QAnWflVf4yKbmRyMweMrWyJ3DyXlefjMUQHpCutJ+ZhfOpDKSH2OU2nV22o4P8VPw6vmdTSaIjmwtwv+OHQsy5irmLqVIlWH35K+yIKi3OjrkIIIYTIY+ZUGTKH3/7nw52l/egyfHNqvHN683SGHLnAuDXz6JHVkFLzivSfMZthVvPp1HYyp1LCiY3r2RRoxNaZnXAp04lvf7xMQLsfOJcA6APZOCswqXgHH4a098QIjX/3L2D6nMdHy5lW+x8/ftWM4uo1fvtlDkfCk3pHE27uYerEZbRZ1o+SbT5jyIqNjNiZUgGNuyeWseHMEKrXzGzfN42YsJMsX7GPD1sXx/k/DJnNUWwqRD4q8D2fAAlnFrJgX3JLjmpN/V7deWzhW9MadO1QDsOZP1l+Mm3operUntFj2uOm3mfLzz9y4LFRpjGc+vlTZpx8iEGxoGL/yQyv+8RljdLor3F48w52rp/F8kMxmbc2aXr0WgLX9x3mkgagYGsTyvRePZnw91nCYwEtgkMzJrHyih5Qsapej6qPdn6qbnQe2o1SxhB//ijH0g8n0W7w19y1hOoBxRhHfQDzf/mFmb/vTHdQPPsmDWbUwvVsWDmNYSMW5Pw+c0ixcKR02Qp4v14Lv5Zd6D9iMgu3HWDDd10pb6mQEH6cJSO74D9qBxE5HWOiutNnyRkCAgIyfP0TFEzg8fVM6+GFpcx5EEIIIQoE09eGMuH917GK2s60iVsfa2jX7u5ixuITWQwdVfHoPZoPayay7ocZaYlnUknubp3Pn8F6QMGi0lv0bfAUMV0qHaV961HKWAHVHsfCGftyEgMvcU0DdE5UqVoqY8+lFkPMw+z7Hg0x0cRK96R4Sb0EPZ+Adp0/561jaN0uuOgUjCt05W3fX/h4e1r2ZdOoK61cH3Jw5p8EpT7EdHj26s8bDiqGuOPs3Hk38zH1+ossmr+TgVWaYWPkjv+A9vy0fyE3n2o+op4HDx5iwDrrVccexpK80wgJAXvYFvLIYzX+IhevJGIopUO1dsbFWoXYdJWwqkkdHzMUICEm+rH9p+KObWdfRE+6OqnYl/agiLqZ4Ecf6BGHmD3iELOf5tZyTMH6jbFseSPjq4bE6+ydP4u1O7exaddZbj3tWFvtDgfm/8iWG+lvRkFnbIGdqxd+bVrg7fCsdRdCCCFEnlMdaDWwJ56mEL19LZvCMwu2NMJDw3hoIHluZjqmdejT+3XMH+7g8EkNc/NHB+de5sy5SDQPe1RdYWr7emOyZf9TTvPRE3JwH4HRFSgTuZddpzNGXFpCQvJimAo29rboQOZYCpHs5Ug+gaht81h6sSNDKxih6IrQ+u32fL9zITc00hYaitrF8r9vpCWYakka+ZXHSAF9RCjXslqFB7i7cztHHzalobmCZfWG1LNdyPK7T1vLJzdjZX9EPA+i4wFTUIwxeaTnU7W1x9ZYAQyYFXLAWoW49LcUd4ELl/TgpIKpOWbPvTfQQOT6D/AdtpaEyh+y9Pd38TJXUHROFFHPsmHb2Zz3dmYQyYWNC5h7LPPFhH5YMpSVazo/U82FEEIIkfdU+6a0a2CHip7LZ89kvR+7wZBpzGRcyY+6RXQousZMOh7EpOyvhkvZctir+wl7yvgjau8omlaZhkX8PaLShx+qHeXqVcFVBVCwsLTIdXcaAAAgAElEQVSSrU6ESOelST7Rn2XR/D30+dYPa0XBqn5P3vRcwuRzetTi7fGvZ8mt1cvYmD67MS2PZ6nkwRCaPttWKe3+eQKuazT00KGYl6RMCWO4+2KtnKrdCeN2rAGMFXTlvPExg63pp21q94iKNgAGHoZe5d/8aIaLj+F+dCxxByYyZEJl/vyyDnaqCWV6TGFqQCf6zA8kt9/VhH9Ws+FMB5xz+bxCvEjMPfxoUSWrhSkMxAbv4e+jN59zrYQQ4ukYV62Bt5kCaNy5fespewxV7Ct64aYDfeAMOjQfz4kndGkaDAa0/7iyvj76XmpybOzoTcvuvehYryj3z0amJcaKpJ5CpPfyJJ9ohK6ay9r369OtqA7FyJMubzdgxkc7Kdm5E1WNrzJ36S7ST4PEwg7b5O4/xdIq+z2d9P9y85bG/9u787CoyvaB499zhn1YBQVEFBUUREHNfUMyC/cVd81eK3+Rmq1q6VuaWWaZr7tW4oJaarmU+27u5b4EgeaGgrsiKsuc+f0xAyKCghug9+e6uq4Y55x55szMOfd9nue5H/x0gB6nwrgAVPIWlq5NpFkHD3TFXyL8FTc2LL54p6dX54tPKRW0i2xYupGnuIhKDlKJ+XEgn1Rdwvg2XuhUN0KHTebjY+F8vvVq3kuK54V2hnWRM/E5K4NexLNKxaVRBN+OqEdOJSxAI3H+q5J8CiEKORWnkp44miuSGI35nfio4ObmjAIoTi44aQYMT/jSb1s6lF4D+tGjtoGN077hw667SbDpwuxeLQl4si8tRJH0DCWfQPImIn8+SseBVbBUdHi27E27iSn4t6sIR8ez4K9st79u3+JmuhGsFFQHL7zdVIjPJe3RbpKcMfvbeJ0r1wpjInOFVcPfZ7rvFPoGudLsk9F0/7s/c6JvAtaU7zKALn6pxMwdzPDfLj7eBO9haGdZ8vG7VPWfzev+Nii2AfT53zfEtO/LTycf5/E1EPv7TGIf4x6FKGxS4g+wZXNaLid1jSsxl55yi4QQIv8c9LbmYaoqTi6uqOTvhrSlznQWVIuVxbeEyvrTTyrasaNi55FMHtGREof+xxttv2Nnxug6myf0kkI8A56t5BMDf0fNZkuf0TRxVFHsG/HGd864eKXy54wFRGfPZ1JPcipBg3I60PlSKcAa4nMpRa3aYGvuJTXe/Jd/ThTG5BO0S5sY2aEFewaNZ2yfML5c9SdvHjhIPO542cWz7MMOjF14kGsFnnmaXdvGl/2/pfIvQ6jrqKLzCGPElA843nk0u3Od6CGEuJvGpVUj6bWqoNshhBCPQuPq1SRzsqniU6ECNhwj7wu/Gbl8xTyuS1eZhiHF+T4q8b7Jq+rqS3nlX2Iv5ieuUyndeTzzx4RR4uYmhgzMkngKIe7rmVhqJSstYSmRy86a5ggoFvjWqo5L8h8sXHLm3pNP2iH+2GmeT6AWo25IcC5D1gBdabw9VcBI8p8b2XYjl+cVgrH9Ojd/6pc/y5TudQis9jK9P/ov7/VoSsOmPfn050KUeJqlHJ3KwKErSTAYAQV9UAQTRmddmFkIIYQQz4PrMTGcMQVmONULpXb2YrX3pZH49z8kGgDFjvq9ehN8v+1VH7p9PZI2JfPZSKtavD7gZdx1CoaY7Ww5+wiBVQ5ho6Locpm//7CvUfCxqRAZnsHwPpktM3/icMaaJWhcWruQlRdyOjGksHXOT0SnGQEdXmEdaZTLck+qd21qeKtgOMOSGUvJWvk73ZDxh4Le3j7Xg6pk/viVh6589qAtdT4dGD93IOmT3mX8ltNcuxLPsZhYzibl9Y6eioN3MNX83LB6yDbevTtLLC3utFnRqTkcH40ziz/i/dmxpqVmFAtKtRrFxP5Vsctlt4qFVZZuewXdYz1LCyGEEKIgpB1ex5Z4U8yic2/FG51K5xhXqRa6zMd1FneCgNS969l6wbSOp1WlN/jyg3q45LiDEoQOm0TflJ+YffjuGElRsuSEyr0bq57VCCplfs0caoaodnpslYx9ZY/bbpOSqpnXpnfCpdi9+7f18iTjYZ3u4SLGvMamQjxtz+R30RAzl9mbzMM2DPEs/3k913N5btrB6QyfGUOKEXSerYjo6ZfD3SZbavYMJ9jCwMmFnzFmS9ayRRo3Ll42LwasUj4wkIwVUPQBodTzzjjEKnYZ8xgUG2xtczj01jZYZ56scmqtFXp9RkpogWX2hqo+vDbmS9r4OFGmVhPqBvrgVdwFB1tdHj9oFfeWY1mzZTm/bdjCggFV87TV/TlnKc6kYO3glHNCqV1l0+fv8N2f102fm+pIjfcmMbK5e84XHSfHOyd7xREn52fyqyyEEEI8X27tIPLHXVzXANWRhoMn8GFd17tjAYdgenerb07wFEr5V8Ip49+SNzEj6rApLlNsqfJmJL9M6EezSq5Yq4BOj3fNcIbMXMy0lmcYN2oZdy8lqmKn16Mz71tvn0OvREoKaZqpk0Pn14ruDZ3vJMKuwXQe1IPqFqbtbR2dTFNAM++Sp3Ls2GlTrKMLoutbTSme+easKf3iO3z7aiC3TcEQLt5lcLonxFGxtrU0x5QWWFhkDxrzGpsK8fQ9m98+7TzLIpcSbzCSHruYBTtT7vPka2wb1ZdBvx7nNvbUem8SnzcvnaXXzxbfDqP5prcP51YN4/Vhq7iYrRP19r5dHLhl6j316DCCSR9HEDFoPHNHNcE6Y6KCpR8B5WxMJwq1OOX9nO85+Pb+FfA2rwul8yqLT/bkUl+dqhV05pONF74Vsp0QLbwo622DoivFy4OmsGjNNnbvP0x03ElOnvqXuJijHNy3i80r5jP+ow5UvudsZkv9ti3wtlJQVCeqtQu7z3HLG2u/VwiteOeNWFR5iWZlchncnHKQie98xupEA6YOUB/Cx0by6cvedw+HVp2oEdbQvIYWoLpQ++UQ3J7Nb7MQQgjxHNGIixzEpytPk24E1bEG/eetYcmEYfR/vQ8Rg0Yz5/dphKaeJMUIoMOj/WS271jG/3r4A2kcnvwho/+4iMEIqPZUbDuEH9YeIDYulmPHY9ix5DveqnKScX0/4Jcz2UfG6QkOKm+O0VS8Kwfhmi2+0M5vZt3eW+ZYpRw9pq9g4bTxTJmznG0bxlF3/2yWxpt6X20a9GPS2O+YtWC4ees0DixcyN5kIygW+HSZxurlM5k44QcWrN7O6lGBbPhsKgdN88ewf3EESxZOZUhz7ztxo+pBYID55rziiE/ZEvfElHmKTYUoADpra+vPMv6oWbMmjRo1YubMmVy+fLkg2/XI0s6cxq5Je2yXDmXC7is5LkScyXCZo6uXsPmMFaUC69Gy53/o0rQmNeqF0aX/YN4OMbDhmwH0G7WKUzmsF2VMiuWERR2a1S6JrWUxfGvWJcBiF2MGjGCd1pA3B71D/w/fp1OgPaoCKNb41A+jXqUKeKbHsOuCP699NpwRES3w0asogFqiOk1DAinrcJn9+xKp0O1zvvhiAG18zftQ9VRsGEqQjyXndu0nPhUwxHPwSCplqlWlXDFr0/MAUFBUHZZWNtjpHSnmUYZKdcLo8KID+5dt4dTtjKNjINWtHh0al8GGVE4sn0zk+hMPcfRVPJoPZdLoz/jk/TZUsFMzh68oduVo0rUrzRvXJ5AjbDxy+a7Pxnjtb7bFluCVVkEU0yko1h5Ua92Nzi/XwikxkYCBXzF8yMf0a1KKOzf6VJwrt6R7x5dpVK8ct/ds5Z+k/JZnLxzc3d3p0aMHGzZsYP/+/QXdHCHEc65Dhw6UKFGCqVOnFnRTxPPEeIUjq1ZzSPMiMLAsrnpHSgbUoEFoY+pV0LF3wjsM2uNH77CSnNu9nKgpY/j0v18RtfuCaXvDBfauXM8xKx8qB3jjZKWioKBaWKJLO8fOqC/oFzGcZceydE5YBtH54/d4u99g+oWVxkZRAAVb3xBaNgomoHJlSiQd4ODZFDBe4dC+83jXb4B/MStUK2e8fMugP7OaMf0HMHbdIa55htHmBTcsLZ3x9rjBiuHD2HbClPUZL+1l+7/FqFGvMu52lti7l8e/YkmMR6MY3HcYSxICaN+3PjaH17Jg5jSmTv2en3edR9NVouPQwXwwaDC9axYzxUGKDq/azWhYuQJ+donsOGIqsHS/2HRNQuEsmimePWFhYQQGBjJ27NjMxxQHB4fMKD0iIoJPPvmEkJAQ4uLiCqSRj4+Kc2AtSifs5mC+KpBZ4eYXRKWy7jiqyZw/cZQD0ee5X9+piQ5X/3rULm9H0ulD/HXwLLnUzX2ibP3a89nIZpz47lt2ql6U9CiBazEnnPS2WFtZYWFpjd65BGUq1aJOcHGOjmpC2ynHs+4B79qhBNsdZ9vmaK4UsuJEz7qgoCBWrlzJ0KFDiYyMLOjmCCGec3PnziUwMJCqVR/HNAwhHoJVcfyrV6Gcmw2pl09yeN8REm6B6u5PFctTHDjzgG48u5IEVg2gjIuOq2f+IeafU1y69ZiCG50zZapUJcBT5VLMHvYcv3anuKXqhG/tulR0vMrfO3Zz/Pq9r6nqvQmqVYWS6gX+2X+QuEvmaFPngV/Z2xyLe9R1zwtHbCqeX+PGjSM8PBwvL6/Mx56xpVay0rh6ZCdX871dKhdj/2JLvheFNHAp+g9WROf7BR8bh+r9+OHH10j6ojVDdsajEc2+XJ9tTeAHi5nlVw7Imnze4vSuFZx+4q0VQgghhHiA1AtE79xA9vBKS4zmQF62v3mWI9vPcuQJNA3DVU7u38TJnAYqadeI27GK+3XlaMmn2b/xNPdsbkgg9rH0ARV8bCpEds9w8vl8Ud2a88W0j6ibPo/uy+LzcKcsjcSEC5zj7FNonRBCCCGEEOJ5JyVangkqLq90pYWnDsXeizLFH/yxqsVDea+9xsJFcjtMCCGEEEII8eRJ8vlM0Lh95SrJRlAdG/PfqEn0b16Z4tbZn6fiWLomrd/+hkW/vEv6lCFEnZBJnUIIIYQQQognT4bdPiOSV43h00VBfB3ui75CawZ/34oPU66RGJ/IleQ0VGs9TiU8cXc0cm7bLEb26cRvsVJrWwghhBBCCPF0SPL5rNBOsfjd5hxa0Ys+3ZpTP6gcXsWd8CzrhHtaEuePHeavJQtYvXA+v++/QFpBt1cIIYQQQgjxXJHk85mSTNzaKQxZO8X0p84ORzsDN5JSHrFUtxBCCCGEEEI8Gkk+n2WGm1xPKuhGCCGEEEIIIYQUHBJCCCGEEEII8RTc1fOZmppKcnIyNjY22NvbF1SbhHhu2djYkJycjE6nk9+gEKLApaWlcevWLTkfCSGEyDeDwUBycvJdjykODg7GrA9MnjyZNm3aPNWGCSGEEEIIIYR4tjRt2pSjR49m/n1Xz2dQUBAGg4GoqChu37791BsnxPPO1taW8uXLc+7cOS5dulTQzRFCPOd8fHywsbEhOjq6oJsihBCiiClVqhQvv/zyXcnnXT2fERERfPLJJ4SEhBAXF1cgjRTieRYUFMTKlSsZOnQokZGRBd0cIcRzbu7cuQQGBlK1atWCbooQQogiZty4cYSHh+Pl5ZX5mBQcEkIIIYQQQgjxxEny+ZipdsXxKm4nB7YAqHonHOTACyGEEM8PVY/TE7/4q1g7laSMTylcbQtZoGHliKNtQTdCiLwrfOt8qsWp1707dUvocn2KIXE7UfN2cFG799/sgjvwxks+974x4y2OLpvGyjjDY21uVroKfZi98FNCXK6y48tudJ9ymNQn9mpFiF0Dhs7pwYmBEUSdzuFDe2gqdiWr0ODFpjR9pSkv1bzBlKbhTH+sryGEEEKIwkS1K0mVBi/StOkrNH2pJjemNCV8+mke+9VfdaVW74/o17oKJd198PN2QqclcXL7fEYNGsXyk2mP+xXz0igcS1enfkgIjUNDCalbnM0RDRm0USJOUTQUvuRTu07cn3/h1b4/g/vWx8NCyfgHru+dxRcTlnPk31iu53KGuX1qH1v3GKjdYQDvtquInaKRHLOYb76eyeFEY84bPRYqJUNb0MBNh4IrtVq/hM/0w/zz5HLdIkLFtVlvutZqyvkewfz85T4ey6laLUXzj0cS0aIWVbydsFCA9F2PY89CCCGEKJRUSjX/mJERLahVxRsn08WfJ3L1V0vS+rtFfFv9D/q2bcmGSw7U+fgnZkcE4dPwDb4ddphtr//C1Sfx2rnR16bvl/14pVIlgvw9sFUAQwLKAzcUovAoZGMHAFI4H72VhaP+Q8T3f5OSmS9qxK2JZN6aHeyLvZhrj6J25Th7Ni1h6ohZ7E0HY/Juvvu/d5m+ai+nk55kj5jG2c0r2HHJgNFwhb+Wb+Tkc594AmppOnYPxUm1oHx4b5o4Pqb9amdYMbI3LRu04dsD6Y9pp0IIIYQovDTOrBhJ75YNaPPtAZ7c1V/Fvf0Ivmjvxenf57H5kgZcY+fot/hsdQIGYyrnTsZz64m9fi6SdzFtQE/avxzGJ2uv8yS7VIR4Ugph8pkhmV3jv+bXsxkZnI6ARo3xymOLdWVK46kaSFg2hajH1v1ohX/XbtSzyvlfDdE/0K1uDerUqE34xAOkPKZXLcosq3ajywvWKICuRDN6tSv1eL90hjOcjE+RE7AQQgjx3DBw5mR8lg6Kx0z1pct/XsJFNXI+4eydGMNwgnlvNKJO/bq0+HxnwcV52lXijp3P0zBjK/+udMstcBWiABTi5BO4vp7JP/zJTSOAgk3NcDr55z4X9A5LApu+iI8xloVzNpL0mJrjUOcDxg1rgud9mqAln+fM+eTHP++gSHIgtEcHypNOuhFQ7KjfoxuV8/IR5oOmydEWQgghniua9sRiLdWzEQ0CLFAwkp6edvfraMmcPZnIzSf02nmjkZ5mePCNd4c6fDBuGE3uF7gK8ZQV7uQTjeMLZrDKXFlIsaxE596N0D9oM+uadGxVnvR9v7Do0OPp9VQ9WvLFuL5UtpWR9XmlureiRzMn9kwYxW8XNUDBomIneoU+8BMUQgghhCgQFj5l8dYV8XhP9aDlF+PoW9lW5oSKQqWQJ5/A1TVELogz9Zyhw7NVb1q737/Zjk260LLULbYt+pV/H8dtMX0wERNG087bQn7Aeabi27k7DYybmT9rFrMXn8AAoPOg5att8Sj83zwhhBBCPIcUJ0ccinTApyc4YgKj23ljUaTfh3gWFb5qt/dIY/+cOezsPYIGegXVIYRe3SuyYOzf5NinqZageaemFLu6gYW/J9wzJEN1CaJVj060CKlBxVLFcbRI4Wrivxzavp4l839iw/G7B1JYlm7Ox+O/pE8NZ1OmrqtEl6/GUt8AGG/w54zhzD9yZ16qi38ordu3pYXPAYa+9f091W6t3CoR0qINrVtW4eTXr/LNnwacgzvy9tvdaBrsjYPhAtFbfmbcmFn8eek+mbPqREDL/9AnvCm1KrhjffMscTF/c/TQbjYuX83OE0m5DkfR+bRhxNfvUN8+lgWffcTk3ddyf52HZV2L7p0qc3nFWJZfSOHWvJ858Opgqlsr2DfsQbeKPzH273z0SqsuBLXpTa/2L/GCnwfOahKnDqxj/qQZeZrwr/d9ia492tPkhbI4W9ng5GjB9TOH2LY0kinz/sxx2R4hhBBCFCQVl6A29O7Vnpde8MPDWSXp1AHWzZ/EjDxV+9Hj+3I3ur5Sm8oBFSnnbsmN+Gh2r/2ZH2asJDY5y1Mtq/Hq5z0ItlLQedfAXgHQUbH954x9IaNOfzrRCz5j+s47sWLe4wtbgju/T9eaLlip5owwPZoFn03HtDsd/uFDeb2OE2pmwqhxYctkRi85nvchxpalaf7xeL7sUwNnU+BKpS5fMdYUuHLjzxkMn38k5xhaiKegSPQ/aacXMXPledMPRbEksMtrNMpl5KZaui3hDfUkrFzAurvqX1tSuuVIftuyjC+aWbJtXH/aN2lE066DmXnYiRf7jmD2uk1EDayLa+ZRUXEt5cKFdfNYk1G61niTxOPHOX78OMePn+B8shHVLZi2/UYxc/Ue9qybxai321HbxwnLO62iROg7TFj4B/v3rGHmqH60r10OF2tnXuj7A6sWf8N/GvhS0sMdjzJVaNxzBFGzBlLVOpcDYhtAz2kr+X1sW6zWDKf7K41p8+5Mjpdqyf99/D8WbD3E0X272L51K1u3/sHSQXWybsxLA0fQq35F/IJb8NF/X32IT+TBnJv2pG2p4/w6dwvJgHZsAXO3mBJixTIwb8OnzVTXerw7dy1Lv2yJ1daxvNWqMY3bDWDSPk/6zlrMoJr3W13Zjsqv/cC6NTN4y+cAY/u0ptkroYS0+5gNusa8+dUifh/fjlJF4pcghBBCPCdUV+q9O5e1S7+kpdVWxr7VisaN2zFg0j48+85i8aCa3O/qr7rW5u1Z61n0QVVSjq5m9vjRfDtrGzfLvkj3wd+zcsU4OpS7E6mh3bgT3yXcyUpTrpw2x3ym/85dz0jb8htf3OLAz6MYPf8sZVt2onPnznQOb0T5zFpABqIXfs5/v57NHpu6dOzUmc6dO9GianHyM2NTdS2Fy4V1zFtz0pxgGrmZeKf9J84nS5FGUaCKSMh9nXUzFhBrGnuLzrMVr7XxyKHxOiqFh1PD8jhLf96aZTK4ikerb1kwqTeBF2bSt+sgZm2N5VJyMhdjtzBrUCe6f7ObJEsvQj+YzdwhdTCtCKKRsH0ukyfPYcdZ8z0n7QQbp09k4sSJTJw0g/UnNBQ7a24eWcOClYdzWX9U4+KWibzTrTtfbbluunul6Kn2ziy+CYnhi9Y1qFypMv7VO/D19stoqNgHv0H/1m45vEcHGn48jc+bleLir58xZM4uTl9NImH/L3z65nDWXNJQFEvsna7z14IooqKiWLQrPsv2Bm7eTs088aTdegJT5tVStO3RFP3en/jpgPluoXae36JWcN409paSrXvRskQevn621eg/40feq5fCLwM6M3DaeqIvJHEt/iBrJven/cCNGNx0uQ6Htq75HhM+DaO0xRmWT53Bn+dN7UlL+INxXy/gpGaBd+uP6d/ofpcwIYQQQjw9tlTrP4Mf36tHyi8D6DxwGuujL5B0LZ6DaybTv/1ANhrcyHVapm1l3pzyAwOLL+LVNm/z9Y8LWb7qd34a/yE9PlpMokHB1rcjX02IIDAj/zTEsmr6JCZOnMj0jSfMa5JrnNs+m8kTzXHfxKn8dtRU4/bh4guNK/sWsPJQbovEaNxM3M/CRdu4+JAZopawnbmTJzNnx1lzb6nGiY3Tze2fxIz1J6QopihQRST5hLRDUczeZr5bozrQqFd37il8a12bLu0rYjz0Kwv3p2U+rJZox+cj2+GtXmPtpAnsuGeU6U0OTBrClP23MSp2VH7zGz5qkPeiOIZTu1mzcRMrpi9k182czxaawYCWdoZtu4+Zk08nHOMn06vnaH47fJ5bgHZpF1PG/MIJA6DaU6thDbJ3fqrenRjQtRyWpHL0rz1kHTGinV1C5O/xGADFsjiG6FlMnTqNOZtOZ3lWKtvG9GNE1ApW/jKegYNm5/l95pUuoAtd66Szef4vnMhyhkvePIdFx9IxAqpDY3p18X3A3Txrqg8YzTsv2JO0YTxfr7uY7YSpcWXzFObty23wiI7yIQ0pZ6mA6kJxt7tHmafHHuOUBuhKUK1GuXzdWRRCCCHEk2FdfQCj33kB+6QNjP963T1TY7Qrm5kyb18uQ0dV/Hp/zvt10ln+vykcuGt4rsaVdbP49bgBULCr8ip9Gj9MEcRHiC+0m9y8ff/M0ngzmVvSPSmeUUUm+UQ7w68zl5NoGnuLZaUuvBZy9wnDsUkXWnrdZufCX4nLPFHpCOj1Ji+7qhhT97Jp05Wc7/gYYpg7axNJRlAsfAjv2y7/RXEMN7jxgBPK7VsZvY5pRP+xntPZzpypMTGcSDcCKg7uHjhka4N9nfpUtVGANG4mZ19hKoU9G7ZxSQNUF8r7eeb4AWuXdvHDoDd4fcDXLD+emo83mBd21O/VEf+LK5i7IluymHaQ+fP/4rYRUKyo0vVV6tynw1F1bclbPQOwJpntv6/mfE4fnHae+MTbuQwhMXB65zZikzXSEray+eDdx0tLSzMXslJwdHGS5FMIIYQoaKorLd/qSYA1JG//ndU5X/w5H59IjiGXdX3+0/sFbG8fZPd+DVtb27v/s/iXQ0fMo9B0btQLCSb/q2BKfCHEwyo6ySeQtH4mP8eYes7QedLqtXaUzHgHGYWGkjaz8Lezd5IetSxNQv2xUEC7FM+ppNwHG1zZtIG/TJkR+lov0tDpIRr5wDtVD3hC6g2SzfmgYmmVredTxcnFCUsFwIZirg73fIApf//NMXNCa21r89Sr86quzejZwpPjv0TxR3L2f9U49cs8Nl41fQa6Um3o3dw1ly+hissrbWnsrILhXw4fyn21VqMx92OatHUEr1SrQpW6b/DTqSyfvepMxYbV8FIBFOz09lLJWAghhChgqssrtG3sjIqBfw8fyn2tdqMxx4jKskooDTx1KPqXGLM3jri47P8dZkpbF3PsoeJRoSIuDxENS3whxMMpAtVuszAcZu6sP/jPV6E4KAr2jXrSLWA+3xwxoJZuR3hDPReWLmBV1iqx1v4ElDPfc9IM963upV07SvQZjRf9dCi2ZfEtYwlX0u6zxdOmcTnxIreMYKnoqBhcFRvW3bXQsXY1iWQjYLxN/MlzT7mamUrpjt0IdUxk001/2nWqkMNzrEn89xZGFz2K6syLvTpTbvHkLD3VGSypUTsYGwXQLnPxwsO/E0Py1cyLl2XxYFp070WHhiW5dvj6nQuXIpcGUbTZ+oXSvFpuhSmM3Dr+B7/9lfCUWyWEEPljWaM2waaLP5cvXshnHKPiUjkQbx0YYqfQvtmX7HvAAC+j0Yj2kJMgJb4QIv+KVvKJRvziSH5/pxFdS+pQLALo/FpjpnywibKdOlLD8iSRP2++ax4kds442Zh++Ire/v7rNhnOkXBBAz8doKqDzVwAAA+/SURBVMepEC7ylLxlKWsTm9HBQ0fxl8J5xW0Di7NMhtD5+lBKBe3iBpZufAJLqNyPZTDdutTARmdBs4++pdkDN1CwqdaNnrV+5NOd2YYQq06U9HQ035k0cp/OzTyxLR1KrwH96FHbwMZp3/Bh190k2HRhdq+WBDzaroUoBFRcGkXw7Yh6WapsZ6WROP9VST6FEIWcilNJTxzNPZH3G9mUMwU3N2cUQHFywUkzYHjCd+ElvhAif4pY8gkkbyLy56N0HFgFS0WHZ8vetJuYgn+7inB0PAv+ynaL6/YtbqYbwUpBdfDC202F+FxucWk3Sc6Y4W28zpVrhXAVpCurGP7+dHyn9CXItRmfjO7O3/3nEH0TsC5PlwFd8EuNYe7g4fz2lBev1DfuSYdyF/n51Ua8v+6eMbd3WFZjyJolvF3BAkVXhna9wxi3eylX7mquA3pbc/KvOuHiqsLVh3k/dlTsPJLJIzpS4tD/eKPtd+zM6Bm3eYjdCVFIpcQfYMvmtFxO6hpXYi495RYJIUT+OehtzcNUVZxcXFG5mq/qrJY601lQLVYW3xIq608/qVhI4gshHkbRSz4x8HfUbLb0GU0TRxXFvhFvfOeMi1cqf85YQHT2fDH1JKcSNCinA50vlQKsIT6XlYlVG2zNvaTGm//yz4lCmHyicWnTSDq02MOg8WPpE/Ylq/58kwMH48HdC7v4ZXzYYSwLD157uqW0VQ/a9mqO26mfWLDlPoknQNoB5s37kz6f1sVWUSn2Ui/CS//G9KylcbWrXM2Yn6v6UKGCDRzL77IwKqU7j2f+mDBK3NzEkIFZLgxCPFM0Lq0aSa9VBd0OIYR4FBpXryaZ4xcVnwoVsOEYeb/6G7l8xTzqS1eZhiHF+T4q8b7xkOrqS3nlX2Iv5ifmk/hCiIdVpAoOZdASlhK57KxpHoBigW+t6rgk/8HCJWfuPcGkHeKPneY5A2ox6oYE5zIsDdCVxttTBYwk/7mRbTdyflrBD9/X4eZfn/Jnp9C9TiDVXu7NR/99jx5NG9K056f8/LQTT0Dn352eDW2JXrqA7J3P99I4/etc1pu7OhWbmnTvWT1btbnrxMScMX9uTtQLrX3fxaRzZFWL1we8jLtOwRCznS1n5cIghBBCFGbXY2I4Y7r441QvlNr5uvhrJP79j2llBMWO+r16E3y/7VUfun09kjYl89nIxxlf5BBTKoru8VbILfjAVYhMRTL5hGS2zPyJw6kZcwE0Lq1dyMoLOf34U9g65yei04yADq+wjjTKZUkn1bs2NbxVMJxhyYylWZb2SMeQ8f+KHnv73A6bcuf3/dA/dCXHE9EdOnw6jGfuwHQmvTueLaevcSX+GDGxZ0nK8007FQfvYKr5uT1EefGcOPLSG92opP3Frwuj81QcQLu0mp9WJphvIOgo1+E1XnHJ+ow0Dq/bQrwBQId7qzfoVDqn465ioct4XIdFlrO16lmNoFLmB3KY76va6ckY2avIiVkIIYQocGmH17HFdPFH596KNzqVzjFYVS10mY/rslz8U/euZ+sF0zqeVpXe4MsP6uVczVYtQeiwSfRN+YnZh++OXJSsoZhy78aPFl/cJiVVM69b74RLsXv3b+vlScbDOt3DxSfpdwJX9Pb2RTXgF8+gIvtdNMTMZfYm89AMQzzLf17P9Vyem3ZwOsNnxpBiBJ1nKyJ6+uVwR8mWmj3DCbYwcHLhZ4zJOnRUu8HFy7fMJ4ryBAZmLICiJyC0Ht6Zy73YZc5TVGxssc3h6FrbWJtPaErOOaaVHn1GRmhheU87VZ/XGPNlG3ycylCrSV0Cfbwo7uKArS6vH6WKe8uxrNmynN82bGHBgKp53C53ugq9eLuVO8a/N7Mhz3MrbrJ95SYyitiqbs1469WAu97vrR2R/LjLtBaX6tiQwRM+pK7r3e/TIbg33eqb54copfCvlGV9nJQU0jTTDQqdXyu6N3S+c6FyDabzoB5UtwBQsHV0Mk3R0MlqXEIIIUSBubWDyB93cd108afh4Al8WDfbsmwOwfTuVt+c4CmU8q9E5tU/eRMzog5zywgotlR5M5JfJvSjWSVXrFVAp8e7ZjhDZi5mWsszjBu1LNs64ip2ej0687719jn0WDxSfJHKsWOnzeuMBtH1raYUz3xz1pR+8R2+fTWQ25qpLS7eZXC6J8RTsba1NMc+FlhYZI8oNW5cvGw6BqiUDwzMXLpPHxBKPe8iG/6LZ0DR/fZp51kWuZR4g5H02MUsyF4t9S7X2DaqL4N+Pc5t7Kn13iQ+b146S6+fLb4dRvNNbx/OrRrG68NWcXetntvs23XA9CPWedBhxCQ+johg0Pi5jGpinTkXwdIvgHLmOaNq8fL4OWc/vPb4V/A2HXRFh1dZn3uSS331qlQw3+VSvHypkO2cZ+FVFm8bBV2plxk0ZRFrtu1m/+Fo4k6e5NS/ccQcPci+XZtZMX88H3WonMMJy5b6bVvgbaWgqE5Uaxd2n+OWB47V6PdlBNVsFbBzxNH6wZtkMF6/dmf9LsWaKm8O542ALONjtDgiB33KytPpGFFxrNGfeWuWMGFYf17vE8Gg0XP4fVooqSdTzGu/etB+8nZ2LPsfPfx1aOc3s26v6aaBYlGOHtNXsHDaeKbMWc62DeOou382S+NNd0dtGvRj0tjvmLVg+KMdDyGEEEI8Ao24yEF8uvI06UZQHWvQf94alkwYRv/X+xAxaDRzfp9GaOpJUkwXfzzaT2b7jmX8r4c/kMbhyR8y+o+LGIyAak/FtkP4Ye0BYuNiOXY8hh1LvuOtKicZ1/cDfjmT/aa5nuCg8pnrgHpXDiLbfe9HjC/SOLBwIXuTjaBY4NNlGquXz2TihB9YsHo7q0cFsuGzqRw0DQ3D/sURLFk4lSHNve8E7aoHgQHu5njSEZ+yJe4J6G/v28UBU+CKR4cRTPo4gohB45k7qgnW+S2hIcRjpLO2tv4s44+aNWvSqFEjZs6cyeXLlwuyXXmSduY0dk3aY7t0KBN2X8lxseFMhsscXb2EzWesKBVYj5Y9/0OXpjWpUS+MLv0H83aIgQ3fDKDfqFWcumfOopGk2BNY1GlG7ZK2WBbzpWbdACx2jWHAiHVoDd9k0Dv9+fD9TgTaq6YS39Y+1A+rR6UKnqTH/MkF/958NnwEES180KsKoFKielNCAsvicHk/+xIr0O3zL/hiQBt8zftQ9RVpGBqEj+U5du2PJxUwxB/kSGoZqlUtRzFrNcuwEAVVZ4mVjR16x2J4lKlEnbAOvOiwn2VbTnE78+AYSHWrR4fGZbAhlRPLJxO5/sRDHH2Vch2/4odJwwiv7IAKqMWq06JNY2pXsiBm/UEu5PKB6BsMYPznH/Lu/7XCT3/nPSg23jTs0I5GvqkcWmva3njlCKtWH0LzCiSwrCt6x5IE1GhAaON6VNDtZcI7g9jj15uwkufYvTyKKWM+5b9fRbHbtDGH9p3Hu34D/ItZoVo54+VbBv2Z1YzpP4Cx6w5xzTOMNi+4YWnpjLfHDVYMH8a2EwV3VnZ3d6dHjx5s2LCB/fv3F1g7hBACoEOHDpQoUYKpU6cWdFPE88R4hSOrVnNI8yIwsCyuekdKBtSgQWhj6lXQsXfCOwza40fvsJKc272cqClj+PS/XxG1+4Jpe8MF9q5czzErHyoHeONkpaKgoFpYoks7x86oL+gXMZxlx7J0XFgG0fnj93i732D6hZXGRlEABVvfEFo2CiagcmVKJB3g4NmUR44vjJf2sv3fYtSoVxl3O0vs3cvjX7EkxqNRDO47jCUJAbTvWx+bw2tZMHMaU6d+z8+7zqPpKtFx6GA+GDSY3jWLYaFg6syo3YyGlSvgZ5fIjiOmAkvGpFhOWNShWe2S2FoWw7dmXQIsdjFmwAjWJBTGgpriWRQWFkZgYCBjx47NfExxcHDITBEiIiL45JNPCAkJIS4urkAamT8qzoG1KJ2wm4P5qjJmhZtfEJXKuuOoJnP+xFEORJ/nfn2nAOhc8a9Xm/J2SZw+9BcHz+ZSNfeJssWv/WeMbHaC777diepVEo8SrhRzckJva42VlQWW1nqcS5ShUq06BBc/yqgm7ZlyXLtrH961Qwm2O862zdHZljgpvKyK+1O9SjncbFK5fPIw+44kcAsVd/8qWJ46wJncckadM2WqVCXAU+VSzB72HM9SkEl1wrd2XSo6XuXvHbs5fr1gD0ZQUBArV65k6NChREZGFmhbhBBi7ty5BAYGUrXqo0/REOKhWBXHv3oVyrnZkHr5JIf3HSHhFqju/lSxPMWBXC/+ZnYlCawaQBkXHVfP/EPMP6e4dOsxXesfMb5Q9d4E1apCSfUC/+w/SNwlcySq88Cv7G2OxeVvmZkcGoirfz1ql7cj6fQh/jp4loKIXMXza9y4cYSHh+Pl5ZX5WBFcaiUrjatHdnI139ulcjH2L7bE5nMzwyWi/1hBdL5f73FxoHq/H/jxtSS+aD2EnfEaRO/L/enWgXyweBZ+5SzheNbU+hand63g9BNv7+OVeiGanRuyH32NxOgD99/QcJWT+zdxMqeORO0acTtWURRutQghhBDPndQLRO/ccE/spSVG84Crv8nNsxzZfpYjT6BpjxpfaMmn2b/xNPdsbkgg9rEEJgYuRf/BioILXIW4RxFPPp8nKm7Nv2DaR3VJn9edZfF5uBeWlkjChXNwNv3JN08IIYQQQggh7qPoFhx63qguvNK1BZ46BXuvMlkqo+W6AcVD36O9tpBF0TK2XwghhBBCCFGwJPksKrTbXLmabKr62vi/RE3qT/PKxbmnuKzqSOmarXn7m0X88m46U4ZEcaKIzOkUQgghhBBCPLtk2G2RkcyqMZ+yKOhrwn31VGg9mO9bfUjKtUTiE6+QnKZirXeihKc7jsZzbJs1kj6dfiNWymkLIYQQQgghCgFJPosQ7dRi3m1+iBW9+tCteX2CynlR3MmTsk7upCWd59jhv1iyYDUL5//O/gtpBd1cIYQQQgghhMgkyWdRkxzH2ilDWDvF9KfOzhE7ww2SUmRsrRBCCCGEEKLwkuSziDPcvE5SQTdCCCGEEEIIIR5ACg4JIYQQQgghhHjiJPkUQgghhBBCCPHEKQ4ODsaMPywtLfn2228JCwsryDYJIYQQQgghhCjiOnfuzL59+zL/vmvOZ6lSpUhPT2fbtm2kp6c/9cYJ8byzsrLC1dWVa9eucfOmrJMjhChYxYoVw8LCgvPnzxd0U4QQQhQxzs7OBAYG3pV83tXzGRERwSeffEJISAhxcXEF0kghnmdBQUGsXLmSoUOHEhkZWdDNEUI85+bOnUtgYCBVq1Yt6KYIIYQoYsaNG0d4eDheXl6Zj8mcTyGEEEIIIYQQT5wkn0IIIR6aqnfCQa4kQgghhMiD/weJRrovu7NHoAAAAABJRU5ErkJggg==)"
   ]
  },
  {
   "cell_type": "code",
   "execution_count": 33,
   "id": "MEifMZWe0DCM",
   "metadata": {
    "id": "MEifMZWe0DCM"
   },
   "outputs": [
    {
     "name": "stdout",
     "output_type": "stream",
     "text": [
      "Classification report for Voting ensemble model\n",
      "              precision    recall  f1-score   support\n",
      "\n",
      "           0       0.83      0.99      0.90       285\n",
      "           1       0.00      0.00      0.00        58\n",
      "\n",
      "    accuracy                           0.83       343\n",
      "   macro avg       0.41      0.50      0.45       343\n",
      "weighted avg       0.69      0.83      0.75       343\n",
      "\n"
     ]
    },
    {
     "data": {
      "image/png": "[encoded data removed]",
      "text/plain": [
       "<Figure size 432x288 with 2 Axes>"
      ]
     },
     "metadata": {
      "needs_background": "light"
     },
     "output_type": "display_data"
    }
   ],
   "source": [
    "from sklearn.ensemble import VotingClassifier\n",
    "svm_voting = SVC(kernel='rbf', C=3)\n",
    "lr_voting = LogisticRegression(solver='liblinear', random_state=0, max_iter=1000)\n",
    "dt_voting = DecisionTreeClassifier()\n",
    "rf_voting = RandomForestClassifier()\n",
    "gb_voting = GradientBoostingClassifier()\n",
    "\n",
    "voters = [\n",
    "          ('svm', svm_voting), \n",
    "          ('lr', lr_voting), \n",
    "          ('dt', dt_voting), \n",
    "          ('rf', rf_voting), \n",
    "          ('gb', gb_voting)]\n",
    "\n",
    "v_clf = VotingClassifier(voters)\n",
    "\n",
    "v_clf.fit(X_train, Y_train)\n",
    "\n",
    "Y_pred_ve = v_clf.predict(X_val)\n",
    "\n",
    "conf_mat = confusion_matrix(Y_val, Y_pred_ve)\n",
    "df_cm = pd.DataFrame(conf_mat, index = [i for i in ['not depressed', 'depressed']],\n",
    "                  columns = [i for i in ['not depressed', 'depressed']])\n",
    "sn.heatmap(df_cm, annot=True, fmt='g')\n",
    "plt.title('Confusion Matrix')\n",
    "plt.plot()\n",
    "\n",
    "print(\"Classification report for Voting ensemble model\")\n",
    "print(classification_report(Y_val, Y_pred_ve))"
   ]
  }
 ],
 "metadata": {
  "colab": {
   "collapsed_sections": [],
   "name": "Implementing-Kenya-Paper.ipynb",
   "provenance": [],
   "toc_visible": true
  },
  "kernelspec": {
   "display_name": "Python 3 (ipykernel)",
   "language": "python",
   "name": "python3"
  },
  "language_info": {
   "codemirror_mode": {
    "name": "ipython",
    "version": 3
   },
   "file_extension": ".py",
   "mimetype": "text/x-python",
   "name": "python",
   "nbconvert_exporter": "python",
   "pygments_lexer": "ipython3",
   "version": "3.8.10"
  }
 },
 "nbformat": 4,
 "nbformat_minor": 5
}
